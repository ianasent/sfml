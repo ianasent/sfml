{
 "cells": [
  {
   "cell_type": "markdown",
   "metadata": {
    "toc": "true"
   },
   "source": [
    "# Table of Contents\n",
    " <p><div class=\"lev1 toc-item\"><a href=\"#Skillfactory---Практический-Machine-Learning\" data-toc-modified-id=\"Skillfactory---Практический-Machine-Learning-1\"><span class=\"toc-item-num\">1&nbsp;&nbsp;</span>Skillfactory - Практический Machine Learning</a></div><div class=\"lev2 toc-item\"><a href=\"#15/02/2018---Практика-с-линейной-регрессией\" data-toc-modified-id=\"15/02/2018---Практика-с-линейной-регрессией-11\"><span class=\"toc-item-num\">1.1&nbsp;&nbsp;</span>15/02/2018 - Практика с линейной регрессией</a></div><div class=\"lev2 toc-item\"><a href=\"#Описание-набора-данных:\" data-toc-modified-id=\"Описание-набора-данных:-12\"><span class=\"toc-item-num\">1.2&nbsp;&nbsp;</span>Описание набора данных:</a></div><div class=\"lev3 toc-item\"><a href=\"#Переменные:\" data-toc-modified-id=\"Переменные:-121\"><span class=\"toc-item-num\">1.2.1&nbsp;&nbsp;</span>Переменные:</a></div><div class=\"lev3 toc-item\"><a href=\"#Постановка-задачи:-\" data-toc-modified-id=\"Постановка-задачи:--122\"><span class=\"toc-item-num\">1.2.2&nbsp;&nbsp;</span>Постановка задачи: <br></a></div><div class=\"lev3 toc-item\"><a href=\"#Предобработка-данных:\" data-toc-modified-id=\"Предобработка-данных:-123\"><span class=\"toc-item-num\">1.2.3&nbsp;&nbsp;</span>Предобработка данных:</a></div><div class=\"lev3 toc-item\"><a href=\"#Первичный-анализ-признаков:\" data-toc-modified-id=\"Первичный-анализ-признаков:-124\"><span class=\"toc-item-num\">1.2.4&nbsp;&nbsp;</span>Первичный анализ признаков:</a></div><div class=\"lev4 toc-item\"><a href=\"#Вещественные-признаки\" data-toc-modified-id=\"Вещественные-признаки-1241\"><span class=\"toc-item-num\">1.2.4.1&nbsp;&nbsp;</span>Вещественные признаки</a></div><div class=\"lev4 toc-item\"><a href=\"#Категориальные-признаки\" data-toc-modified-id=\"Категориальные-признаки-1242\"><span class=\"toc-item-num\">1.2.4.2&nbsp;&nbsp;</span>Категориальные признаки</a></div><div class=\"lev4 toc-item\"><a href=\"#Анализ-линейных-зависимостей-в-данных\" data-toc-modified-id=\"Анализ-линейных-зависимостей-в-данных-1243\"><span class=\"toc-item-num\">1.2.4.3&nbsp;&nbsp;</span>Анализ линейных зависимостей в данных</a></div><div class=\"lev4 toc-item\"><a href=\"#Распределение-некоторых-признаков\" data-toc-modified-id=\"Распределение-некоторых-признаков-1244\"><span class=\"toc-item-num\">1.2.4.4&nbsp;&nbsp;</span>Распределение некоторых признаков</a></div><div class=\"lev4 toc-item\"><a href=\"#Парные-распределения-с-целевыми-признаками\" data-toc-modified-id=\"Парные-распределения-с-целевыми-признаками-1245\"><span class=\"toc-item-num\">1.2.4.5&nbsp;&nbsp;</span>Парные распределения с целевыми признаками</a></div><div class=\"lev1 toc-item\"><a href=\"#Getting-hands-dirty\" data-toc-modified-id=\"Getting-hands-dirty-2\"><span class=\"toc-item-num\">2&nbsp;&nbsp;</span>Getting hands dirty</a></div><div class=\"lev3 toc-item\"><a href=\"#Задание-(0.25)\" data-toc-modified-id=\"Задание-(0.25)-201\"><span class=\"toc-item-num\">2.0.1&nbsp;&nbsp;</span>Задание (0.25)</a></div><div class=\"lev3 toc-item\"><a href=\"#Задание-(0.25)\" data-toc-modified-id=\"Задание-(0.25)-202\"><span class=\"toc-item-num\">2.0.2&nbsp;&nbsp;</span>Задание (0.25)</a></div><div class=\"lev2 toc-item\"><a href=\"#Baseline-modelling\" data-toc-modified-id=\"Baseline-modelling-21\"><span class=\"toc-item-num\">2.1&nbsp;&nbsp;</span>Baseline modelling</a></div><div class=\"lev3 toc-item\"><a href=\"#Задание-(0.10)\" data-toc-modified-id=\"Задание-(0.10)-211\"><span class=\"toc-item-num\">2.1.1&nbsp;&nbsp;</span>Задание (0.10)</a></div><div class=\"lev3 toc-item\"><a href=\"#Задание-(0.15)\" data-toc-modified-id=\"Задание-(0.15)-212\"><span class=\"toc-item-num\">2.1.2&nbsp;&nbsp;</span>Задание (0.15)</a></div><div class=\"lev3 toc-item\"><a href=\"#Задание-(0.25)\" data-toc-modified-id=\"Задание-(0.25)-213\"><span class=\"toc-item-num\">2.1.3&nbsp;&nbsp;</span>Задание (0.25)</a></div>"
   ]
  },
  {
   "cell_type": "markdown",
   "metadata": {},
   "source": [
    "# Skillfactory - Практический Machine Learning\n",
    "## 15/02/2018 - Практика с линейной регрессией\n",
    "\n",
    "<center> Шестаков Андрей </center>"
   ]
  },
  {
   "cell_type": "markdown",
   "metadata": {},
   "source": [
    "Данные: <a href=\"https://www.kaggle.com/c/bike-sharing-demand\">Bike Sharing Demand</a>.\n"
   ]
  },
  {
   "cell_type": "code",
   "execution_count": 1,
   "metadata": {
    "collapsed": true
   },
   "outputs": [],
   "source": [
    "import seaborn as sns\n",
    "import datetime as dt\n",
    "import pandas as pd\n",
    "import numpy as np\n",
    "import matplotlib.pyplot as plt\n",
    "from sklearn.preprocessing import OneHotEncoder\n",
    "\n",
    "%matplotlib inline"
   ]
  },
  {
   "cell_type": "code",
   "execution_count": 2,
   "metadata": {
    "collapsed": false
   },
   "outputs": [
    {
     "data": {
      "text/html": [
       "<div>\n",
       "<table border=\"1\" class=\"dataframe\">\n",
       "  <thead>\n",
       "    <tr style=\"text-align: right;\">\n",
       "      <th></th>\n",
       "      <th>datetime</th>\n",
       "      <th>season</th>\n",
       "      <th>holiday</th>\n",
       "      <th>workingday</th>\n",
       "      <th>weather</th>\n",
       "      <th>temp</th>\n",
       "      <th>atemp</th>\n",
       "      <th>humidity</th>\n",
       "      <th>windspeed</th>\n",
       "      <th>casual</th>\n",
       "      <th>registered</th>\n",
       "      <th>count</th>\n",
       "    </tr>\n",
       "  </thead>\n",
       "  <tbody>\n",
       "    <tr>\n",
       "      <th>0</th>\n",
       "      <td>2011-01-01 00:00:00</td>\n",
       "      <td>1</td>\n",
       "      <td>0</td>\n",
       "      <td>0</td>\n",
       "      <td>1</td>\n",
       "      <td>9.84</td>\n",
       "      <td>14.395</td>\n",
       "      <td>81</td>\n",
       "      <td>0.0</td>\n",
       "      <td>3</td>\n",
       "      <td>13</td>\n",
       "      <td>16</td>\n",
       "    </tr>\n",
       "    <tr>\n",
       "      <th>1</th>\n",
       "      <td>2011-01-01 01:00:00</td>\n",
       "      <td>1</td>\n",
       "      <td>0</td>\n",
       "      <td>0</td>\n",
       "      <td>1</td>\n",
       "      <td>9.02</td>\n",
       "      <td>13.635</td>\n",
       "      <td>80</td>\n",
       "      <td>0.0</td>\n",
       "      <td>8</td>\n",
       "      <td>32</td>\n",
       "      <td>40</td>\n",
       "    </tr>\n",
       "    <tr>\n",
       "      <th>2</th>\n",
       "      <td>2011-01-01 02:00:00</td>\n",
       "      <td>1</td>\n",
       "      <td>0</td>\n",
       "      <td>0</td>\n",
       "      <td>1</td>\n",
       "      <td>9.02</td>\n",
       "      <td>13.635</td>\n",
       "      <td>80</td>\n",
       "      <td>0.0</td>\n",
       "      <td>5</td>\n",
       "      <td>27</td>\n",
       "      <td>32</td>\n",
       "    </tr>\n",
       "    <tr>\n",
       "      <th>3</th>\n",
       "      <td>2011-01-01 03:00:00</td>\n",
       "      <td>1</td>\n",
       "      <td>0</td>\n",
       "      <td>0</td>\n",
       "      <td>1</td>\n",
       "      <td>9.84</td>\n",
       "      <td>14.395</td>\n",
       "      <td>75</td>\n",
       "      <td>0.0</td>\n",
       "      <td>3</td>\n",
       "      <td>10</td>\n",
       "      <td>13</td>\n",
       "    </tr>\n",
       "    <tr>\n",
       "      <th>4</th>\n",
       "      <td>2011-01-01 04:00:00</td>\n",
       "      <td>1</td>\n",
       "      <td>0</td>\n",
       "      <td>0</td>\n",
       "      <td>1</td>\n",
       "      <td>9.84</td>\n",
       "      <td>14.395</td>\n",
       "      <td>75</td>\n",
       "      <td>0.0</td>\n",
       "      <td>0</td>\n",
       "      <td>1</td>\n",
       "      <td>1</td>\n",
       "    </tr>\n",
       "  </tbody>\n",
       "</table>\n",
       "</div>"
      ],
      "text/plain": [
       "              datetime  season  holiday  workingday  weather  temp   atemp  \\\n",
       "0  2011-01-01 00:00:00       1        0           0        1  9.84  14.395   \n",
       "1  2011-01-01 01:00:00       1        0           0        1  9.02  13.635   \n",
       "2  2011-01-01 02:00:00       1        0           0        1  9.02  13.635   \n",
       "3  2011-01-01 03:00:00       1        0           0        1  9.84  14.395   \n",
       "4  2011-01-01 04:00:00       1        0           0        1  9.84  14.395   \n",
       "\n",
       "   humidity  windspeed  casual  registered  count  \n",
       "0        81        0.0       3          13     16  \n",
       "1        80        0.0       8          32     40  \n",
       "2        80        0.0       5          27     32  \n",
       "3        75        0.0       3          10     13  \n",
       "4        75        0.0       0           1      1  "
      ]
     },
     "execution_count": 2,
     "metadata": {},
     "output_type": "execute_result"
    }
   ],
   "source": [
    "df = pd.read_csv('data/train_bikes.csv')\n",
    "\n",
    "df.head()"
   ]
  },
  {
   "cell_type": "markdown",
   "metadata": {},
   "source": [
    "## Описание набора данных:\n",
    "Набор данных предоставляет информацию о почасовой аренде велосипедов в течение двух лет в Вашингтоне, округ Колумбия. Для аренды использовались специальные киоски, которые давали возможность случайным прохожим и постоянным клиентам(имеющим регистрацию) взять велосипед на прокат. Данный процесс автоматизирован.\n",
    "\n",
    "Данные в тренеровочной выборке собраны за 2 года с 1 по 19 число каждого месяца. В конечном счете требуется предсказать спрос на остальные дни месяца."
   ]
  },
  {
   "cell_type": "markdown",
   "metadata": {},
   "source": [
    "### Переменные:\n",
    "- *datatime:* метка времени + дата, к который относится каждый час суток\n",
    "- *season:* сезон\n",
    "  1. весна\n",
    "  2. лето\n",
    "  3. осень\n",
    "  4. зима\n",
    "  \n",
    "  \n",
    "- *holiday:* считается ли день праздником. В исходных данных \n",
    "  0. нет\n",
    "  1. да\n",
    "  \n",
    "  \n",
    "- *weather:* погода\n",
    "\n",
    "  1. ясно, небольшая облачность, частичная облачность\n",
    "  2. туман + облачность, туман + разорванные облака, туман + небольшая облачность, туман\n",
    "  3. легкий снег, дождь + гроза + переменная облачность, небольшой дождь + вероятна облачность\n",
    "  4. сильный дождь + ледяной дождь + гроза + туман, снег + тумат\n",
    "  \n",
    "  \n",
    "- *temp:* температура в градусах Цельсия (показания датчиков)\n",
    "- *atemp:* \"Ощущаемая\" температура в градусах Цельсия \n",
    "- *humidity:* относительная влажность\n",
    "- *windspeed:* скорость ветра\n",
    "- *workingday:* отметка, если день не выходной и не праздник  \n",
    "- *casual:* количество незарегистрированных пользователей аренды\n",
    "- *registered:* количество зарегистрированных пользователей аренды\n",
    "- *count:* общее количество аренды"
   ]
  },
  {
   "cell_type": "markdown",
   "metadata": {},
   "source": [
    "### Постановка задачи: <br>\n",
    "Необходимо спрогнозировать спрос на велосипеды (признаки casual, registred, count).\n",
    "\n",
    "Разработанная модель может помочь выявить наиболее значимые признаки в прогнозировании спроса на прокатные велосипеды разных типов пользователей.\n",
    "\n",
    "* casual - это незарегестрированные пользователи, которые, возможно, редко пользуются прокатом и им не выгодно оформлять абонемент\n",
    "* registred - это пользователи, которые завели себе абонемент\n",
    "* count - registred+casual\n",
    "\n",
    "Соответственно целевой переменной может быть любое из этих вариантов\n",
    "\n",
    "Качество оценивается c помощью Root Mean Squared Logarithmic Error (RMSLE) - то есть недопрогноз в данном случае хуже, чем перепрогноз"
   ]
  },
  {
   "cell_type": "markdown",
   "metadata": {},
   "source": [
    "### Предобработка данных:"
   ]
  },
  {
   "cell_type": "markdown",
   "metadata": {},
   "source": [
    "Бинарные признаки уже закодированы. <br> \n",
    "К категориальным переменным можно применить  One-hot encoding <br>\n",
    "Можно отдельно выделить признаки для \"времени дня\", \"месяца\" и дня недели"
   ]
  },
  {
   "cell_type": "code",
   "execution_count": 3,
   "metadata": {
    "collapsed": true
   },
   "outputs": [],
   "source": [
    "def get_date_features(df):\n",
    "    df['datetime'] = pd.to_datetime(df['datetime'], format='%Y-%m-%d %H:%M')\n",
    "    df['year'] = df.loc[:, 'datetime'].dt.year\n",
    "    df['month'] = df.loc[:, 'datetime'].dt.month\n",
    "    df['day'] = df.loc[:, 'datetime'].dt.day\n",
    "    df['hour'] = df.loc[:, 'datetime'].dt.hour\n",
    "    df['weekday'] = df.loc[:, 'datetime'].dt.weekday\n",
    "    \n",
    "    return df"
   ]
  },
  {
   "cell_type": "code",
   "execution_count": 4,
   "metadata": {
    "collapsed": true
   },
   "outputs": [],
   "source": [
    "df = df.pipe(get_date_features)"
   ]
  },
  {
   "cell_type": "markdown",
   "metadata": {},
   "source": [
    "### Первичный анализ признаков:"
   ]
  },
  {
   "cell_type": "markdown",
   "metadata": {},
   "source": [
    "Основные характеристики переменных и их описание."
   ]
  },
  {
   "cell_type": "markdown",
   "metadata": {},
   "source": [
    "#### Вещественные признаки"
   ]
  },
  {
   "cell_type": "code",
   "execution_count": 5,
   "metadata": {
    "collapsed": false
   },
   "outputs": [
    {
     "name": "stdout",
     "output_type": "stream",
     "text": [
      "(10886, 17)\n"
     ]
    },
    {
     "data": {
      "text/html": [
       "<div>\n",
       "<table border=\"1\" class=\"dataframe\">\n",
       "  <thead>\n",
       "    <tr style=\"text-align: right;\">\n",
       "      <th></th>\n",
       "      <th>count</th>\n",
       "      <th>mean</th>\n",
       "      <th>std</th>\n",
       "      <th>min</th>\n",
       "      <th>25%</th>\n",
       "      <th>50%</th>\n",
       "      <th>75%</th>\n",
       "      <th>max</th>\n",
       "    </tr>\n",
       "  </thead>\n",
       "  <tbody>\n",
       "    <tr>\n",
       "      <th>season</th>\n",
       "      <td>10886.0</td>\n",
       "      <td>2.506614</td>\n",
       "      <td>1.116174</td>\n",
       "      <td>1.00</td>\n",
       "      <td>2.0000</td>\n",
       "      <td>3.000</td>\n",
       "      <td>4.0000</td>\n",
       "      <td>4.0000</td>\n",
       "    </tr>\n",
       "    <tr>\n",
       "      <th>holiday</th>\n",
       "      <td>10886.0</td>\n",
       "      <td>0.028569</td>\n",
       "      <td>0.166599</td>\n",
       "      <td>0.00</td>\n",
       "      <td>0.0000</td>\n",
       "      <td>0.000</td>\n",
       "      <td>0.0000</td>\n",
       "      <td>1.0000</td>\n",
       "    </tr>\n",
       "    <tr>\n",
       "      <th>workingday</th>\n",
       "      <td>10886.0</td>\n",
       "      <td>0.680875</td>\n",
       "      <td>0.466159</td>\n",
       "      <td>0.00</td>\n",
       "      <td>0.0000</td>\n",
       "      <td>1.000</td>\n",
       "      <td>1.0000</td>\n",
       "      <td>1.0000</td>\n",
       "    </tr>\n",
       "    <tr>\n",
       "      <th>weather</th>\n",
       "      <td>10886.0</td>\n",
       "      <td>1.418427</td>\n",
       "      <td>0.633839</td>\n",
       "      <td>1.00</td>\n",
       "      <td>1.0000</td>\n",
       "      <td>1.000</td>\n",
       "      <td>2.0000</td>\n",
       "      <td>4.0000</td>\n",
       "    </tr>\n",
       "    <tr>\n",
       "      <th>temp</th>\n",
       "      <td>10886.0</td>\n",
       "      <td>20.230860</td>\n",
       "      <td>7.791590</td>\n",
       "      <td>0.82</td>\n",
       "      <td>13.9400</td>\n",
       "      <td>20.500</td>\n",
       "      <td>26.2400</td>\n",
       "      <td>41.0000</td>\n",
       "    </tr>\n",
       "    <tr>\n",
       "      <th>atemp</th>\n",
       "      <td>10886.0</td>\n",
       "      <td>23.655084</td>\n",
       "      <td>8.474601</td>\n",
       "      <td>0.76</td>\n",
       "      <td>16.6650</td>\n",
       "      <td>24.240</td>\n",
       "      <td>31.0600</td>\n",
       "      <td>45.4550</td>\n",
       "    </tr>\n",
       "    <tr>\n",
       "      <th>humidity</th>\n",
       "      <td>10886.0</td>\n",
       "      <td>61.886460</td>\n",
       "      <td>19.245033</td>\n",
       "      <td>0.00</td>\n",
       "      <td>47.0000</td>\n",
       "      <td>62.000</td>\n",
       "      <td>77.0000</td>\n",
       "      <td>100.0000</td>\n",
       "    </tr>\n",
       "    <tr>\n",
       "      <th>windspeed</th>\n",
       "      <td>10886.0</td>\n",
       "      <td>12.799395</td>\n",
       "      <td>8.164537</td>\n",
       "      <td>0.00</td>\n",
       "      <td>7.0015</td>\n",
       "      <td>12.998</td>\n",
       "      <td>16.9979</td>\n",
       "      <td>56.9969</td>\n",
       "    </tr>\n",
       "    <tr>\n",
       "      <th>casual</th>\n",
       "      <td>10886.0</td>\n",
       "      <td>36.021955</td>\n",
       "      <td>49.960477</td>\n",
       "      <td>0.00</td>\n",
       "      <td>4.0000</td>\n",
       "      <td>17.000</td>\n",
       "      <td>49.0000</td>\n",
       "      <td>367.0000</td>\n",
       "    </tr>\n",
       "    <tr>\n",
       "      <th>registered</th>\n",
       "      <td>10886.0</td>\n",
       "      <td>155.552177</td>\n",
       "      <td>151.039033</td>\n",
       "      <td>0.00</td>\n",
       "      <td>36.0000</td>\n",
       "      <td>118.000</td>\n",
       "      <td>222.0000</td>\n",
       "      <td>886.0000</td>\n",
       "    </tr>\n",
       "    <tr>\n",
       "      <th>count</th>\n",
       "      <td>10886.0</td>\n",
       "      <td>191.574132</td>\n",
       "      <td>181.144454</td>\n",
       "      <td>1.00</td>\n",
       "      <td>42.0000</td>\n",
       "      <td>145.000</td>\n",
       "      <td>284.0000</td>\n",
       "      <td>977.0000</td>\n",
       "    </tr>\n",
       "    <tr>\n",
       "      <th>year</th>\n",
       "      <td>10886.0</td>\n",
       "      <td>2011.501929</td>\n",
       "      <td>0.500019</td>\n",
       "      <td>2011.00</td>\n",
       "      <td>2011.0000</td>\n",
       "      <td>2012.000</td>\n",
       "      <td>2012.0000</td>\n",
       "      <td>2012.0000</td>\n",
       "    </tr>\n",
       "    <tr>\n",
       "      <th>month</th>\n",
       "      <td>10886.0</td>\n",
       "      <td>6.521495</td>\n",
       "      <td>3.444373</td>\n",
       "      <td>1.00</td>\n",
       "      <td>4.0000</td>\n",
       "      <td>7.000</td>\n",
       "      <td>10.0000</td>\n",
       "      <td>12.0000</td>\n",
       "    </tr>\n",
       "    <tr>\n",
       "      <th>day</th>\n",
       "      <td>10886.0</td>\n",
       "      <td>9.992559</td>\n",
       "      <td>5.476608</td>\n",
       "      <td>1.00</td>\n",
       "      <td>5.0000</td>\n",
       "      <td>10.000</td>\n",
       "      <td>15.0000</td>\n",
       "      <td>19.0000</td>\n",
       "    </tr>\n",
       "    <tr>\n",
       "      <th>hour</th>\n",
       "      <td>10886.0</td>\n",
       "      <td>11.541613</td>\n",
       "      <td>6.915838</td>\n",
       "      <td>0.00</td>\n",
       "      <td>6.0000</td>\n",
       "      <td>12.000</td>\n",
       "      <td>18.0000</td>\n",
       "      <td>23.0000</td>\n",
       "    </tr>\n",
       "    <tr>\n",
       "      <th>weekday</th>\n",
       "      <td>10886.0</td>\n",
       "      <td>3.013963</td>\n",
       "      <td>2.004585</td>\n",
       "      <td>0.00</td>\n",
       "      <td>1.0000</td>\n",
       "      <td>3.000</td>\n",
       "      <td>5.0000</td>\n",
       "      <td>6.0000</td>\n",
       "    </tr>\n",
       "  </tbody>\n",
       "</table>\n",
       "</div>"
      ],
      "text/plain": [
       "              count         mean         std      min        25%       50%  \\\n",
       "season      10886.0     2.506614    1.116174     1.00     2.0000     3.000   \n",
       "holiday     10886.0     0.028569    0.166599     0.00     0.0000     0.000   \n",
       "workingday  10886.0     0.680875    0.466159     0.00     0.0000     1.000   \n",
       "weather     10886.0     1.418427    0.633839     1.00     1.0000     1.000   \n",
       "temp        10886.0    20.230860    7.791590     0.82    13.9400    20.500   \n",
       "atemp       10886.0    23.655084    8.474601     0.76    16.6650    24.240   \n",
       "humidity    10886.0    61.886460   19.245033     0.00    47.0000    62.000   \n",
       "windspeed   10886.0    12.799395    8.164537     0.00     7.0015    12.998   \n",
       "casual      10886.0    36.021955   49.960477     0.00     4.0000    17.000   \n",
       "registered  10886.0   155.552177  151.039033     0.00    36.0000   118.000   \n",
       "count       10886.0   191.574132  181.144454     1.00    42.0000   145.000   \n",
       "year        10886.0  2011.501929    0.500019  2011.00  2011.0000  2012.000   \n",
       "month       10886.0     6.521495    3.444373     1.00     4.0000     7.000   \n",
       "day         10886.0     9.992559    5.476608     1.00     5.0000    10.000   \n",
       "hour        10886.0    11.541613    6.915838     0.00     6.0000    12.000   \n",
       "weekday     10886.0     3.013963    2.004585     0.00     1.0000     3.000   \n",
       "\n",
       "                  75%        max  \n",
       "season         4.0000     4.0000  \n",
       "holiday        0.0000     1.0000  \n",
       "workingday     1.0000     1.0000  \n",
       "weather        2.0000     4.0000  \n",
       "temp          26.2400    41.0000  \n",
       "atemp         31.0600    45.4550  \n",
       "humidity      77.0000   100.0000  \n",
       "windspeed     16.9979    56.9969  \n",
       "casual        49.0000   367.0000  \n",
       "registered   222.0000   886.0000  \n",
       "count        284.0000   977.0000  \n",
       "year        2012.0000  2012.0000  \n",
       "month         10.0000    12.0000  \n",
       "day           15.0000    19.0000  \n",
       "hour          18.0000    23.0000  \n",
       "weekday        5.0000     6.0000  "
      ]
     },
     "execution_count": 5,
     "metadata": {},
     "output_type": "execute_result"
    }
   ],
   "source": [
    "print(df.shape)\n",
    "df.describe().T"
   ]
  },
  {
   "cell_type": "markdown",
   "metadata": {},
   "source": [
    "#### Категориальные признаки"
   ]
  },
  {
   "cell_type": "code",
   "execution_count": 6,
   "metadata": {
    "collapsed": false
   },
   "outputs": [
    {
     "name": "stdout",
     "output_type": "stream",
     "text": [
      "\n",
      "holiday\n",
      "0    10575\n",
      "1      311\n",
      "Name: holiday, dtype: int64\n",
      "_____________________________________________\n",
      "\n",
      "season\n",
      "4    2734\n",
      "3    2733\n",
      "2    2733\n",
      "1    2686\n",
      "Name: season, dtype: int64\n",
      "_____________________________________________\n",
      "\n",
      "weather\n",
      "1    7192\n",
      "2    2834\n",
      "3     859\n",
      "4       1\n",
      "Name: weather, dtype: int64\n",
      "_____________________________________________\n",
      "\n",
      "workingday\n",
      "1    7412\n",
      "0    3474\n",
      "Name: workingday, dtype: int64\n",
      "_____________________________________________\n"
     ]
    }
   ],
   "source": [
    "for i in [\"holiday\", \"season\", \"weather\", \"workingday\"]:\n",
    "    print('')\n",
    "    print(i)\n",
    "    print(df[i].value_counts())\n",
    "    print('_____________________________________________')"
   ]
  },
  {
   "cell_type": "code",
   "execution_count": 7,
   "metadata": {
    "collapsed": false
   },
   "outputs": [
    {
     "name": "stdout",
     "output_type": "stream",
     "text": [
      "\n",
      "holiday\n",
      "0    10575\n",
      "1      311\n",
      "Name: holiday, dtype: int64\n",
      "_____________________________________________\n",
      "\n",
      "season\n",
      "4    2734\n",
      "3    2733\n",
      "2    2733\n",
      "1    2686\n",
      "Name: season, dtype: int64\n",
      "_____________________________________________\n",
      "\n",
      "weather\n",
      "1    7192\n",
      "2    2834\n",
      "3     859\n",
      "4       1\n",
      "Name: weather, dtype: int64\n",
      "_____________________________________________\n",
      "\n",
      "workingday\n",
      "1    7412\n",
      "0    3474\n",
      "Name: workingday, dtype: int64\n",
      "_____________________________________________\n",
      "\n",
      "temp\n",
      "14.76    467\n",
      "26.24    453\n",
      "28.70    427\n",
      "13.94    413\n",
      "18.86    406\n",
      "22.14    403\n",
      "25.42    403\n",
      "16.40    400\n",
      "22.96    395\n",
      "27.06    394\n",
      "24.60    390\n",
      "12.30    385\n",
      "21.32    362\n",
      "13.12    356\n",
      "17.22    356\n",
      "29.52    353\n",
      "10.66    332\n",
      "18.04    328\n",
      "20.50    327\n",
      "30.34    299\n",
      "9.84     294\n",
      "15.58    255\n",
      "9.02     248\n",
      "31.16    242\n",
      "8.20     229\n",
      "27.88    224\n",
      "23.78    203\n",
      "32.80    202\n",
      "11.48    181\n",
      "19.68    170\n",
      "6.56     146\n",
      "33.62    130\n",
      "5.74     107\n",
      "7.38     106\n",
      "31.98     98\n",
      "34.44     80\n",
      "35.26     76\n",
      "4.92      60\n",
      "36.90     46\n",
      "4.10      44\n",
      "37.72     34\n",
      "36.08     23\n",
      "3.28      11\n",
      "38.54      7\n",
      "0.82       7\n",
      "39.36      6\n",
      "2.46       5\n",
      "1.64       2\n",
      "41.00      1\n",
      "Name: temp, dtype: int64\n",
      "_____________________________________________\n",
      "\n",
      "humidity\n",
      "88    368\n",
      "94    324\n",
      "83    316\n",
      "87    289\n",
      "70    259\n",
      "65    253\n",
      "46    247\n",
      "66    246\n",
      "77    244\n",
      "49    234\n",
      "55    224\n",
      "52    218\n",
      "56    208\n",
      "69    207\n",
      "93    205\n",
      "61    205\n",
      "62    202\n",
      "82    200\n",
      "74    197\n",
      "73    195\n",
      "43    193\n",
      "78    192\n",
      "50    190\n",
      "53    186\n",
      "41    184\n",
      "59    178\n",
      "81    174\n",
      "58    168\n",
      "40    167\n",
      "54    164\n",
      "     ... \n",
      "32     64\n",
      "28     61\n",
      "80     60\n",
      "30     60\n",
      "27     49\n",
      "86     40\n",
      "26     39\n",
      "23     37\n",
      "24     37\n",
      "25     32\n",
      "0      22\n",
      "22     18\n",
      "21     16\n",
      "19     15\n",
      "20     10\n",
      "16      8\n",
      "18      7\n",
      "17      6\n",
      "90      4\n",
      "15      4\n",
      "85      4\n",
      "92      2\n",
      "14      2\n",
      "8       1\n",
      "97      1\n",
      "13      1\n",
      "10      1\n",
      "12      1\n",
      "96      1\n",
      "91      1\n",
      "Name: humidity, dtype: int64\n",
      "_____________________________________________\n",
      "\n",
      "windspeed\n",
      "0.0000     1313\n",
      "8.9981     1120\n",
      "11.0014    1057\n",
      "12.9980    1042\n",
      "7.0015     1034\n",
      "15.0013     961\n",
      "6.0032      872\n",
      "16.9979     824\n",
      "19.0012     676\n",
      "19.9995     492\n",
      "22.0028     372\n",
      "23.9994     274\n",
      "26.0027     235\n",
      "27.9993     187\n",
      "30.0026     111\n",
      "31.0009      89\n",
      "32.9975      80\n",
      "35.0008      58\n",
      "39.0007      27\n",
      "36.9974      22\n",
      "43.0006      12\n",
      "40.9973      11\n",
      "43.9989       8\n",
      "46.0022       3\n",
      "56.9969       2\n",
      "47.9988       2\n",
      "50.0021       1\n",
      "51.9987       1\n",
      "Name: windspeed, dtype: int64\n",
      "_____________________________________________\n"
     ]
    }
   ],
   "source": [
    "for i in [\"holiday\", \"season\", \"weather\", \"workingday\", \"temp\", \"humidity\", \"windspeed\"]:\n",
    "    print('')\n",
    "    print(i)\n",
    "    print(df[i].value_counts())\n",
    "    print('_____________________________________________')"
   ]
  },
  {
   "cell_type": "markdown",
   "metadata": {},
   "source": [
    "**Вывод:** <br>\n",
    "Чаще велосипеды брали в ясную погоду. Присутствует редкая категория \"4\" в признаке \"weather\". <br>"
   ]
  },
  {
   "cell_type": "markdown",
   "metadata": {},
   "source": [
    "#### Анализ линейных зависимостей в данных"
   ]
  },
  {
   "cell_type": "markdown",
   "metadata": {},
   "source": [
    "Определим, есть ли переменные с высокой корреляцией."
   ]
  },
  {
   "cell_type": "code",
   "execution_count": 8,
   "metadata": {
    "collapsed": false
   },
   "outputs": [
    {
     "data": {
      "text/plain": [
       "<matplotlib.axes._subplots.AxesSubplot at 0x1e65e08b2b0>"
      ]
     },
     "execution_count": 8,
     "metadata": {},
     "output_type": "execute_result"
    },
    {
     "data": {
      "image/png": "[encoded data removed]",
      "text/plain": [
       "<matplotlib.figure.Figure at 0x1e65df1ea58>"
      ]
     },
     "metadata": {},
     "output_type": "display_data"
    }
   ],
   "source": [
    "f, ax = plt.subplots(figsize = (21, 21))\n",
    "sns.heatmap(df.corr(), ax = ax, annot=True)"
   ]
  },
  {
   "cell_type": "markdown",
   "metadata": {},
   "source": [
    "**Вывод:** <br>\n",
    "Наибольшую корреляцию имеют atemp и temp. Корреляция близка к 1, поэтому скорее всего придется оставить какую-то одну из переменных.\n",
    "\n",
    "В то же время, целевые переменные (count, registred и casual) в большей степени коррелированы именно с показтелями температуры"
   ]
  },
  {
   "cell_type": "markdown",
   "metadata": {},
   "source": [
    "#### Распределение некоторых признаков"
   ]
  },
  {
   "cell_type": "code",
   "execution_count": 9,
   "metadata": {
    "collapsed": false
   },
   "outputs": [
    {
     "name": "stderr",
     "output_type": "stream",
     "text": [
      "C:\\ProgramData\\Anaconda3\\lib\\site-packages\\statsmodels\\nonparametric\\kdetools.py:20: VisibleDeprecationWarning: using a non-integer number instead of an integer will result in an error in the future\n",
      "  y = X[:m/2+1] + np.r_[0,X[m/2+1:],0]*1j\n"
     ]
    },
    {
     "data": {
      "text/plain": [
       "<matplotlib.axes._subplots.AxesSubplot at 0x1e65ea4a908>"
      ]
     },
     "execution_count": 9,
     "metadata": {},
     "output_type": "execute_result"
    },
    {
     "data": {
      "image/png": "[encoded data removed]",
      "text/plain": [
       "<matplotlib.figure.Figure at 0x1e65e52d550>"
      ]
     },
     "metadata": {},
     "output_type": "display_data"
    }
   ],
   "source": [
    "sns.distplot(df['humidity'])"
   ]
  },
  {
   "cell_type": "code",
   "execution_count": 10,
   "metadata": {
    "collapsed": false
   },
   "outputs": [
    {
     "name": "stderr",
     "output_type": "stream",
     "text": [
      "C:\\ProgramData\\Anaconda3\\lib\\site-packages\\statsmodels\\nonparametric\\kdetools.py:20: VisibleDeprecationWarning: using a non-integer number instead of an integer will result in an error in the future\n",
      "  y = X[:m/2+1] + np.r_[0,X[m/2+1:],0]*1j\n"
     ]
    },
    {
     "data": {
      "text/plain": [
       "<matplotlib.axes._subplots.AxesSubplot at 0x1e65fab1cf8>"
      ]
     },
     "execution_count": 10,
     "metadata": {},
     "output_type": "execute_result"
    },
    {
     "data": {
      "image/png": "[encoded data removed]",
      "text/plain": [
       "<matplotlib.figure.Figure at 0x1e65fb38518>"
      ]
     },
     "metadata": {},
     "output_type": "display_data"
    }
   ],
   "source": [
    "sns.distplot(df['temp'])"
   ]
  },
  {
   "cell_type": "code",
   "execution_count": 11,
   "metadata": {
    "collapsed": false
   },
   "outputs": [
    {
     "name": "stderr",
     "output_type": "stream",
     "text": [
      "C:\\ProgramData\\Anaconda3\\lib\\site-packages\\statsmodels\\nonparametric\\kdetools.py:20: VisibleDeprecationWarning: using a non-integer number instead of an integer will result in an error in the future\n",
      "  y = X[:m/2+1] + np.r_[0,X[m/2+1:],0]*1j\n"
     ]
    },
    {
     "data": {
      "text/plain": [
       "<matplotlib.axes._subplots.AxesSubplot at 0x1e65fc22eb8>"
      ]
     },
     "execution_count": 11,
     "metadata": {},
     "output_type": "execute_result"
    },
    {
     "data": {
      "image/png": "[encoded data removed]",
      "text/plain": [
       "<matplotlib.figure.Figure at 0x1e65fbd2d30>"
      ]
     },
     "metadata": {},
     "output_type": "display_data"
    }
   ],
   "source": [
    "sns.distplot(df['windspeed'])"
   ]
  },
  {
   "cell_type": "markdown",
   "metadata": {},
   "source": [
    "#### Парные распределения с целевыми признаками"
   ]
  },
  {
   "cell_type": "markdown",
   "metadata": {},
   "source": [
    "*Выясним, как зависит аренда от даты и времени.*"
   ]
  },
  {
   "cell_type": "code",
   "execution_count": 12,
   "metadata": {
    "collapsed": false
   },
   "outputs": [
    {
     "data": {
      "text/plain": [
       "<matplotlib.axes._subplots.AxesSubplot at 0x1e65fd0e320>"
      ]
     },
     "execution_count": 12,
     "metadata": {},
     "output_type": "execute_result"
    },
    {
     "data": {
      "image/png": "[encoded data removed]",
      "text/plain": [
       "<matplotlib.figure.Figure at 0x1e65fc1ae48>"
      ]
     },
     "metadata": {},
     "output_type": "display_data"
    }
   ],
   "source": [
    "sns.barplot('year', 'count', data=df)"
   ]
  },
  {
   "cell_type": "markdown",
   "metadata": {},
   "source": [
    "**Вывод:** <br>\n",
    "Количество аренды возврасло в течение заданного периода (2011 - 2012 года). Стоит это учитывать при прогнозировании на дни соответствующих годов."
   ]
  },
  {
   "cell_type": "code",
   "execution_count": 13,
   "metadata": {
    "collapsed": false
   },
   "outputs": [
    {
     "data": {
      "text/plain": [
       "<matplotlib.axes._subplots.AxesSubplot at 0x1e65fdc7f60>"
      ]
     },
     "execution_count": 13,
     "metadata": {},
     "output_type": "execute_result"
    },
    {
     "data": {
      "image/png": "[encoded data removed]",
      "text/plain": [
       "<matplotlib.figure.Figure at 0x1e65e504908>"
      ]
     },
     "metadata": {},
     "output_type": "display_data"
    }
   ],
   "source": [
    "sns.barplot('month', 'count', data=df, hue='year')"
   ]
  },
  {
   "cell_type": "markdown",
   "metadata": {},
   "source": [
    "**Вывод:** <br>\n",
    "В зимний период наблюдался спад востребованности велосипедов, а в летние - напротив, рост. То есть прослеживается очевидная сезонность."
   ]
  },
  {
   "cell_type": "code",
   "execution_count": 14,
   "metadata": {
    "collapsed": false
   },
   "outputs": [
    {
     "data": {
      "text/plain": [
       "<matplotlib.axes._subplots.AxesSubplot at 0x1e65ffc49e8>"
      ]
     },
     "execution_count": 14,
     "metadata": {},
     "output_type": "execute_result"
    },
    {
     "data": {
      "image/png": "[encoded data removed]",
      "text/plain": [
       "<matplotlib.figure.Figure at 0x1e660005a20>"
      ]
     },
     "metadata": {},
     "output_type": "display_data"
    }
   ],
   "source": [
    "sns.barplot('day', 'count', data=df, hue='year')"
   ]
  },
  {
   "cell_type": "markdown",
   "metadata": {},
   "source": [
    "**Вывод:** <br>\n",
    "Можно сделать вывод, что ежедневная востребованность велосипедов в первой половине месяца не имела тенденции резко возрастать или уменьшаться. <br>\n",
    "То есть данные о дне не имеют высокого влияния на аренду."
   ]
  },
  {
   "cell_type": "code",
   "execution_count": 15,
   "metadata": {
    "collapsed": false
   },
   "outputs": [
    {
     "name": "stderr",
     "output_type": "stream",
     "text": [
      "C:\\ProgramData\\Anaconda3\\lib\\site-packages\\seaborn\\axisgrid.py:703: UserWarning: Using the barplot function without specifying `order` is likely to produce an incorrect plot.\n",
      "  warnings.warn(warning)\n",
      "C:\\ProgramData\\Anaconda3\\lib\\site-packages\\seaborn\\axisgrid.py:708: UserWarning: Using the barplot function without specifying `hue_order` is likely to produce an incorrect plot.\n",
      "  warnings.warn(warning)\n"
     ]
    },
    {
     "data": {
      "text/plain": [
       "<seaborn.axisgrid.FacetGrid at 0x1e6601d0eb8>"
      ]
     },
     "execution_count": 15,
     "metadata": {},
     "output_type": "execute_result"
    },
    {
     "data": {
      "image/png": "[encoded data removed]",
      "text/plain": [
       "<matplotlib.figure.Figure at 0x1e65fe74eb8>"
      ]
     },
     "metadata": {},
     "output_type": "display_data"
    }
   ],
   "source": [
    "g = sns.FacetGrid(df, col='year')\n",
    "g.map(sns.barplot, 'hour', 'count', 'workingday')"
   ]
  },
  {
   "cell_type": "markdown",
   "metadata": {},
   "source": [
    "**Вывод:** <br>\n",
    "В отличие от дня на календаре время имеет вес в прогнозировании. После возрастания (и последующего падения) в утренние часы, к вечеру количество арендующих постепенно возрастало."
   ]
  },
  {
   "cell_type": "code",
   "execution_count": 16,
   "metadata": {
    "collapsed": false
   },
   "outputs": [
    {
     "data": {
      "text/plain": [
       "<matplotlib.axes._subplots.AxesSubplot at 0x1e660c5ff98>"
      ]
     },
     "execution_count": 16,
     "metadata": {},
     "output_type": "execute_result"
    },
    {
     "data": {
      "image/png": "[encoded data removed]",
      "text/plain": [
       "<matplotlib.figure.Figure at 0x1e6603838d0>"
      ]
     },
     "metadata": {},
     "output_type": "display_data"
    }
   ],
   "source": [
    "sns.barplot('weekday', 'count', data=df, hue='year')"
   ]
  },
  {
   "cell_type": "markdown",
   "metadata": {},
   "source": [
    "**Вывод:** <br>\n",
    "Наблюдался небольшой провал в воскресение."
   ]
  },
  {
   "cell_type": "markdown",
   "metadata": {},
   "source": [
    "Посмотрим на отличие в распределение зарегистрированных и незарегистрированных пользователей"
   ]
  },
  {
   "cell_type": "code",
   "execution_count": 17,
   "metadata": {
    "collapsed": false
   },
   "outputs": [
    {
     "data": {
      "text/plain": [
       "<seaborn.axisgrid.FacetGrid at 0x1e66026b860>"
      ]
     },
     "execution_count": 17,
     "metadata": {},
     "output_type": "execute_result"
    },
    {
     "data": {
      "image/png": "[encoded data removed]",
      "text/plain": [
       "<matplotlib.figure.Figure at 0x1e660261160>"
      ]
     },
     "metadata": {},
     "output_type": "display_data"
    },
    {
     "data": {
      "image/png": "[encoded data removed]",
      "text/plain": [
       "<matplotlib.figure.Figure at 0x1e660bf3cf8>"
      ]
     },
     "metadata": {},
     "output_type": "display_data"
    }
   ],
   "source": [
    "sns.factorplot('weekday', 'casual', data=df, hue='year')\n",
    "sns.factorplot('weekday', 'registered', data=df, hue='year')"
   ]
  },
  {
   "cell_type": "markdown",
   "metadata": {},
   "source": [
    "**Вывод: **<br>\n",
    "Незарегистрированные в системе пользователи чаще брали велосипеды в выходные дни, при этом пик аренды достигался в субботу. <br>\n",
    "Зарегистированные же предпочитали брать велосипеды в буднии дни, практически игнорируя(в сравнении) при этом выходные дни. Самый низкий показатель датировался воскресением, после чего в понедельник происходил резкий взлёт аренды. <br>"
   ]
  },
  {
   "cell_type": "markdown",
   "metadata": {},
   "source": [
    "# Getting hands dirty"
   ]
  },
  {
   "cell_type": "code",
   "execution_count": 18,
   "metadata": {
    "collapsed": true
   },
   "outputs": [],
   "source": [
    "from sklearn.model_selection import train_test_split, cross_val_score\n",
    "from sklearn.model_selection import StratifiedKFold"
   ]
  },
  {
   "cell_type": "markdown",
   "metadata": {},
   "source": [
    "### Задание (0.25)"
   ]
  },
  {
   "cell_type": "markdown",
   "metadata": {},
   "source": [
    "Создайте переменную (именно отдельную переменную а не стобец в датафрейме) состоящий из строк вида \"год-месяц-час\"\n",
    "\n",
    "Эта переменная понадобится нам далее"
   ]
  },
  {
   "cell_type": "code",
   "execution_count": 19,
   "metadata": {
    "collapsed": false
   },
   "outputs": [
    {
     "data": {
      "text/plain": [
       "0        2011-01-00\n",
       "1        2011-01-01\n",
       "2        2011-01-02\n",
       "3        2011-01-03\n",
       "4        2011-01-04\n",
       "5        2011-01-05\n",
       "6        2011-01-06\n",
       "7        2011-01-07\n",
       "8        2011-01-08\n",
       "9        2011-01-09\n",
       "10       2011-01-10\n",
       "11       2011-01-11\n",
       "12       2011-01-12\n",
       "13       2011-01-13\n",
       "14       2011-01-14\n",
       "15       2011-01-15\n",
       "16       2011-01-16\n",
       "17       2011-01-17\n",
       "18       2011-01-18\n",
       "19       2011-01-19\n",
       "20       2011-01-20\n",
       "21       2011-01-21\n",
       "22       2011-01-22\n",
       "23       2011-01-23\n",
       "24       2011-01-00\n",
       "25       2011-01-01\n",
       "26       2011-01-02\n",
       "27       2011-01-03\n",
       "28       2011-01-04\n",
       "29       2011-01-06\n",
       "            ...    \n",
       "10856    2012-12-18\n",
       "10857    2012-12-19\n",
       "10858    2012-12-20\n",
       "10859    2012-12-21\n",
       "10860    2012-12-22\n",
       "10861    2012-12-23\n",
       "10862    2012-12-00\n",
       "10863    2012-12-01\n",
       "10864    2012-12-02\n",
       "10865    2012-12-03\n",
       "10866    2012-12-04\n",
       "10867    2012-12-05\n",
       "10868    2012-12-06\n",
       "10869    2012-12-07\n",
       "10870    2012-12-08\n",
       "10871    2012-12-09\n",
       "10872    2012-12-10\n",
       "10873    2012-12-11\n",
       "10874    2012-12-12\n",
       "10875    2012-12-13\n",
       "10876    2012-12-14\n",
       "10877    2012-12-15\n",
       "10878    2012-12-16\n",
       "10879    2012-12-17\n",
       "10880    2012-12-18\n",
       "10881    2012-12-19\n",
       "10882    2012-12-20\n",
       "10883    2012-12-21\n",
       "10884    2012-12-22\n",
       "10885    2012-12-23\n",
       "Name: datetime, dtype: object"
      ]
     },
     "execution_count": 19,
     "metadata": {},
     "output_type": "execute_result"
    }
   ],
   "source": [
    "year_month_hour = df['datetime'].map(lambda x: str(x.year)+'-'+'%.2d' % x.month+'-'+'%.2d' % x.hour)\n",
    "year_month_hour"
   ]
  },
  {
   "cell_type": "markdown",
   "metadata": {},
   "source": [
    "### Задание (0.25)"
   ]
  },
  {
   "cell_type": "markdown",
   "metadata": {},
   "source": [
    "Напишите функцию `prepare_features` которая бы\n",
    "* Удаляла ненужные признаки (сильно скоррелированные и просто бестолковые, типа `datetime`, `day`)\n",
    "* Оставляла только один из целевых признаков (casual, registred или count)\n",
    "* Вместо того, чтобы затачиваться на конкретный час (признак `hour`) создайте новую переменную (утро, день, вечер, ночь). Границы оцените интуитивно. Старую переменную удалите\n",
    "* Преобразовывала бинарные признаки в вектора с {0,1} а категориальные признаки в вектора с {0,1,...,C-1}\n",
    "* Опционально: создайте переменную, которая учитывает день недели и время"
   ]
  },
  {
   "cell_type": "code",
   "execution_count": 20,
   "metadata": {
    "collapsed": false
   },
   "outputs": [
    {
     "name": "stdout",
     "output_type": "stream",
     "text": [
      "                  0      1\n",
      "registered    13.00  32.00\n",
      "temp           9.84   9.02\n",
      "humidity      81.00  80.00\n",
      "windspeed      0.00   0.00\n",
      "season         0.00   0.00\n",
      "holiday        0.00   0.00\n",
      "weather        0.00   0.00\n",
      "year           0.00   0.00\n",
      "month          0.00   0.00\n",
      "weekday        5.00   5.00\n",
      "times_of_day   0.00   0.00\n",
      "\n",
      "season\n",
      "3    2734\n",
      "2    2733\n",
      "1    2733\n",
      "0    2686\n",
      "Name: season, dtype: int64\n",
      "_____________________________________________\n",
      "\n",
      "holiday\n",
      "0    10575\n",
      "1      311\n",
      "Name: holiday, dtype: int64\n",
      "_____________________________________________\n",
      "\n",
      "weather\n",
      "0    7192\n",
      "1    2834\n",
      "2     859\n",
      "3       1\n",
      "Name: weather, dtype: int64\n",
      "_____________________________________________\n",
      "\n",
      "year\n",
      "1    5464\n",
      "0    5422\n",
      "Name: year, dtype: int64\n",
      "_____________________________________________\n",
      "\n",
      "month\n",
      "7     912\n",
      "6     912\n",
      "5     912\n",
      "4     912\n",
      "11    912\n",
      "10    911\n",
      "9     911\n",
      "3     909\n",
      "8     909\n",
      "2     901\n",
      "1     901\n",
      "0     884\n",
      "Name: month, dtype: int64\n",
      "_____________________________________________\n",
      "\n",
      "weekday\n",
      "5    1584\n",
      "6    1579\n",
      "3    1553\n",
      "2    1551\n",
      "0    1551\n",
      "1    1539\n",
      "4    1529\n",
      "Name: weekday, dtype: int64\n",
      "_____________________________________________\n",
      "\n",
      "times_of_day\n",
      "3    2736\n",
      "2    2736\n",
      "1    2730\n",
      "0    2684\n",
      "Name: times_of_day, dtype: int64\n",
      "_____________________________________________\n"
     ]
    }
   ],
   "source": [
    "y_label = 'registered'\n",
    "\n",
    "def prepare_features(df, target_feature=y_label):\n",
    "    df_new=df.copy()\n",
    "    df_new['times_of_day'] = df_new['hour'].apply(lambda x: x//6)\n",
    "    df_new=df_new.drop(['datetime', 'day', 'workingday', 'atemp', 'hour'], axis=1)\n",
    "    df_new['season']=df_new['season'].apply(lambda x: x-1)\n",
    "    df_new['weather']=df_new['weather'].apply(lambda x: x-1)\n",
    "    df_new['month']=df_new['month'].apply(lambda x: x-1)\n",
    "    df_new['year']=df_new['year'].apply(lambda x: x-2011)\n",
    "    #df_new=pd.get_dummies(df_new, columns=['season', 'holiday', 'weather', 'year', 'month', 'weekday', 'times_of_day'])\n",
    "    #df_new=df_new[[y_label, 'temp', 'humidity', 'windspeed', 'season_1', 'season_2', 'season_3', 'season_4', 'holiday_0', 'holiday_1', 'weather_1', 'weather_2', 'weather_3', 'weather_4', 'year_2011', 'year_2012', 'month_1', 'month_2', 'month_3', 'month_4', 'month_5', 'month_6', 'month_7', 'month_8', 'month_9', 'month_10', 'month_11', 'month_12', 'weekday_0', 'weekday_1', 'weekday_2', 'weekday_3', 'weekday_4', 'weekday_5', 'weekday_6', 'times_of_day_0', 'times_of_day_1', 'times_of_day_2', 'times_of_day_3']]\n",
    "    df_new=df_new[[y_label, 'temp', 'humidity', 'windspeed', 'season', 'holiday', 'weather', 'year', 'month', 'weekday', 'times_of_day']]\n",
    "    return df_new\n",
    "df_new2=prepare_features(df, target_feature=y_label)\n",
    "print(df_new2.head(2).T)\n",
    "\n",
    "for i in ['season', 'holiday', 'weather', 'year', 'month', 'weekday', 'times_of_day']:\n",
    "    print('')\n",
    "    print(i)\n",
    "    print(df_new2[i].value_counts())\n",
    "    print('_____________________________________________')"
   ]
  },
  {
   "cell_type": "markdown",
   "metadata": {},
   "source": [
    "Сделаем не простое разбиение на обучение и контроль а такую, что в контрольной и обучающей выборке будет примерно одинаковое распределение по году-месяцу"
   ]
  },
  {
   "cell_type": "code",
   "execution_count": 21,
   "metadata": {
    "collapsed": false
   },
   "outputs": [],
   "source": [
    "df_clean = df.pipe(prepare_features, y_label)"
   ]
  },
  {
   "cell_type": "markdown",
   "metadata": {},
   "source": [
    "## Baseline modelling"
   ]
  },
  {
   "cell_type": "markdown",
   "metadata": {
    "collapsed": true
   },
   "source": [
    "Для удобства будем использовать не LinearRegression а ElasticNet, так как в нем можно одновременно котроллировать оба типа регуляризации"
   ]
  },
  {
   "cell_type": "code",
   "execution_count": 22,
   "metadata": {
    "collapsed": true
   },
   "outputs": [],
   "source": [
    "from sklearn.linear_model import ElasticNet"
   ]
  },
  {
   "cell_type": "code",
   "execution_count": 23,
   "metadata": {
    "collapsed": true
   },
   "outputs": [],
   "source": [
    "# alpha - это общая сила регуляризации\n",
    "# l1_ration - доля, которая приходтися на Lasso регуляризацию. Соответственно остальное идет на Rigde\n",
    "regressor = ElasticNet(alpha=1.0, l1_ratio=0.5)"
   ]
  },
  {
   "cell_type": "markdown",
   "metadata": {},
   "source": [
    "### Задание (0.10)\n",
    "\n",
    "Составьте pipeline, который состоит из следующих этапов (в скобках узакано \"название\" этапа):\n",
    "\n",
    "* One-hot encoder (\"onehot\")\n",
    "* StandartScaler (\"scaler\")\n",
    "* ElasticNet (\"elastic\")"
   ]
  },
  {
   "cell_type": "code",
   "execution_count": 24,
   "metadata": {
    "collapsed": true
   },
   "outputs": [],
   "source": [
    "from sklearn.preprocessing import StandardScaler, OneHotEncoder\n",
    "from sklearn.pipeline import Pipeline"
   ]
  },
  {
   "cell_type": "code",
   "execution_count": 25,
   "metadata": {
    "collapsed": false
   },
   "outputs": [
    {
     "data": {
      "text/html": [
       "<div>\n",
       "<table border=\"1\" class=\"dataframe\">\n",
       "  <thead>\n",
       "    <tr style=\"text-align: right;\">\n",
       "      <th></th>\n",
       "      <th>0</th>\n",
       "      <th>1</th>\n",
       "    </tr>\n",
       "  </thead>\n",
       "  <tbody>\n",
       "    <tr>\n",
       "      <th>registered</th>\n",
       "      <td>13.00</td>\n",
       "      <td>32.00</td>\n",
       "    </tr>\n",
       "    <tr>\n",
       "      <th>temp</th>\n",
       "      <td>9.84</td>\n",
       "      <td>9.02</td>\n",
       "    </tr>\n",
       "    <tr>\n",
       "      <th>humidity</th>\n",
       "      <td>81.00</td>\n",
       "      <td>80.00</td>\n",
       "    </tr>\n",
       "    <tr>\n",
       "      <th>windspeed</th>\n",
       "      <td>0.00</td>\n",
       "      <td>0.00</td>\n",
       "    </tr>\n",
       "    <tr>\n",
       "      <th>season</th>\n",
       "      <td>0.00</td>\n",
       "      <td>0.00</td>\n",
       "    </tr>\n",
       "    <tr>\n",
       "      <th>holiday</th>\n",
       "      <td>0.00</td>\n",
       "      <td>0.00</td>\n",
       "    </tr>\n",
       "    <tr>\n",
       "      <th>weather</th>\n",
       "      <td>0.00</td>\n",
       "      <td>0.00</td>\n",
       "    </tr>\n",
       "    <tr>\n",
       "      <th>year</th>\n",
       "      <td>0.00</td>\n",
       "      <td>0.00</td>\n",
       "    </tr>\n",
       "    <tr>\n",
       "      <th>month</th>\n",
       "      <td>0.00</td>\n",
       "      <td>0.00</td>\n",
       "    </tr>\n",
       "    <tr>\n",
       "      <th>weekday</th>\n",
       "      <td>5.00</td>\n",
       "      <td>5.00</td>\n",
       "    </tr>\n",
       "    <tr>\n",
       "      <th>times_of_day</th>\n",
       "      <td>0.00</td>\n",
       "      <td>0.00</td>\n",
       "    </tr>\n",
       "  </tbody>\n",
       "</table>\n",
       "</div>"
      ],
      "text/plain": [
       "                  0      1\n",
       "registered    13.00  32.00\n",
       "temp           9.84   9.02\n",
       "humidity      81.00  80.00\n",
       "windspeed      0.00   0.00\n",
       "season         0.00   0.00\n",
       "holiday        0.00   0.00\n",
       "weather        0.00   0.00\n",
       "year           0.00   0.00\n",
       "month          0.00   0.00\n",
       "weekday        5.00   5.00\n",
       "times_of_day   0.00   0.00"
      ]
     },
     "execution_count": 25,
     "metadata": {},
     "output_type": "execute_result"
    }
   ],
   "source": [
    "df_clean.head(2).T"
   ]
  },
  {
   "cell_type": "code",
   "execution_count": 26,
   "metadata": {
    "collapsed": false
   },
   "outputs": [
    {
     "name": "stdout",
     "output_type": "stream",
     "text": [
      "[[   9.84     81.        0.        0.        0.        0.        0.        0.\n",
      "     5.        0.    ]\n",
      " [   9.02     80.        0.        0.        0.        0.        0.        0.\n",
      "     5.        0.    ]\n",
      " [   9.02     80.        0.        0.        0.        0.        0.        0.\n",
      "     5.        0.    ]\n",
      " [   9.84     75.        0.        0.        0.        0.        0.        0.\n",
      "     5.        0.    ]\n",
      " [   9.84     75.        0.        0.        0.        0.        0.        0.\n",
      "     5.        0.    ]\n",
      " [   9.84     75.        6.0032    0.        0.        1.        0.        0.\n",
      "     5.        0.    ]\n",
      " [   9.02     80.        0.        0.        0.        0.        0.        0.\n",
      "     5.        1.    ]\n",
      " [   8.2      86.        0.        0.        0.        0.        0.        0.\n",
      "     5.        1.    ]\n",
      " [   9.84     75.        0.        0.        0.        0.        0.        0.\n",
      "     5.        1.    ]\n",
      " [  13.12     76.        0.        0.        0.        0.        0.        0.\n",
      "     5.        1.    ]\n",
      " [  15.58     76.       16.9979    0.        0.        0.        0.        0.\n",
      "     5.        1.    ]\n",
      " [  14.76     81.       19.0012    0.        0.        0.        0.        0.\n",
      "     5.        1.    ]\n",
      " [  17.22     77.       19.0012    0.        0.        0.        0.        0.\n",
      "     5.        2.    ]\n",
      " [  18.86     72.       19.9995    0.        0.        1.        0.        0.\n",
      "     5.        2.    ]\n",
      " [  18.86     72.       19.0012    0.        0.        1.        0.        0.\n",
      "     5.        2.    ]\n",
      " [  18.04     77.       19.9995    0.        0.        1.        0.        0.\n",
      "     5.        2.    ]\n",
      " [  17.22     82.       19.9995    0.        0.        1.        0.        0.\n",
      "     5.        2.    ]\n",
      " [  18.04     82.       19.0012    0.        0.        1.        0.        0.\n",
      "     5.        2.    ]\n",
      " [  17.22     88.       16.9979    0.        0.        2.        0.        0.\n",
      "     5.        3.    ]\n",
      " [  17.22     88.       16.9979    0.        0.        2.        0.        0.\n",
      "     5.        3.    ]\n",
      " [  16.4      87.       16.9979    0.        0.        1.        0.        0.\n",
      "     5.        3.    ]\n",
      " [  16.4      87.       12.998     0.        0.        1.        0.        0.\n",
      "     5.        3.    ]\n",
      " [  16.4      94.       15.0013    0.        0.        1.        0.        0.\n",
      "     5.        3.    ]\n",
      " [  18.86     88.       19.9995    0.        0.        1.        0.        0.\n",
      "     5.        3.    ]\n",
      " [  18.86     88.       19.9995    0.        0.        1.        0.        0.\n",
      "     6.        0.    ]\n",
      " [  18.04     94.       16.9979    0.        0.        1.        0.        0.\n",
      "     6.        0.    ]\n",
      " [  17.22    100.       19.0012    0.        0.        1.        0.        0.\n",
      "     6.        0.    ]\n",
      " [  18.86     94.       12.998     0.        0.        1.        0.        0.\n",
      "     6.        0.    ]\n",
      " [  18.86     94.       12.998     0.        0.        1.        0.        0.\n",
      "     6.        0.    ]\n",
      " [  17.22     77.       19.9995    0.        0.        2.        0.        0.\n",
      "     6.        1.    ]\n",
      " [  16.4      76.       12.998     0.        0.        1.        0.        0.\n",
      "     6.        1.    ]\n",
      " [  16.4      71.       15.0013    0.        0.        2.        0.        0.\n",
      "     6.        1.    ]\n",
      " [  15.58     76.       15.0013    0.        0.        1.        0.        0.\n",
      "     6.        1.    ]\n",
      " [  14.76     81.       15.0013    0.        0.        1.        0.        0.\n",
      "     6.        1.    ]\n",
      " [  14.76     71.       16.9979    0.        0.        1.        0.        0.\n",
      "     6.        1.    ]\n",
      " [  14.76     66.       19.9995    0.        0.        1.        0.        0.\n",
      "     6.        2.    ]\n",
      " [  14.76     66.        8.9981    0.        0.        1.        0.        0.\n",
      "     6.        2.    ]\n",
      " [  14.76     76.       12.998     0.        0.        2.        0.        0.\n",
      "     6.        2.    ]\n",
      " [  13.94     81.       11.0014    0.        0.        2.        0.        0.\n",
      "     6.        2.    ]\n",
      " [  13.94     71.       11.0014    0.        0.        2.        0.        0.\n",
      "     6.        2.    ]\n",
      " [  13.94     57.       12.998     0.        0.        0.        0.        0.\n",
      "     6.        2.    ]\n",
      " [  14.76     46.       22.0028    0.        0.        1.        0.        0.\n",
      "     6.        3.    ]\n",
      " [  13.12     42.       30.0026    0.        0.        0.        0.        0.\n",
      "     6.        3.    ]\n",
      " [  12.3      39.       23.9994    0.        0.        0.        0.        0.\n",
      "     6.        3.    ]\n",
      " [  10.66     44.       22.0028    0.        0.        0.        0.        0.\n",
      "     6.        3.    ]\n",
      " [   9.84     44.       19.9995    0.        0.        0.        0.        0.\n",
      "     6.        3.    ]\n",
      " [   9.02     47.       11.0014    0.        0.        0.        0.        0.\n",
      "     6.        3.    ]\n",
      " [   9.02     44.       23.9994    0.        0.        0.        0.        0.\n",
      "     0.        0.    ]\n",
      " [   8.2      44.       27.9993    0.        0.        0.        0.        0.\n",
      "     0.        0.    ]\n",
      " [   6.56     47.       26.0027    0.        0.        0.        0.        0.\n",
      "     0.        0.    ]]\n"
     ]
    }
   ],
   "source": [
    "X=df_clean.iloc[:, 1:].values\n",
    "y=df_clean.iloc[:, 0].values\n",
    "\n",
    "print(X[:50, :])"
   ]
  },
  {
   "cell_type": "code",
   "execution_count": 27,
   "metadata": {
    "collapsed": false
   },
   "outputs": [],
   "source": [
    "model = Pipeline([\n",
    "    ('onehot', OneHotEncoder(categorical_features=[range(3, 10)])), # преобразование категориальных признаков\n",
    "    ('scaler', StandardScaler()), # нормализация признаков: мат.ожидание=0, дисперсия=1\n",
    "    ('elastic', ElasticNet(l1_ratio=0.5)) # линейная регрессия\n",
    "])"
   ]
  },
  {
   "cell_type": "markdown",
   "metadata": {},
   "source": [
    "### Задание (0.15)"
   ]
  },
  {
   "cell_type": "markdown",
   "metadata": {},
   "source": [
    "Перед тем как пойдем дальше реализуем RMSLE"
   ]
  },
  {
   "cell_type": "code",
   "execution_count": 32,
   "metadata": {
    "collapsed": true
   },
   "outputs": [],
   "source": [
    "import math\n",
    "def rmsle_score(y_test, y_hat):\n",
    "    '''sum_=0\n",
    "    for i in range(len(y_test)):\n",
    "        sum_=sum_+(math.log(y_test[i]+1)-math.log(y_hat[i]+1))**2\n",
    "        #to_sum = [(math.log(y_test[i] + 1) - math.log(y_hat[i] + 1)) ** 2.0 for i in enumerate(y_test)]\n",
    "    rlmse=(sum_/len(y_test))**(1/2)'''\n",
    "    rmsle=np.sqrt(sum((np.log(y_test+1) - np.log(y_hat + 1))**2)/len(y_test))\n",
    "    return rmsle\n",
    "\n",
    "# Эту функцию трогать не надо\n",
    "def rmsle_scorer(estimator, X, y):\n",
    "    y_hat_less0 = estimator.predict(X)\n",
    "    y_hat=np.asarray([max(x, 0) for x in y_hat_less0])\n",
    "    return rlmse_score(y, y_hat)"
   ]
  },
  {
   "cell_type": "markdown",
   "metadata": {},
   "source": [
    "Так как мы еще не знаем, что такое GridSearch или RandomSearch будем исследоать изменение качества только одного из параметров: alpha\n",
    "\n",
    "Сделаем мы это чуть более хитро чем просто в цикле перебирать разные значения:\n",
    "* Во-первых мы сделаем особую кросс-валидацию, учитывающую время\n",
    "* Так как у нас будет кросс-валидация, то мы сможем посмотреть на \"стабильность\" скора, а не просто на его среднее"
   ]
  },
  {
   "cell_type": "code",
   "execution_count": 33,
   "metadata": {
    "collapsed": true
   },
   "outputs": [],
   "source": [
    "from sklearn.model_selection import validation_curve"
   ]
  },
  {
   "cell_type": "code",
   "execution_count": 34,
   "metadata": {
    "collapsed": false
   },
   "outputs": [
    {
     "name": "stdout",
     "output_type": "stream",
     "text": [
      "X: \n",
      "\n",
      "[[   9.84     81.        0.        0.        0.        0.        0.        0.\n",
      "     5.        0.    ]\n",
      " [   9.02     80.        0.        0.        0.        0.        0.        0.\n",
      "     5.        0.    ]\n",
      " [   9.02     80.        0.        0.        0.        0.        0.        0.\n",
      "     5.        0.    ]\n",
      " [   9.84     75.        0.        0.        0.        0.        0.        0.\n",
      "     5.        0.    ]\n",
      " [   9.84     75.        0.        0.        0.        0.        0.        0.\n",
      "     5.        0.    ]\n",
      " [   9.84     75.        6.0032    0.        0.        1.        0.        0.\n",
      "     5.        0.    ]\n",
      " [   9.02     80.        0.        0.        0.        0.        0.        0.\n",
      "     5.        1.    ]\n",
      " [   8.2      86.        0.        0.        0.        0.        0.        0.\n",
      "     5.        1.    ]\n",
      " [   9.84     75.        0.        0.        0.        0.        0.        0.\n",
      "     5.        1.    ]\n",
      " [  13.12     76.        0.        0.        0.        0.        0.        0.\n",
      "     5.        1.    ]\n",
      " [  15.58     76.       16.9979    0.        0.        0.        0.        0.\n",
      "     5.        1.    ]\n",
      " [  14.76     81.       19.0012    0.        0.        0.        0.        0.\n",
      "     5.        1.    ]\n",
      " [  17.22     77.       19.0012    0.        0.        0.        0.        0.\n",
      "     5.        2.    ]\n",
      " [  18.86     72.       19.9995    0.        0.        1.        0.        0.\n",
      "     5.        2.    ]\n",
      " [  18.86     72.       19.0012    0.        0.        1.        0.        0.\n",
      "     5.        2.    ]\n",
      " [  18.04     77.       19.9995    0.        0.        1.        0.        0.\n",
      "     5.        2.    ]\n",
      " [  17.22     82.       19.9995    0.        0.        1.        0.        0.\n",
      "     5.        2.    ]\n",
      " [  18.04     82.       19.0012    0.        0.        1.        0.        0.\n",
      "     5.        2.    ]\n",
      " [  17.22     88.       16.9979    0.        0.        2.        0.        0.\n",
      "     5.        3.    ]\n",
      " [  17.22     88.       16.9979    0.        0.        2.        0.        0.\n",
      "     5.        3.    ]\n",
      " [  16.4      87.       16.9979    0.        0.        1.        0.        0.\n",
      "     5.        3.    ]\n",
      " [  16.4      87.       12.998     0.        0.        1.        0.        0.\n",
      "     5.        3.    ]\n",
      " [  16.4      94.       15.0013    0.        0.        1.        0.        0.\n",
      "     5.        3.    ]\n",
      " [  18.86     88.       19.9995    0.        0.        1.        0.        0.\n",
      "     5.        3.    ]\n",
      " [  18.86     88.       19.9995    0.        0.        1.        0.        0.\n",
      "     6.        0.    ]\n",
      " [  18.04     94.       16.9979    0.        0.        1.        0.        0.\n",
      "     6.        0.    ]\n",
      " [  17.22    100.       19.0012    0.        0.        1.        0.        0.\n",
      "     6.        0.    ]\n",
      " [  18.86     94.       12.998     0.        0.        1.        0.        0.\n",
      "     6.        0.    ]\n",
      " [  18.86     94.       12.998     0.        0.        1.        0.        0.\n",
      "     6.        0.    ]\n",
      " [  17.22     77.       19.9995    0.        0.        2.        0.        0.\n",
      "     6.        1.    ]\n",
      " [  16.4      76.       12.998     0.        0.        1.        0.        0.\n",
      "     6.        1.    ]\n",
      " [  16.4      71.       15.0013    0.        0.        2.        0.        0.\n",
      "     6.        1.    ]\n",
      " [  15.58     76.       15.0013    0.        0.        1.        0.        0.\n",
      "     6.        1.    ]\n",
      " [  14.76     81.       15.0013    0.        0.        1.        0.        0.\n",
      "     6.        1.    ]\n",
      " [  14.76     71.       16.9979    0.        0.        1.        0.        0.\n",
      "     6.        1.    ]\n",
      " [  14.76     66.       19.9995    0.        0.        1.        0.        0.\n",
      "     6.        2.    ]\n",
      " [  14.76     66.        8.9981    0.        0.        1.        0.        0.\n",
      "     6.        2.    ]\n",
      " [  14.76     76.       12.998     0.        0.        2.        0.        0.\n",
      "     6.        2.    ]\n",
      " [  13.94     81.       11.0014    0.        0.        2.        0.        0.\n",
      "     6.        2.    ]\n",
      " [  13.94     71.       11.0014    0.        0.        2.        0.        0.\n",
      "     6.        2.    ]\n",
      " [  13.94     57.       12.998     0.        0.        0.        0.        0.\n",
      "     6.        2.    ]\n",
      " [  14.76     46.       22.0028    0.        0.        1.        0.        0.\n",
      "     6.        3.    ]\n",
      " [  13.12     42.       30.0026    0.        0.        0.        0.        0.\n",
      "     6.        3.    ]\n",
      " [  12.3      39.       23.9994    0.        0.        0.        0.        0.\n",
      "     6.        3.    ]\n",
      " [  10.66     44.       22.0028    0.        0.        0.        0.        0.\n",
      "     6.        3.    ]\n",
      " [   9.84     44.       19.9995    0.        0.        0.        0.        0.\n",
      "     6.        3.    ]\n",
      " [   9.02     47.       11.0014    0.        0.        0.        0.        0.\n",
      "     6.        3.    ]\n",
      " [   9.02     44.       23.9994    0.        0.        0.        0.        0.\n",
      "     0.        0.    ]\n",
      " [   8.2      44.       27.9993    0.        0.        0.        0.        0.\n",
      "     0.        0.    ]\n",
      " [   6.56     47.       26.0027    0.        0.        0.        0.        0.\n",
      "     0.        0.    ]]\n",
      "---------------------------------------------\n",
      "y: \n",
      "\n",
      "[ 13  32  27 ..., 164 117  84]\n",
      "---------------------------------------------\n",
      "X_transf: \n",
      "\n",
      "[[  1.     0.     0.     0.     1.     0.     1.     0.     0.     0.     1.\n",
      "    0.     1.     0.     0.     0.     0.     0.     0.     0.     0.     0.\n",
      "    0.     0.     0.     0.     0.     0.     0.     1.     0.     1.     0.\n",
      "    0.     0.     9.84  81.     0.  ]\n",
      " [  1.     0.     0.     0.     1.     0.     1.     0.     0.     0.     1.\n",
      "    0.     1.     0.     0.     0.     0.     0.     0.     0.     0.     0.\n",
      "    0.     0.     0.     0.     0.     0.     0.     1.     0.     1.     0.\n",
      "    0.     0.     9.02  80.     0.  ]\n",
      " [  1.     0.     0.     0.     1.     0.     1.     0.     0.     0.     1.\n",
      "    0.     1.     0.     0.     0.     0.     0.     0.     0.     0.     0.\n",
      "    0.     0.     0.     0.     0.     0.     0.     1.     0.     1.     0.\n",
      "    0.     0.     9.02  80.     0.  ]\n",
      " [  1.     0.     0.     0.     1.     0.     1.     0.     0.     0.     1.\n",
      "    0.     1.     0.     0.     0.     0.     0.     0.     0.     0.     0.\n",
      "    0.     0.     0.     0.     0.     0.     0.     1.     0.     1.     0.\n",
      "    0.     0.     9.84  75.     0.  ]\n",
      " [  1.     0.     0.     0.     1.     0.     1.     0.     0.     0.     1.\n",
      "    0.     1.     0.     0.     0.     0.     0.     0.     0.     0.     0.\n",
      "    0.     0.     0.     0.     0.     0.     0.     1.     0.     1.     0.\n",
      "    0.     0.     9.84  75.     0.  ]]\n",
      "---------------------------------------------\n",
      "X_normal: \n",
      "\n",
      "[[ 1.74724547 -0.57897671 -0.57897671 -0.57911814  0.17149048 -0.17149048\n",
      "   0.71667723 -0.59326406 -0.29269215 -0.00958486  1.00386564 -1.00386564\n",
      "   3.36370029 -0.300392   -0.300392   -0.30184359 -0.30238674 -0.30238674\n",
      "  -0.30238674 -0.30238674 -0.30184359 -0.30220576 -0.30220576 -0.30238674\n",
      "  -0.40761367 -0.40577304 -0.40761367 -0.40792009 -0.40423641  2.42331895\n",
      "  -0.4118947   1.74810947 -0.57855242 -0.579401   -0.579401   -1.33366069\n",
      "   0.99321305 -1.56775367]\n",
      " [ 1.74724547 -0.57897671 -0.57897671 -0.57911814  0.17149048 -0.17149048\n",
      "   0.71667723 -0.59326406 -0.29269215 -0.00958486  1.00386564 -1.00386564\n",
      "   3.36370029 -0.300392   -0.300392   -0.30184359 -0.30238674 -0.30238674\n",
      "  -0.30238674 -0.30238674 -0.30184359 -0.30220576 -0.30220576 -0.30238674\n",
      "  -0.40761367 -0.40577304 -0.40761367 -0.40792009 -0.40423641  2.42331895\n",
      "  -0.4118947   1.74810947 -0.57855242 -0.579401   -0.579401   -1.43890721\n",
      "   0.94124921 -1.56775367]\n",
      " [ 1.74724547 -0.57897671 -0.57897671 -0.57911814  0.17149048 -0.17149048\n",
      "   0.71667723 -0.59326406 -0.29269215 -0.00958486  1.00386564 -1.00386564\n",
      "   3.36370029 -0.300392   -0.300392   -0.30184359 -0.30238674 -0.30238674\n",
      "  -0.30238674 -0.30238674 -0.30184359 -0.30220576 -0.30220576 -0.30238674\n",
      "  -0.40761367 -0.40577304 -0.40761367 -0.40792009 -0.40423641  2.42331895\n",
      "  -0.4118947   1.74810947 -0.57855242 -0.579401   -0.579401   -1.43890721\n",
      "   0.94124921 -1.56775367]\n",
      " [ 1.74724547 -0.57897671 -0.57897671 -0.57911814  0.17149048 -0.17149048\n",
      "   0.71667723 -0.59326406 -0.29269215 -0.00958486  1.00386564 -1.00386564\n",
      "   3.36370029 -0.300392   -0.300392   -0.30184359 -0.30238674 -0.30238674\n",
      "  -0.30238674 -0.30238674 -0.30184359 -0.30220576 -0.30220576 -0.30238674\n",
      "  -0.40761367 -0.40577304 -0.40761367 -0.40792009 -0.40423641  2.42331895\n",
      "  -0.4118947   1.74810947 -0.57855242 -0.579401   -0.579401   -1.33366069\n",
      "   0.68142998 -1.56775367]\n",
      " [ 1.74724547 -0.57897671 -0.57897671 -0.57911814  0.17149048 -0.17149048\n",
      "   0.71667723 -0.59326406 -0.29269215 -0.00958486  1.00386564 -1.00386564\n",
      "   3.36370029 -0.300392   -0.300392   -0.30184359 -0.30238674 -0.30238674\n",
      "  -0.30238674 -0.30238674 -0.30184359 -0.30220576 -0.30220576 -0.30238674\n",
      "  -0.40761367 -0.40577304 -0.40761367 -0.40792009 -0.40423641  2.42331895\n",
      "  -0.4118947   1.74810947 -0.57855242 -0.579401   -0.579401   -1.33366069\n",
      "   0.68142998 -1.56775367]]\n",
      "---------------------------------------------\n",
      "y_pred_: \n",
      "\n",
      "[ 190.36158069  120.83842205  144.8029369  ...,  189.78381524  228.5981437\n",
      "  -73.51651711]\n",
      "---------------------------------------------\n",
      "y_pred_ wo <0: \n",
      "\n",
      "[ 190.36158069  120.83842205  144.8029369  ...,  189.78381524  228.5981437\n",
      "    0.        ]\n",
      "---------------------------------------------\n",
      "error1: \n",
      "\n",
      "1.1063648902\n",
      "---------------------------------------------\n",
      "y_hat: \n",
      "\n",
      "0.0\n",
      "0.0\n",
      "0.0\n",
      "0.0\n",
      "0.0\n",
      "0.0\n",
      "0.0\n",
      "0.0\n",
      "0.0\n",
      "0.0\n",
      "0.0\n",
      "0.0\n",
      "0.0\n",
      "0.0\n",
      "0.0\n",
      "0.0\n",
      "0.0\n",
      "0.0\n",
      "0.0\n",
      "0.0\n",
      "0.0\n",
      "0.0\n",
      "0.0\n",
      "0.0\n",
      "0.0\n",
      "0.0\n",
      "0.0\n",
      "0.0\n",
      "0.0\n",
      "0.0\n",
      "0.0\n",
      "0.0\n",
      "0.0\n",
      "0.0\n",
      "0.0\n",
      "0.0\n",
      "0.0\n",
      "0.0\n",
      "0.0\n",
      "0.0\n",
      "0.0\n",
      "0.0\n",
      "0.0\n",
      "0.0\n",
      "0.0\n",
      "0.0\n",
      "0.0\n",
      "0.0\n",
      "0.0\n",
      "0.0\n",
      "0.0\n",
      "0.0\n",
      "0.0\n",
      "0.0\n",
      "0.0\n",
      "0.0\n",
      "0.0\n",
      "0.0\n",
      "0.0\n",
      "0.0\n",
      "0.0\n",
      "0.0\n",
      "0.0\n",
      "0.0\n",
      "0.0\n",
      "0.0\n",
      "0.0\n",
      "0.0\n",
      "0.0\n",
      "0.0\n",
      "0.0\n",
      "0.0\n",
      "0.0\n",
      "0.0\n",
      "0.0\n",
      "0.0\n",
      "0.0\n",
      "0.0\n",
      "0.0\n",
      "0.0\n",
      "0.0\n",
      "0.0\n",
      "0.0\n",
      "0.0\n",
      "0.0\n",
      "0.0\n",
      "0.0\n",
      "0.0\n",
      "0.0\n",
      "---------------------------------------------\n",
      "np.log(y_test+1): \n",
      "\n",
      "[ 4.59511985  2.63905733  5.02388052 ...,  5.5174529   4.79579055\n",
      "  0.69314718]\n",
      "---------------------------------------------\n",
      "np.log(y_hat + 1): \n",
      "\n",
      "[ 5.25416473  4.80269576  4.98225596 ...,  5.25114093  5.43633058  0.        ]\n",
      "---------------------------------------------\n",
      "(np.log(y_test+1) - np.log(y_hat + 1)): \n",
      "\n",
      "[-0.65904488 -2.16363843  0.04162456 ...,  0.26631197 -0.64054003\n",
      "  0.69314718]\n",
      "---------------------------------------------\n",
      "(np.log(y_test+1) - np.log(y_hat + 1))**2: \n",
      "\n",
      "[  4.34340155e-01   4.68133125e+00   1.73260384e-03 ...,   7.09220637e-02\n",
      "   4.10291535e-01   4.80453014e-01]\n",
      "---------------------------------------------\n",
      "sum((np.log(y_test+1) - np.log(y_hat + 1))**2): \n",
      "\n",
      "3997.72532068\n",
      "---------------------------------------------\n",
      "sum((np.log(y_test+1) - np.log(y_hat + 1))**2)/len(y_test): \n",
      "\n",
      "1.22404327026\n",
      "---------------------------------------------\n",
      "rmsle_res: \n",
      "\n",
      "1.1063648902\n",
      "---------------------------------------------\n",
      "rmsle_val: \n",
      "\n",
      "1.1063648902\n",
      "---------------------------------------------\n"
     ]
    }
   ],
   "source": [
    "X=df_clean.iloc[:, 1:].values\n",
    "y=df_clean.iloc[:, 0].values\n",
    "\n",
    "print('X:', '\\n')\n",
    "print(X[:50, :])\n",
    "print('---------------------------------------------')\n",
    "print('y:', '\\n')\n",
    "print(y)\n",
    "print('---------------------------------------------')\n",
    "\n",
    "one_hot=OneHotEncoder(categorical_features=[range(3, 10)])\n",
    "one_hot.fit(X)\n",
    "X_transf = one_hot.transform(X)\n",
    "X_transf=X_transf.toarray()\n",
    "print('X_transf:', '\\n')\n",
    "print(X_transf[:5, :])\n",
    "print('---------------------------------------------')\n",
    "\n",
    "scaler = StandardScaler()\n",
    "#scaler = StandardScaler(with_mean=False)\n",
    "scaler.fit(X_transf)\n",
    "X_normal=scaler.transform(X_transf)\n",
    "\n",
    "print('X_normal:', '\\n')\n",
    "print(X_normal[:5, :])\n",
    "print('---------------------------------------------')\n",
    "\n",
    "from sklearn.cross_validation import train_test_split\n",
    "X_train, X_test, y_train, y_test=train_test_split(X_normal, y, test_size=0.3, random_state=42)\n",
    "\n",
    "elnet=ElasticNet(alpha=1.0, l1_ratio=0.5)\n",
    "#elnet=ElasticNet(alpha=1.0, l1_ratio=0.5, positive=True)\n",
    "elnet.fit(X_train, y_train)\n",
    "y_pred_=elnet.predict(X_test)\n",
    "print('y_pred_:', '\\n')\n",
    "print(y_pred_)\n",
    "print('---------------------------------------------')\n",
    "\n",
    "y_pred_wo_0=np.asarray([max(x, 0) for x in y_pred_])\n",
    "print('y_pred_ wo <0:', '\\n')\n",
    "print(y_pred_wo_0)\n",
    "print('---------------------------------------------')\n",
    "error1_ = np.sqrt((np.log(y_test+1) - np.log(y_pred_wo_0 + 1))**2)\n",
    "\n",
    "error1 = np.sqrt(sum((np.log(y_test+1) - np.log(y_pred_wo_0 + 1))**2)/len(y_test))\n",
    "print('error1:', '\\n')\n",
    "print(error1)\n",
    "print('---------------------------------------------')\n",
    "\n",
    "y_hat_less0 = elnet.predict(X_test)\n",
    "y_hat=np.asarray([max(x, 0) for x in y_hat_less0])\n",
    "print('y_hat:', '\\n')\n",
    "for i in y_hat:\n",
    "    if i <= 0:\n",
    "        print(i)\n",
    "print('---------------------------------------------')\n",
    "\n",
    "print('np.log(y_test+1):', '\\n')\n",
    "print(np.log(y_test+1))\n",
    "print('---------------------------------------------')\n",
    "\n",
    "print('np.log(y_hat + 1):', '\\n')\n",
    "print(np.log(y_hat + 1))\n",
    "print('---------------------------------------------')\n",
    "\n",
    "print('(np.log(y_test+1) - np.log(y_hat + 1)):', '\\n')\n",
    "print((np.log(y_test+1) - np.log(y_hat + 1)))\n",
    "print('---------------------------------------------')\n",
    "\n",
    "print('(np.log(y_test+1) - np.log(y_hat + 1))**2:', '\\n')\n",
    "print((np.log(y_test+1) - np.log(y_hat + 1))**2)\n",
    "print('---------------------------------------------')\n",
    "\n",
    "print('sum((np.log(y_test+1) - np.log(y_hat + 1))**2):', '\\n')\n",
    "print(sum((np.log(y_test+1) - np.log(y_hat + 1))**2))\n",
    "print('---------------------------------------------')\n",
    "\n",
    "print('sum((np.log(y_test+1) - np.log(y_hat + 1))**2)/len(y_test):', '\\n')\n",
    "print(sum((np.log(y_test+1) - np.log(y_hat + 1))**2)/len(y_test))\n",
    "print('---------------------------------------------')\n",
    "\n",
    "rmsle_res=np.sqrt(sum((np.log(y_test+1) - np.log(y_hat + 1))**2)/len(y_test))\n",
    "print('rmsle_res:', '\\n')\n",
    "print(rmsle_res)\n",
    "print('---------------------------------------------')\n",
    "\n",
    "rmsle_val=rmsle_scorer(elnet, X_test, y_test)\n",
    "print('rmsle_val:', '\\n')\n",
    "print(rmsle_val)\n",
    "print('---------------------------------------------')"
   ]
  },
  {
   "cell_type": "code",
   "execution_count": 35,
   "metadata": {
    "collapsed": false
   },
   "outputs": [
    {
     "name": "stdout",
     "output_type": "stream",
     "text": [
      "rmsle_val: \n",
      "\n",
      "1.11391246196\n",
      "---------------------------------------------\n"
     ]
    }
   ],
   "source": [
    "model = Pipeline(steps=[\n",
    "    ('onehot', OneHotEncoder(categorical_features=[range(3, 10)])), # преобразование категориальных признаков\n",
    "    ('scaler', StandardScaler(with_mean=False)), # нормализация признаков: мат.ожидание=0, дисперсия=1\n",
    "    ('elastic', ElasticNet(alpha=1.0, l1_ratio=0.5)) # линейная регрессия\n",
    "])\n",
    "\n",
    "X=df_clean.iloc[:, 1:].values\n",
    "y=df_clean.iloc[:, 0].values\n",
    "\n",
    "model.fit(X, y)\n",
    "rmsle_val=rmsle_scorer(model, X, y)\n",
    "print('rmsle_val:', '\\n')\n",
    "print(rmsle_val)\n",
    "print('---------------------------------------------')"
   ]
  },
  {
   "cell_type": "code",
   "execution_count": 36,
   "metadata": {
    "collapsed": false
   },
   "outputs": [
    {
     "name": "stderr",
     "output_type": "stream",
     "text": [
      "C:\\ProgramData\\Anaconda3\\lib\\site-packages\\sklearn\\model_selection\\_split.py:581: Warning: The least populated class in y has only 1 members, which is too few. The minimum number of groups for any class cannot be less than n_splits=5.\n",
      "  % (min_groups, self.n_splits)), Warning)\n",
      "C:\\ProgramData\\Anaconda3\\lib\\site-packages\\sklearn\\linear_model\\coordinate_descent.py:484: ConvergenceWarning: Objective did not converge. You might want to increase the number of iterations. Fitting data with very small alpha may cause precision problems.\n",
      "  ConvergenceWarning)\n",
      "C:\\ProgramData\\Anaconda3\\lib\\site-packages\\sklearn\\linear_model\\coordinate_descent.py:484: ConvergenceWarning: Objective did not converge. You might want to increase the number of iterations. Fitting data with very small alpha may cause precision problems.\n",
      "  ConvergenceWarning)\n",
      "C:\\ProgramData\\Anaconda3\\lib\\site-packages\\sklearn\\linear_model\\coordinate_descent.py:484: ConvergenceWarning: Objective did not converge. You might want to increase the number of iterations. Fitting data with very small alpha may cause precision problems.\n",
      "  ConvergenceWarning)\n",
      "C:\\ProgramData\\Anaconda3\\lib\\site-packages\\sklearn\\linear_model\\coordinate_descent.py:484: ConvergenceWarning: Objective did not converge. You might want to increase the number of iterations. Fitting data with very small alpha may cause precision problems.\n",
      "  ConvergenceWarning)\n",
      "C:\\ProgramData\\Anaconda3\\lib\\site-packages\\sklearn\\linear_model\\coordinate_descent.py:484: ConvergenceWarning: Objective did not converge. You might want to increase the number of iterations. Fitting data with very small alpha may cause precision problems.\n",
      "  ConvergenceWarning)\n",
      "C:\\ProgramData\\Anaconda3\\lib\\site-packages\\sklearn\\linear_model\\coordinate_descent.py:484: ConvergenceWarning: Objective did not converge. You might want to increase the number of iterations. Fitting data with very small alpha may cause precision problems.\n",
      "  ConvergenceWarning)\n",
      "C:\\ProgramData\\Anaconda3\\lib\\site-packages\\sklearn\\linear_model\\coordinate_descent.py:484: ConvergenceWarning: Objective did not converge. You might want to increase the number of iterations. Fitting data with very small alpha may cause precision problems.\n",
      "  ConvergenceWarning)\n",
      "C:\\ProgramData\\Anaconda3\\lib\\site-packages\\sklearn\\linear_model\\coordinate_descent.py:484: ConvergenceWarning: Objective did not converge. You might want to increase the number of iterations. Fitting data with very small alpha may cause precision problems.\n",
      "  ConvergenceWarning)\n",
      "C:\\ProgramData\\Anaconda3\\lib\\site-packages\\sklearn\\linear_model\\coordinate_descent.py:484: ConvergenceWarning: Objective did not converge. You might want to increase the number of iterations. Fitting data with very small alpha may cause precision problems.\n",
      "  ConvergenceWarning)\n",
      "C:\\ProgramData\\Anaconda3\\lib\\site-packages\\sklearn\\linear_model\\coordinate_descent.py:484: ConvergenceWarning: Objective did not converge. You might want to increase the number of iterations. Fitting data with very small alpha may cause precision problems.\n",
      "  ConvergenceWarning)\n",
      "C:\\ProgramData\\Anaconda3\\lib\\site-packages\\sklearn\\linear_model\\coordinate_descent.py:484: ConvergenceWarning: Objective did not converge. You might want to increase the number of iterations. Fitting data with very small alpha may cause precision problems.\n",
      "  ConvergenceWarning)\n",
      "C:\\ProgramData\\Anaconda3\\lib\\site-packages\\sklearn\\linear_model\\coordinate_descent.py:484: ConvergenceWarning: Objective did not converge. You might want to increase the number of iterations. Fitting data with very small alpha may cause precision problems.\n",
      "  ConvergenceWarning)\n",
      "C:\\ProgramData\\Anaconda3\\lib\\site-packages\\sklearn\\linear_model\\coordinate_descent.py:484: ConvergenceWarning: Objective did not converge. You might want to increase the number of iterations. Fitting data with very small alpha may cause precision problems.\n",
      "  ConvergenceWarning)\n",
      "C:\\ProgramData\\Anaconda3\\lib\\site-packages\\sklearn\\linear_model\\coordinate_descent.py:484: ConvergenceWarning: Objective did not converge. You might want to increase the number of iterations. Fitting data with very small alpha may cause precision problems.\n",
      "  ConvergenceWarning)\n",
      "C:\\ProgramData\\Anaconda3\\lib\\site-packages\\sklearn\\linear_model\\coordinate_descent.py:484: ConvergenceWarning: Objective did not converge. You might want to increase the number of iterations. Fitting data with very small alpha may cause precision problems.\n",
      "  ConvergenceWarning)\n"
     ]
    }
   ],
   "source": [
    "# Это не обычная кросс-валидация а стратифицированная. №\n",
    "# С ее помощью мы добъемся того, что в обучающем и валидационном фолде будет одна и та же пропорция годов-месяцев-часов\n",
    "# Тут то и понадобится нам year_month_hour\n",
    "# Подробности http://scikit-learn.org/stable/modules/generated/sklearn.model_selection.StratifiedKFold.html#sklearn.model_selection.StratifiedKFold\n",
    "n_folds = 5\n",
    "cv = StratifiedKFold(n_splits=n_folds, shuffle=True, random_state=123)\n",
    "\n",
    "# Переберем 20 значений в интервале от 10^-3 до 10^5\n",
    "alpha_range = np.logspace(-3, 5, 20)\n",
    "\n",
    "model = Pipeline(steps=[\n",
    "    ('onehot', OneHotEncoder(n_values = [4, 2, 4, 2, 12, 7, 4], # для каждой категориальной фичи указываем количество ее категорий\n",
    "                             categorical_features=[3, 4, 5, 6, 7, 8, 9])), # преобразование категориальных признаков\n",
    "    ('scaler', StandardScaler(with_mean=False)), # нормализация признаков: мат.ожидание=0, дисперсия=1\n",
    "    ('elastic', ElasticNet(l1_ratio=0.5)) # линейная регрессия, без alpha=1.0?\n",
    "])\n",
    "\n",
    "\n",
    "param_name = \"elastic__alpha\"\n",
    "# пишем не просто alpha, потому что у нас pipeline и sklearn должен как-то понимать параметр какого этапа мы перебираем\n",
    "\n",
    "X=df_clean.iloc[:, 1:].values\n",
    "y=df_clean.iloc[:, 0].values\n",
    "\n",
    "train_scores, valid_scores = validation_curve(model, X, y, param_name=param_name, param_range=alpha_range, \n",
    "                                                cv=cv.split(X, y, year_month_hour.values), \n",
    "                                                scoring=rmsle_scorer)\n",
    "\n",
    "# На выходе мы получим 2 матрицы размера 20 на n_folds\n",
    "# Потому что у нас было 5 фолдов и 20 возможных значений гиперпараметра\n",
    "# А матриц 2, потому что в каждом фолде есть обучающая и валидационная часть"
   ]
  },
  {
   "cell_type": "code",
   "execution_count": 37,
   "metadata": {
    "collapsed": false
   },
   "outputs": [
    {
     "name": "stdout",
     "output_type": "stream",
     "text": [
      "[[ 1.17604225  1.18282608  1.16966167  1.1708152   1.17046534]\n",
      " [ 1.17586107  1.18249668  1.16932576  1.17045067  1.1701425 ]\n",
      " [ 1.17548867  1.18168135  1.16859931  1.16958268  1.16934255]\n",
      " [ 1.17397254  1.17944103  1.1669933   1.16735042  1.16755392]\n",
      " [ 1.16996005  1.1720002   1.16117445  1.162367    1.16294322]\n",
      " [ 1.16342819  1.16063298  1.15208961  1.15412793  1.15200909]\n",
      " [ 1.14081564  1.1368348   1.12559317  1.12695292  1.13091914]\n",
      " [ 1.11358242  1.10965825  1.10263547  1.10188353  1.1079965 ]\n",
      " [ 1.20683785  1.20618096  1.20096459  1.2004232   1.1989557 ]\n",
      " [ 1.37793796  1.37481483  1.37229734  1.37035474  1.36701771]\n",
      " [ 1.48428253  1.48093975  1.47770581  1.47501886  1.47119483]\n",
      " [ 1.5348436   1.53131995  1.52753992  1.52440566  1.52057617]\n",
      " [ 1.55202915  1.54849265  1.54431371  1.54086799  1.5372497 ]\n",
      " [ 1.55363915  1.55010782  1.54589552  1.54244697  1.53882594]\n",
      " [ 1.55363915  1.55010782  1.54589552  1.54244697  1.53882594]\n",
      " [ 1.55363915  1.55010782  1.54589552  1.54244697  1.53882594]\n",
      " [ 1.55363915  1.55010782  1.54589552  1.54244697  1.53882594]\n",
      " [ 1.55363915  1.55010782  1.54589552  1.54244697  1.53882594]\n",
      " [ 1.55363915  1.55010782  1.54589552  1.54244697  1.53882594]\n",
      " [ 1.55363915  1.55010782  1.54589552  1.54244697  1.53882594]]\n",
      "[[ 1.18304146  1.13745962  1.19766821  1.18465592  1.16797196]\n",
      " [ 1.18292626  1.13737786  1.19734534  1.18434191  1.16730831]\n",
      " [ 1.18256362  1.13713926  1.19647313  1.18365641  1.16584784]\n",
      " [ 1.18010117  1.13577175  1.19396233  1.18121891  1.16325289]\n",
      " [ 1.17533516  1.13216462  1.18995898  1.17614537  1.15936336]\n",
      " [ 1.16116024  1.12487248  1.17895004  1.17199159  1.14499431]\n",
      " [ 1.13473824  1.11168484  1.15123105  1.15723374  1.11058102]\n",
      " [ 1.09306647  1.10035959  1.11666486  1.1342841   1.09658116]\n",
      " [ 1.17664698  1.1907086   1.20373051  1.22242473  1.22944139]\n",
      " [ 1.34032045  1.35868086  1.36985139  1.39149102  1.40890856]\n",
      " [ 1.44300703  1.45939944  1.47652283  1.49824045  1.51809209]\n",
      " [ 1.4915124   1.50728808  1.5269648   1.54911219  1.56945618]\n",
      " [ 1.50793521  1.5237913   1.54400222  1.56614414  1.58671679]\n",
      " [ 1.50950588  1.52535677  1.54560627  1.56775545  1.58833278]\n",
      " [ 1.50950588  1.52535677  1.54560627  1.56775545  1.58833278]\n",
      " [ 1.50950588  1.52535677  1.54560627  1.56775545  1.58833278]\n",
      " [ 1.50950588  1.52535677  1.54560627  1.56775545  1.58833278]\n",
      " [ 1.50950588  1.52535677  1.54560627  1.56775545  1.58833278]\n",
      " [ 1.50950588  1.52535677  1.54560627  1.56775545  1.58833278]\n",
      " [ 1.50950588  1.52535677  1.54560627  1.56775545  1.58833278]]\n"
     ]
    }
   ],
   "source": [
    "print(train_scores)\n",
    "print(valid_scores)"
   ]
  },
  {
   "cell_type": "markdown",
   "metadata": {},
   "source": [
    "### Задание (0.25)\n",
    "\n",
    "Для каждой матрицы сделайте следующее\n",
    "\n",
    "* По каждой строчке посчитайте среднее значение (среднее значение качества по заданного значения параметра)\n",
    "* По каждой строчке посчитайте стандартное отклонение (мера разброса меры качества)\n",
    "\n",
    "Изобразите график, на котором \n",
    "* по оси x отложены значения alpha\n",
    "* по оси y отложены средние значения меры качества (отдельно для обучающей части и валидационной)\n",
    "* с помощью функции plt.fill_between изобразите разбос меры качества в каждой точке (придется чутка почитать документации)"
   ]
  },
  {
   "cell_type": "code",
   "execution_count": 38,
   "metadata": {
    "collapsed": false
   },
   "outputs": [
    {
     "name": "stdout",
     "output_type": "stream",
     "text": [
      "train mean: \n",
      " [ 1.17396211  1.17365534  1.17293891  1.17106224  1.16568898  1.15645756\n",
      "  1.13222313  1.10715124  1.20267246  1.37248452  1.47782836  1.52773706\n",
      "  1.54459064  1.54618308  1.54618308  1.54618308  1.54618308  1.54618308\n",
      "  1.54618308  1.54618308]\n",
      "train std: \n",
      " [ 0.00497034  0.00498778  0.0050192   0.00492577  0.00440521  0.00469721\n",
      "  0.0058057   0.00439319  0.00320781  0.00373169  0.00454421  0.00501509\n",
      "  0.00526082  0.0052757   0.0052757   0.0052757   0.0052757   0.0052757\n",
      "  0.0052757   0.0052757 ]\n",
      "valid mean: \n",
      " [ 1.17415943  1.17385994  1.17313605  1.17086141  1.1665935   1.15639373\n",
      "  1.13309378  1.10819124  1.20459044  1.37385046  1.47905237  1.52886673\n",
      "  1.54571793  1.54731143  1.54731143  1.54731143  1.54731143  1.54731143\n",
      "  1.54731143  1.54731143]\n",
      "valid std: \n",
      " [ 0.0206247   0.02057911  0.02046003  0.02007724  0.01975461  0.01948505\n",
      "  0.0193885   0.01534619  0.01954438  0.02412729  0.02677381  0.02800708\n",
      "  0.02831746  0.02833684  0.02833684  0.02833684  0.02833684  0.02833684\n",
      "  0.02833684  0.02833684]\n"
     ]
    }
   ],
   "source": [
    "print('train mean:', '\\n', np.mean(train_scores, axis=1))\n",
    "print('train std:', '\\n', np.std(train_scores, axis=1))\n",
    "\n",
    "print('valid mean:', '\\n', np.mean(valid_scores, axis=1))\n",
    "print('valid std:', '\\n', np.std(valid_scores, axis=1))"
   ]
  },
  {
   "cell_type": "code",
   "execution_count": 39,
   "metadata": {
    "collapsed": false
   },
   "outputs": [
    {
     "data": {
      "image/png": "[encoded data removed]",
      "text/plain": [
       "<matplotlib.figure.Figure at 0x1e6611e2940>"
      ]
     },
     "metadata": {},
     "output_type": "display_data"
    }
   ],
   "source": [
    "train, =plt.plot(range(1, 21), np.mean(train_scores, axis=1), 'ro', label = 'train')\n",
    "valid, =plt.plot(range(1, 21), np.mean(valid_scores, axis=1), 'k', label = 'valid')\n",
    "\n",
    "plt.legend(handles=[train, valid])\n",
    "plt.ylabel('mean')\n",
    "plt.xlabel('alpha_range')\n",
    "plt.title('mean scores_values')\n",
    "plt.show()"
   ]
  },
  {
   "cell_type": "code",
   "execution_count": 40,
   "metadata": {
    "collapsed": false
   },
   "outputs": [
    {
     "data": {
      "image/png": "[encoded data removed]",
      "text/plain": [
       "<matplotlib.figure.Figure at 0x1e661346550>"
      ]
     },
     "metadata": {},
     "output_type": "display_data"
    }
   ],
   "source": [
    "train, =plt.plot(np.logspace(-3, 5, 20), np.mean(train_scores, axis=1), 'ro', label = 'train')\n",
    "valid, =plt.plot(np.logspace(-3, 5, 20), np.mean(valid_scores, axis=1), 'k', label = 'valid')\n",
    "\n",
    "plt.legend(handles=[train, valid])\n",
    "plt.ylabel('mean')\n",
    "plt.xlabel('alpha')\n",
    "plt.title('mean scores_values')\n",
    "plt.show()"
   ]
  },
  {
   "cell_type": "code",
   "execution_count": 41,
   "metadata": {
    "collapsed": false
   },
   "outputs": [
    {
     "name": "stdout",
     "output_type": "stream",
     "text": [
      "0.001\n",
      "0.00263665089873\n",
      "0.00695192796178\n",
      "0.0183298071083\n",
      "0.0483293023857\n",
      "0.12742749857\n",
      "0.335981828628\n",
      "0.88586679041\n",
      "2.33572146909\n",
      "6.15848211066\n",
      "16.2377673919\n",
      "42.8133239872\n",
      "112.883789168\n",
      "297.635144163\n",
      "784.759970351\n",
      "2069.13808111\n",
      "5455.59478117\n",
      "14384.4988829\n",
      "37926.9019073\n",
      "100000.0\n"
     ]
    }
   ],
   "source": [
    "for i in np.logspace(-3, 5, 20):\n",
    "    print(i)"
   ]
  },
  {
   "cell_type": "code",
   "execution_count": 42,
   "metadata": {
    "collapsed": false
   },
   "outputs": [
    {
     "data": {
      "image/png": "[encoded data removed]",
      "text/plain": [
       "<matplotlib.figure.Figure at 0x1e662a4bfd0>"
      ]
     },
     "metadata": {},
     "output_type": "display_data"
    }
   ],
   "source": [
    "train, =plt.plot(np.logspace(-3, 5, 20), np.mean(train_scores, axis=1), 'ro', label = 'train')\n",
    "valid, =plt.plot(np.logspace(-3, 5, 20), np.mean(valid_scores, axis=1), 'k', label = 'valid')\n",
    "\n",
    "plt.legend(handles=[train, valid])\n",
    "plt.ylabel('mean')\n",
    "plt.xlabel('alpha')\n",
    "plt.title('mean scores_values')\n",
    "plt.axis([0, 3, 1.1, 1.25]) # чтобы хоть что-то увидеть вырезаем самый интересный кусок графика\n",
    "plt.show()"
   ]
  },
  {
   "cell_type": "code",
   "execution_count": 43,
   "metadata": {
    "collapsed": false
   },
   "outputs": [
    {
     "data": {
      "image/png": "[encoded data removed]",
      "text/plain": [
       "<matplotlib.figure.Figure at 0x1e6629cd1d0>"
      ]
     },
     "metadata": {},
     "output_type": "display_data"
    }
   ],
   "source": [
    "train, =plt.plot(range(1, 21), np.std(train_scores, axis=1), 'ro', label = 'train')\n",
    "valid, =plt.plot(range(1, 21), np.std(valid_scores, axis=1), 'k', label = 'valid')\n",
    "\n",
    "plt.legend(handles=[train, valid])\n",
    "plt.ylabel('std')\n",
    "plt.xlabel('alpha_range')\n",
    "plt.title('std scores_values')\n",
    "plt.show()"
   ]
  },
  {
   "cell_type": "code",
   "execution_count": 44,
   "metadata": {
    "collapsed": false
   },
   "outputs": [
    {
     "data": {
      "image/png": "[encoded data removed]",
      "text/plain": [
       "<matplotlib.figure.Figure at 0x1e662c19710>"
      ]
     },
     "metadata": {},
     "output_type": "display_data"
    }
   ],
   "source": [
    "train, =plt.plot(np.logspace(-3, 5, 20), np.std(train_scores, axis=1), 'ro', label = 'train')\n",
    "valid, =plt.plot(np.logspace(-3, 5, 20), np.std(valid_scores, axis=1), 'k', label = 'valid')\n",
    "\n",
    "plt.legend(handles=[train, valid])\n",
    "plt.ylabel('std')\n",
    "plt.xlabel('alpha')\n",
    "plt.title('std scores_values')\n",
    "plt.show()"
   ]
  },
  {
   "cell_type": "markdown",
   "metadata": {},
   "source": [
    "Цвета в matplotlib:\n",
    "* 'b': blue\n",
    "* 'g': green\n",
    "* 'r': red\n",
    "* 'c': cyan\n",
    "* 'm': magenta\n",
    "* 'y': yellow\n",
    "* 'k': black\n",
    "* 'w': white"
   ]
  },
  {
   "cell_type": "code",
   "execution_count": 45,
   "metadata": {
    "collapsed": false
   },
   "outputs": [
    {
     "data": {
      "image/png": "[encoded data removed]",
      "text/plain": [
       "<matplotlib.figure.Figure at 0x1e662bb4048>"
      ]
     },
     "metadata": {},
     "output_type": "display_data"
    }
   ],
   "source": [
    "# размер рисунка\n",
    "plt.figure(figsize=(20,10))\n",
    "\n",
    "\n",
    "# графики\n",
    "train, =plt.plot(range(1, 21), np.std(train_scores, axis=1), 'ro', label = 'train')\n",
    "valid, =plt.plot(range(1, 21), np.std(valid_scores, axis=1), 'k', label = 'valid')\n",
    "\n",
    "# заполнение пространства между графиками\n",
    "plt.fill_between(range(1, 21), np.std(train_scores, axis=1), np.std(valid_scores, axis=1), color='grey', alpha=0.4) \n",
    "# alpha=0.4 отвечает за степень прозрачности\n",
    "\n",
    "# Сетка\n",
    "\n",
    "# для отрисовки сетки\n",
    "ax = plt.gca();\n",
    "# Разбиения сетки\n",
    "ax.set_xticks(range(1, 21));\n",
    "ax.set_yticks(np.arange(0.0, 0.03, 0.001));\n",
    "# Названия разбиений\n",
    "ax.set_xticklabels(range(1, 21));\n",
    "ax.set_yticklabels(np.arange(0.0, 0.03, 0.001));\n",
    "# Отрисовка сетки\n",
    "ax.grid(color='g', linestyle='-', linewidth=1)\n",
    "\n",
    "# названия графиков\n",
    "plt.legend(handles=[train, valid])\n",
    "\n",
    "# название для оси y\n",
    "plt.ylabel('std')\n",
    "# название для оси x\n",
    "plt.xlabel('alpha_range')\n",
    "# название рисунка\n",
    "plt.title('std scores_values')\n",
    "\n",
    "plt.show()"
   ]
  },
  {
   "cell_type": "code",
   "execution_count": null,
   "metadata": {
    "collapsed": true
   },
   "outputs": [],
   "source": []
  }
 ],
 "metadata": {
  "anaconda-cloud": {},
  "kernelspec": {
   "display_name": "Python 3",
   "language": "python",
   "name": "python3"
  },
  "language_info": {
   "codemirror_mode": {
    "name": "ipython",
    "version": 3
   },
   "file_extension": ".py",
   "mimetype": "text/x-python",
   "name": "python",
   "nbconvert_exporter": "python",
   "pygments_lexer": "ipython3",
   "version": "3.6.0"
  },
  "nav_menu": {},
  "toc": {
   "colors": {
    "hover_highlight": "#DAA520",
    "navigate_num": "#000000",
    "navigate_text": "#333333",
    "running_highlight": "#FF0000",
    "selected_highlight": "#FFD700",
    "sidebar_border": "#EEEEEE",
    "wrapper_background": "#FFFFFF"
   },
   "moveMenuLeft": true,
   "nav_menu": {
    "height": "272px",
    "width": "253px"
   },
   "navigate_menu": true,
   "number_sections": false,
   "sideBar": true,
   "threshold": 4,
   "toc_cell": true,
   "toc_section_display": "block",
   "toc_window_display": true,
   "widenNotebook": false
  }
 },
 "nbformat": 4,
 "nbformat_minor": 1
}
