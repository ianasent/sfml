{
 "cells": [
  {
   "cell_type": "code",
   "execution_count": 1,
   "metadata": {
    "collapsed": false
   },
   "outputs": [
    {
     "data": {
      "text/html": [
       "<div>\n",
       "<style scoped>\n",
       "    .dataframe tbody tr th:only-of-type {\n",
       "        vertical-align: middle;\n",
       "    }\n",
       "\n",
       "    .dataframe tbody tr th {\n",
       "        vertical-align: top;\n",
       "    }\n",
       "\n",
       "    .dataframe thead th {\n",
       "        text-align: right;\n",
       "    }\n",
       "</style>\n",
       "<table border=\"1\" class=\"dataframe\">\n",
       "  <thead>\n",
       "    <tr style=\"text-align: right;\">\n",
       "      <th></th>\n",
       "      <th>0</th>\n",
       "      <th>1</th>\n",
       "    </tr>\n",
       "  </thead>\n",
       "  <tbody>\n",
       "    <tr>\n",
       "      <th>id</th>\n",
       "      <td>0</td>\n",
       "      <td>1</td>\n",
       "    </tr>\n",
       "    <tr>\n",
       "      <th>name</th>\n",
       "      <td>Заведующий отделом/секцией в магазин YORK (Уру...</td>\n",
       "      <td>Наладчик станков и манипуляторов с ПУ</td>\n",
       "    </tr>\n",
       "    <tr>\n",
       "      <th>description</th>\n",
       "      <td>&lt;p&gt;&lt;strong&gt;В НОВЫЙ МАГАЗИН YORK (хозтовары) пр...</td>\n",
       "      <td>Обязанности:работа на токарных станках с ЧПУ T...</td>\n",
       "    </tr>\n",
       "    <tr>\n",
       "      <th>target</th>\n",
       "      <td>1</td>\n",
       "      <td>0</td>\n",
       "    </tr>\n",
       "  </tbody>\n",
       "</table>\n",
       "</div>"
      ],
      "text/plain": [
       "                                                             0  \\\n",
       "id                                                           0   \n",
       "name         Заведующий отделом/секцией в магазин YORK (Уру...   \n",
       "description  <p><strong>В НОВЫЙ МАГАЗИН YORK (хозтовары) пр...   \n",
       "target                                                       1   \n",
       "\n",
       "                                                             1  \n",
       "id                                                           1  \n",
       "name                     Наладчик станков и манипуляторов с ПУ  \n",
       "description  Обязанности:работа на токарных станках с ЧПУ T...  \n",
       "target                                                       0  "
      ]
     },
     "execution_count": 1,
     "metadata": {},
     "output_type": "execute_result"
    }
   ],
   "source": [
    "import pandas as pd\n",
    "path_train=r'C:\\Users\\acer\\Desktop\\skillfactory\\6\\hw06_data\\train.csv'\n",
    "train=pd.read_csv(path_train, sep='\\t')\n",
    "\n",
    "train.head(2).T"
   ]
  },
  {
   "cell_type": "code",
   "execution_count": 2,
   "metadata": {
    "collapsed": false
   },
   "outputs": [
    {
     "data": {
      "text/html": [
       "<div>\n",
       "<style scoped>\n",
       "    .dataframe tbody tr th:only-of-type {\n",
       "        vertical-align: middle;\n",
       "    }\n",
       "\n",
       "    .dataframe tbody tr th {\n",
       "        vertical-align: top;\n",
       "    }\n",
       "\n",
       "    .dataframe thead th {\n",
       "        text-align: right;\n",
       "    }\n",
       "</style>\n",
       "<table border=\"1\" class=\"dataframe\">\n",
       "  <thead>\n",
       "    <tr style=\"text-align: right;\">\n",
       "      <th></th>\n",
       "      <th>0</th>\n",
       "      <th>1</th>\n",
       "    </tr>\n",
       "  </thead>\n",
       "  <tbody>\n",
       "    <tr>\n",
       "      <th>id</th>\n",
       "      <td>200000</td>\n",
       "      <td>200001</td>\n",
       "    </tr>\n",
       "    <tr>\n",
       "      <th>name</th>\n",
       "      <td>Дизайнер-консультант мебели</td>\n",
       "      <td>Продавец-консультант (ТЦ на Пушкина)</td>\n",
       "    </tr>\n",
       "    <tr>\n",
       "      <th>description</th>\n",
       "      <td>&lt;p&gt;&lt;strong&gt;Обязанности:&lt;/strong&gt;&lt;/p&gt; &lt;ul&gt; &lt;li&gt;...</td>\n",
       "      <td>&lt;p&gt;&lt;strong&gt;Обязанности&lt;/strong&gt;:&lt;/p&gt; &lt;p&gt;∙ конс...</td>\n",
       "    </tr>\n",
       "  </tbody>\n",
       "</table>\n",
       "</div>"
      ],
      "text/plain": [
       "                                                             0  \\\n",
       "id                                                      200000   \n",
       "name                               Дизайнер-консультант мебели   \n",
       "description  <p><strong>Обязанности:</strong></p> <ul> <li>...   \n",
       "\n",
       "                                                             1  \n",
       "id                                                      200001  \n",
       "name                      Продавец-консультант (ТЦ на Пушкина)  \n",
       "description  <p><strong>Обязанности</strong>:</p> <p>∙ конс...  "
      ]
     },
     "execution_count": 2,
     "metadata": {},
     "output_type": "execute_result"
    }
   ],
   "source": [
    "path_test=r'C:\\Users\\acer\\Desktop\\skillfactory\\6\\hw06_data\\test.csv'\n",
    "test=pd.read_csv(path_test, sep='\\t')\n",
    "\n",
    "test.head(2).T"
   ]
  },
  {
   "cell_type": "code",
   "execution_count": 3,
   "metadata": {
    "collapsed": true
   },
   "outputs": [],
   "source": [
    "vacancies=train.drop(['target'], axis=1).append(test, ignore_index=True)"
   ]
  },
  {
   "cell_type": "code",
   "execution_count": 4,
   "metadata": {
    "collapsed": true
   },
   "outputs": [],
   "source": [
    "vacancies['vacancy']=vacancies['name']+' '+vacancies['description']"
   ]
  },
  {
   "cell_type": "code",
   "execution_count": 5,
   "metadata": {
    "collapsed": true
   },
   "outputs": [],
   "source": [
    "vacancies_list=list(vacancies['vacancy'])"
   ]
  },
  {
   "cell_type": "code",
   "execution_count": 6,
   "metadata": {
    "collapsed": false
   },
   "outputs": [],
   "source": [
    "from sklearn.feature_extraction.text import TfidfVectorizer\n",
    "\n",
    "tfCounter=TfidfVectorizer()\n",
    "\n",
    "analyze  = tfCounter.build_analyzer()\n",
    "X        = tfCounter.fit_transform(vacancies_list)"
   ]
  },
  {
   "cell_type": "code",
   "execution_count": 22,
   "metadata": {
    "collapsed": false
   },
   "outputs": [],
   "source": [
    "X_train=X[:200000, :]\n",
    "X_test=X[200000:, :]"
   ]
  },
  {
   "cell_type": "code",
   "execution_count": 24,
   "metadata": {
    "collapsed": false
   },
   "outputs": [
    {
     "name": "stdout",
     "output_type": "stream",
     "text": [
      "(200000, 244936)\n",
      "(200000,)\n",
      "(170179, 244936)\n"
     ]
    }
   ],
   "source": [
    "y_train=train['target'].values\n",
    "print(X_train.shape)\n",
    "print(y_train.shape)\n",
    "print(X_test.shape)"
   ]
  },
  {
   "cell_type": "code",
   "execution_count": null,
   "metadata": {
    "collapsed": false
   },
   "outputs": [
    {
     "name": "stdout",
     "output_type": "stream",
     "text": [
      "Логистическая регрессия, всего: 32.54 минут\n",
      "--------------------------------------------------------------------------------- \n",
      "\n",
      "Логистическая регрессия, лучшая модель: {'penalty': 'l1', 'class_weight': None, 'C': 1.0}\n",
      "--------------------------------------------------------------------------------- \n",
      "\n",
      "Логистическая регрессия, лучший roc_auc: 0.9904133068891172\n",
      "------------------------------------------------------------------------------------------------------- \n",
      "\n"
     ]
    }
   ],
   "source": [
    "from sklearn.linear_model import LogisticRegression\n",
    "from sklearn.model_selection import RandomizedSearchCV, StratifiedKFold\n",
    "from datetime import datetime\n",
    "\n",
    "param_grid_lr = {\n",
    "    'penalty': ['l1', 'l2'],\n",
    "    'C': [0.000001, 0.00001, 0.0001, 0.001, 0.01, 0.1, 1.0],\n",
    "    'class_weight': [None, 'balanced']\n",
    "                }\n",
    "n_folds = 10\n",
    "cv = StratifiedKFold(n_splits=n_folds, shuffle=True, random_state=123)\n",
    "\n",
    "model_lr  = LogisticRegression(random_state=123)\n",
    "random_search_lr = RandomizedSearchCV(model_lr, param_distributions=param_grid_lr, n_iter=20, \n",
    "                                   cv=cv, scoring='roc_auc', random_state=123)\n",
    "dt_start=datetime.now()\n",
    "random_search_lr.fit(X_train, y_train)\n",
    "dt_end=datetime.now()\n",
    "print(\"Логистическая регрессия, всего: {0:.2f} минут\".format(((dt_end - dt_start).total_seconds())/60))\n",
    "print('---------------------------------------------------------------------------------', '\\n')\n",
    "print('Логистическая регрессия, лучшая модель:', random_search_lr.best_params_)\n",
    "print('---------------------------------------------------------------------------------', '\\n')\n",
    "print('Логистическая регрессия, лучший roc_auc:', random_search_lr.best_score_)\n",
    "print('-------------------------------------------------------------------------------------------------------', '\\n')"
   ]
  },
  {
   "cell_type": "code",
   "execution_count": 25,
   "metadata": {
    "collapsed": false
   },
   "outputs": [],
   "source": [
    "from sklearn.linear_model import LogisticRegression\n",
    "model=LogisticRegression(penalty='l1', class_weight=None, C=1.0, random_state=123)\n",
    "model.fit(X_train, y_train)\n",
    "predicted=model.predict(X_test)\n",
    "y_pred_proba=model.predict_proba(X_test)"
   ]
  },
  {
   "cell_type": "code",
   "execution_count": 26,
   "metadata": {
    "collapsed": false
   },
   "outputs": [
    {
     "data": {
      "text/plain": [
       "(170179, 244936)"
      ]
     },
     "execution_count": 26,
     "metadata": {},
     "output_type": "execute_result"
    }
   ],
   "source": [
    "X_test.shape"
   ]
  },
  {
   "cell_type": "code",
   "execution_count": 27,
   "metadata": {
    "collapsed": true
   },
   "outputs": [],
   "source": [
    "answer_proba=pd.DataFrame(y_pred_proba[:, 0], columns=['target'])\n",
    "answer_proba['id']=test['id']\n",
    "\n",
    "res_proba=answer_proba[['id', 'target']].copy()\n",
    "res_proba.to_csv('data/VacancyClassificationSF05_20180724.csv', sep=',', header=True, index=False)"
   ]
  },
  {
   "cell_type": "code",
   "execution_count": 9,
   "metadata": {
    "collapsed": false
   },
   "outputs": [
    {
     "name": "stdout",
     "output_type": "stream",
     "text": [
      "Логистическая регрессия, всего: 133.92 минут\n",
      "--------------------------------------------------------------------------------- \n",
      "\n",
      "Логистическая регрессия, лучшая модель: {'penalty': 'l2', 'class_weight': None, 'C': 1.0}\n",
      "--------------------------------------------------------------------------------- \n",
      "\n",
      "Логистическая регрессия, лучший roc_auc: 0.9911341353382709\n",
      "------------------------------------------------------------------------------------------------------- \n",
      "\n"
     ]
    }
   ],
   "source": [
    "from sklearn.feature_extraction.text import TfidfVectorizer\n",
    "from sklearn.linear_model import LogisticRegression\n",
    "from sklearn.model_selection import RandomizedSearchCV, StratifiedKFold\n",
    "from datetime import datetime\n",
    "\n",
    "tfCounter=TfidfVectorizer(ngram_range=(1,2))\n",
    "\n",
    "analyze  = tfCounter.build_analyzer()\n",
    "X        = tfCounter.fit_transform(vacancies_list)\n",
    "\n",
    "X_train=X[:200000, :]\n",
    "X_test=X[200000:, :]\n",
    "y_train=train['target'].values\n",
    "\n",
    "param_grid_lr = {\n",
    "    'penalty': ['l1', 'l2'],\n",
    "    'C': [0.000001, 0.00001, 0.0001, 0.001, 0.01, 0.1, 1.0],\n",
    "    'class_weight': [None, 'balanced']\n",
    "                }\n",
    "n_folds = 10\n",
    "cv = StratifiedKFold(n_splits=n_folds, shuffle=True, random_state=123)\n",
    "\n",
    "model_lr  = LogisticRegression(random_state=123)\n",
    "random_search_lr = RandomizedSearchCV(model_lr, param_distributions=param_grid_lr, n_iter=20, \n",
    "                                   cv=cv, scoring='roc_auc', random_state=123)\n",
    "dt_start=datetime.now()\n",
    "random_search_lr.fit(X_train, y_train)\n",
    "dt_end=datetime.now()\n",
    "print(\"Логистическая регрессия, всего: {0:.2f} минут\".format(((dt_end - dt_start).total_seconds())/60))\n",
    "print('---------------------------------------------------------------------------------', '\\n')\n",
    "print('Логистическая регрессия, лучшая модель:', random_search_lr.best_params_)\n",
    "print('---------------------------------------------------------------------------------', '\\n')\n",
    "print('Логистическая регрессия, лучший roc_auc:', random_search_lr.best_score_)\n",
    "print('-------------------------------------------------------------------------------------------------------', '\\n')"
   ]
  },
  {
   "cell_type": "code",
   "execution_count": 10,
   "metadata": {
    "collapsed": true
   },
   "outputs": [],
   "source": [
    "from sklearn.linear_model import LogisticRegression\n",
    "model=LogisticRegression(penalty='l2', class_weight=None, C=1.0, random_state=123)\n",
    "model.fit(X_train, y_train)\n",
    "predicted=model.predict(X_test)\n",
    "y_pred_proba=model.predict_proba(X_test)\n",
    "\n",
    "answer_proba=pd.DataFrame(y_pred_proba[:, 0], columns=['target'])\n",
    "answer_proba['id']=test['id']\n",
    "\n",
    "res_proba=answer_proba[['id', 'target']].copy()\n",
    "res_proba.to_csv('data/VacancyClassificationSF05_20180725.csv', sep=',', header=True, index=False)"
   ]
  }
 ],
 "metadata": {
  "kernelspec": {
   "display_name": "Python 3",
   "language": "python",
   "name": "python3"
  },
  "language_info": {
   "codemirror_mode": {
    "name": "ipython",
    "version": 3
   },
   "file_extension": ".py",
   "mimetype": "text/x-python",
   "name": "python",
   "nbconvert_exporter": "python",
   "pygments_lexer": "ipython3",
   "version": "3.6.0"
  }
 },
 "nbformat": 4,
 "nbformat_minor": 2
}
