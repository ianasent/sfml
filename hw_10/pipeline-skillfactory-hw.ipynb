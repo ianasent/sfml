{
 "cells": [
  {
   "cell_type": "markdown",
   "metadata": {
    "toc": "true"
   },
   "source": [
    "# Table of Contents\n",
    " <p><div class=\"lev1 toc-item\"><a href=\"#Skillfactory---Практический-Machine-Learning\" data-toc-modified-id=\"Skillfactory---Практический-Machine-Learning-1\"><span class=\"toc-item-num\">1&nbsp;&nbsp;</span>Skillfactory - Практический Machine Learning</a></div><div class=\"lev2 toc-item\"><a href=\"#19/02/2018---Аномалии,-работа-с-признаками,-пайплайны-(практика)\" data-toc-modified-id=\"19/02/2018---Аномалии,-работа-с-признаками,-пайплайны-(практика)-11\"><span class=\"toc-item-num\">1.1&nbsp;&nbsp;</span>19/02/2018 - Аномалии, работа с признаками, пайплайны (практика)</a></div><div class=\"lev1 toc-item\"><a href=\"#Создание-пайплайна-и-генерация-признаков\" data-toc-modified-id=\"Создание-пайплайна-и-генерация-признаков-2\"><span class=\"toc-item-num\">2&nbsp;&nbsp;</span>Создание пайплайна и генерация признаков</a></div><div class=\"lev2 toc-item\"><a href=\"#Посмотрим-на-данные\" data-toc-modified-id=\"Посмотрим-на-данные-21\"><span class=\"toc-item-num\">2.1&nbsp;&nbsp;</span>Посмотрим на данные</a></div><div class=\"lev2 toc-item\"><a href=\"#Генерим-признаки\" data-toc-modified-id=\"Генерим-признаки-22\"><span class=\"toc-item-num\">2.2&nbsp;&nbsp;</span>Генерим признаки</a></div><div class=\"lev2 toc-item\"><a href=\"#Подбор-гипер-параметров\" data-toc-modified-id=\"Подбор-гипер-параметров-23\"><span class=\"toc-item-num\">2.3&nbsp;&nbsp;</span>Подбор гипер-параметров</a></div><div class=\"lev3 toc-item\"><a href=\"#Pipeline\" data-toc-modified-id=\"Pipeline-231\"><span class=\"toc-item-num\">2.3.1&nbsp;&nbsp;</span>Pipeline</a></div><div class=\"lev3 toc-item\"><a href=\"#Подбор-гиперпараметров\" data-toc-modified-id=\"Подбор-гиперпараметров-232\"><span class=\"toc-item-num\">2.3.2&nbsp;&nbsp;</span>Подбор гиперпараметров</a></div><div class=\"lev4 toc-item\"><a href=\"#Grid-search\" data-toc-modified-id=\"Grid-search-2321\"><span class=\"toc-item-num\">2.3.2.1&nbsp;&nbsp;</span>Grid search</a></div><div class=\"lev4 toc-item\"><a href=\"#Random-Search\" data-toc-modified-id=\"Random-Search-2322\"><span class=\"toc-item-num\">2.3.2.2&nbsp;&nbsp;</span>Random Search</a></div><div class=\"lev3 toc-item\"><a href=\"#HyperOpt\" data-toc-modified-id=\"HyperOpt-233\"><span class=\"toc-item-num\">2.3.3&nbsp;&nbsp;</span>HyperOpt</a></div><div class=\"lev2 toc-item\"><a href=\"#Ваш-черед\" data-toc-modified-id=\"Ваш-черед-24\"><span class=\"toc-item-num\">2.4&nbsp;&nbsp;</span>Ваш черед</a></div><div class=\"lev3 toc-item\"><a href=\"#Новые-признаки\" data-toc-modified-id=\"Новые-признаки-241\"><span class=\"toc-item-num\">2.4.1&nbsp;&nbsp;</span>Новые признаки</a></div><div class=\"lev2 toc-item\"><a href=\"#Поиск-гиперпараметров\" data-toc-modified-id=\"Поиск-гиперпараметров-25\"><span class=\"toc-item-num\">2.5&nbsp;&nbsp;</span>Поиск гиперпараметров</a></div>"
   ]
  },
  {
   "cell_type": "markdown",
   "metadata": {},
   "source": [
    "# Skillfactory - Практический Machine Learning\n",
    "## 19/02/2018 - Аномалии, работа с признаками, пайплайны (практика)\n",
    "\n",
    "<center> Шестаков Андрей </center>"
   ]
  },
  {
   "cell_type": "code",
   "execution_count": 1,
   "metadata": {
    "collapsed": true
   },
   "outputs": [],
   "source": [
    "import pandas as pd\n",
    "import numpy as np\n",
    "import matplotlib.pyplot as plt\n",
    "\n",
    "\n",
    "%matplotlib inline\n",
    "\n",
    "plt.style.use('ggplot')\n",
    "plt.rcParams['figure.figsize'] = (12, 8)"
   ]
  },
  {
   "cell_type": "markdown",
   "metadata": {},
   "source": [
    "# Создание пайплайна и генерация признаков\n",
    "<center>Шестаков Андрей</center>"
   ]
  },
  {
   "cell_type": "markdown",
   "metadata": {},
   "source": [
    "В этом задании мы рассмотрим данные с предыдущего Sberbank Data Science Contest. К сожалению найти страницу с конкурсом уже не получается.\n",
    "\n",
    "Одной из задач была опредление пола владельца карты по его транзакциям на карте. Зачем это нужно - одному сберу известно, но эта задача была хороша тем, что в ней можно нагенерировать много разных признаков\n",
    "\n",
    "Есть такая [презентация](https://alexanderdyakonov.files.wordpress.com/2016/10/dj2016_sdsj_vis.pdf) с предварительным анализом данных и идеями про признаки\n",
    "\n",
    "Нам понадобятся файлы `customers_gender_train.csv`, `transactions.tsv.gz`, `mcc_types.tsv` и `trans_types.tsv`."
   ]
  },
  {
   "cell_type": "markdown",
   "metadata": {},
   "source": [
    "## Посмотрим на данные"
   ]
  },
  {
   "cell_type": "markdown",
   "metadata": {},
   "source": [
    "Это метки ответов"
   ]
  },
  {
   "cell_type": "code",
   "execution_count": 2,
   "metadata": {
    "collapsed": false
   },
   "outputs": [
    {
     "data": {
      "text/html": [
       "<div>\n",
       "<style scoped>\n",
       "    .dataframe tbody tr th:only-of-type {\n",
       "        vertical-align: middle;\n",
       "    }\n",
       "\n",
       "    .dataframe tbody tr th {\n",
       "        vertical-align: top;\n",
       "    }\n",
       "\n",
       "    .dataframe thead th {\n",
       "        text-align: right;\n",
       "    }\n",
       "</style>\n",
       "<table border=\"1\" class=\"dataframe\">\n",
       "  <thead>\n",
       "    <tr style=\"text-align: right;\">\n",
       "      <th></th>\n",
       "      <th>customer_id</th>\n",
       "      <th>gender</th>\n",
       "    </tr>\n",
       "  </thead>\n",
       "  <tbody>\n",
       "    <tr>\n",
       "      <th>0</th>\n",
       "      <td>75562265</td>\n",
       "      <td>0</td>\n",
       "    </tr>\n",
       "    <tr>\n",
       "      <th>1</th>\n",
       "      <td>10928546</td>\n",
       "      <td>1</td>\n",
       "    </tr>\n",
       "    <tr>\n",
       "      <th>2</th>\n",
       "      <td>69348468</td>\n",
       "      <td>1</td>\n",
       "    </tr>\n",
       "    <tr>\n",
       "      <th>3</th>\n",
       "      <td>84816985</td>\n",
       "      <td>1</td>\n",
       "    </tr>\n",
       "    <tr>\n",
       "      <th>4</th>\n",
       "      <td>61009479</td>\n",
       "      <td>0</td>\n",
       "    </tr>\n",
       "  </tbody>\n",
       "</table>\n",
       "</div>"
      ],
      "text/plain": [
       "   customer_id  gender\n",
       "0     75562265       0\n",
       "1     10928546       1\n",
       "2     69348468       1\n",
       "3     84816985       1\n",
       "4     61009479       0"
      ]
     },
     "execution_count": 2,
     "metadata": {},
     "output_type": "execute_result"
    }
   ],
   "source": [
    "df_gender = pd.read_csv('data/customers_gender_train.csv')\n",
    "df_gender.head()"
   ]
  },
  {
   "cell_type": "markdown",
   "metadata": {},
   "source": [
    "Это сами транзакции (отрицательные транзакции - списывание, положительные - зачисление на счет)"
   ]
  },
  {
   "cell_type": "code",
   "execution_count": 3,
   "metadata": {
    "collapsed": false
   },
   "outputs": [
    {
     "data": {
      "text/html": [
       "<div>\n",
       "<style scoped>\n",
       "    .dataframe tbody tr th:only-of-type {\n",
       "        vertical-align: middle;\n",
       "    }\n",
       "\n",
       "    .dataframe tbody tr th {\n",
       "        vertical-align: top;\n",
       "    }\n",
       "\n",
       "    .dataframe thead th {\n",
       "        text-align: right;\n",
       "    }\n",
       "</style>\n",
       "<table border=\"1\" class=\"dataframe\">\n",
       "  <thead>\n",
       "    <tr style=\"text-align: right;\">\n",
       "      <th></th>\n",
       "      <th>customer_id</th>\n",
       "      <th>tr_datetime</th>\n",
       "      <th>mcc_code</th>\n",
       "      <th>tr_type</th>\n",
       "      <th>amount</th>\n",
       "      <th>term_id</th>\n",
       "    </tr>\n",
       "  </thead>\n",
       "  <tbody>\n",
       "    <tr>\n",
       "      <th>0</th>\n",
       "      <td>39026145</td>\n",
       "      <td>0 10:23:26</td>\n",
       "      <td>4814</td>\n",
       "      <td>1030</td>\n",
       "      <td>-2245.92</td>\n",
       "      <td>NaN</td>\n",
       "    </tr>\n",
       "    <tr>\n",
       "      <th>1</th>\n",
       "      <td>39026145</td>\n",
       "      <td>1 10:19:29</td>\n",
       "      <td>6011</td>\n",
       "      <td>7010</td>\n",
       "      <td>56147.89</td>\n",
       "      <td>NaN</td>\n",
       "    </tr>\n",
       "    <tr>\n",
       "      <th>2</th>\n",
       "      <td>39026145</td>\n",
       "      <td>1 10:20:56</td>\n",
       "      <td>4829</td>\n",
       "      <td>2330</td>\n",
       "      <td>-56147.89</td>\n",
       "      <td>NaN</td>\n",
       "    </tr>\n",
       "    <tr>\n",
       "      <th>3</th>\n",
       "      <td>39026145</td>\n",
       "      <td>1 10:39:54</td>\n",
       "      <td>5499</td>\n",
       "      <td>1010</td>\n",
       "      <td>-1392.47</td>\n",
       "      <td>NaN</td>\n",
       "    </tr>\n",
       "    <tr>\n",
       "      <th>4</th>\n",
       "      <td>39026145</td>\n",
       "      <td>2 15:33:42</td>\n",
       "      <td>5499</td>\n",
       "      <td>1010</td>\n",
       "      <td>-920.83</td>\n",
       "      <td>NaN</td>\n",
       "    </tr>\n",
       "  </tbody>\n",
       "</table>\n",
       "</div>"
      ],
      "text/plain": [
       "   customer_id tr_datetime  mcc_code  tr_type    amount term_id\n",
       "0     39026145  0 10:23:26      4814     1030  -2245.92     NaN\n",
       "1     39026145  1 10:19:29      6011     7010  56147.89     NaN\n",
       "2     39026145  1 10:20:56      4829     2330 -56147.89     NaN\n",
       "3     39026145  1 10:39:54      5499     1010  -1392.47     NaN\n",
       "4     39026145  2 15:33:42      5499     1010   -920.83     NaN"
      ]
     },
     "execution_count": 3,
     "metadata": {},
     "output_type": "execute_result"
    }
   ],
   "source": [
    "df_transactions = pd.read_csv(r'C:\\Users\\acer\\Desktop\\skillfactory\\9\\hw\\data\\transactions.csv.gz')\n",
    "df_transactions.head()"
   ]
  },
  {
   "cell_type": "markdown",
   "metadata": {},
   "source": [
    "Далее, расшифровки кодов [mcc](https://ru.wikipedia.org/wiki/Merchant_Category_Code) и транзакций"
   ]
  },
  {
   "cell_type": "code",
   "execution_count": 4,
   "metadata": {
    "collapsed": false
   },
   "outputs": [
    {
     "data": {
      "text/html": [
       "<div>\n",
       "<style scoped>\n",
       "    .dataframe tbody tr th:only-of-type {\n",
       "        vertical-align: middle;\n",
       "    }\n",
       "\n",
       "    .dataframe tbody tr th {\n",
       "        vertical-align: top;\n",
       "    }\n",
       "\n",
       "    .dataframe thead th {\n",
       "        text-align: right;\n",
       "    }\n",
       "</style>\n",
       "<table border=\"1\" class=\"dataframe\">\n",
       "  <thead>\n",
       "    <tr style=\"text-align: right;\">\n",
       "      <th></th>\n",
       "      <th>tr_type</th>\n",
       "      <th>tr_description</th>\n",
       "    </tr>\n",
       "  </thead>\n",
       "  <tbody>\n",
       "    <tr>\n",
       "      <th>0</th>\n",
       "      <td>3200</td>\n",
       "      <td>Плата за предоставление услуг посредством моби...</td>\n",
       "    </tr>\n",
       "    <tr>\n",
       "      <th>1</th>\n",
       "      <td>3210</td>\n",
       "      <td>Плата за предоставление отчета по счету карты ...</td>\n",
       "    </tr>\n",
       "    <tr>\n",
       "      <th>2</th>\n",
       "      <td>3800</td>\n",
       "      <td>Плата за обслуживание банковской карты (за пер...</td>\n",
       "    </tr>\n",
       "    <tr>\n",
       "      <th>3</th>\n",
       "      <td>4000</td>\n",
       "      <td>Плата за получение наличных в Сбербанке</td>\n",
       "    </tr>\n",
       "    <tr>\n",
       "      <th>4</th>\n",
       "      <td>4001</td>\n",
       "      <td>Плата за получение наличных в Сбербанке (в дру...</td>\n",
       "    </tr>\n",
       "  </tbody>\n",
       "</table>\n",
       "</div>"
      ],
      "text/plain": [
       "   tr_type                                     tr_description\n",
       "0     3200  Плата за предоставление услуг посредством моби...\n",
       "1     3210  Плата за предоставление отчета по счету карты ...\n",
       "2     3800  Плата за обслуживание банковской карты (за пер...\n",
       "3     4000            Плата за получение наличных в Сбербанке\n",
       "4     4001  Плата за получение наличных в Сбербанке (в дру..."
      ]
     },
     "execution_count": 4,
     "metadata": {},
     "output_type": "execute_result"
    }
   ],
   "source": [
    "df_tr = pd.read_csv('data/tr_types.csv', sep=';')\n",
    "df_tr.head()"
   ]
  },
  {
   "cell_type": "code",
   "execution_count": 5,
   "metadata": {
    "collapsed": false
   },
   "outputs": [
    {
     "data": {
      "text/html": [
       "<div>\n",
       "<style scoped>\n",
       "    .dataframe tbody tr th:only-of-type {\n",
       "        vertical-align: middle;\n",
       "    }\n",
       "\n",
       "    .dataframe tbody tr th {\n",
       "        vertical-align: top;\n",
       "    }\n",
       "\n",
       "    .dataframe thead th {\n",
       "        text-align: right;\n",
       "    }\n",
       "</style>\n",
       "<table border=\"1\" class=\"dataframe\">\n",
       "  <thead>\n",
       "    <tr style=\"text-align: right;\">\n",
       "      <th></th>\n",
       "      <th>mcc_code</th>\n",
       "      <th>mcc_description</th>\n",
       "    </tr>\n",
       "  </thead>\n",
       "  <tbody>\n",
       "    <tr>\n",
       "      <th>0</th>\n",
       "      <td>742</td>\n",
       "      <td>Ветеринарные услуги</td>\n",
       "    </tr>\n",
       "    <tr>\n",
       "      <th>1</th>\n",
       "      <td>1711</td>\n",
       "      <td>Генеральные подрядчики по вентиляции, теплосна...</td>\n",
       "    </tr>\n",
       "    <tr>\n",
       "      <th>2</th>\n",
       "      <td>1731</td>\n",
       "      <td>Подрядчики по электричеству</td>\n",
       "    </tr>\n",
       "    <tr>\n",
       "      <th>3</th>\n",
       "      <td>1799</td>\n",
       "      <td>Подрядчики, специализированная торговля — нигд...</td>\n",
       "    </tr>\n",
       "    <tr>\n",
       "      <th>4</th>\n",
       "      <td>2741</td>\n",
       "      <td>Разнообразные издательства/печатное дело</td>\n",
       "    </tr>\n",
       "  </tbody>\n",
       "</table>\n",
       "</div>"
      ],
      "text/plain": [
       "   mcc_code                                    mcc_description\n",
       "0       742                                Ветеринарные услуги\n",
       "1      1711  Генеральные подрядчики по вентиляции, теплосна...\n",
       "2      1731                        Подрядчики по электричеству\n",
       "3      1799  Подрядчики, специализированная торговля — нигд...\n",
       "4      2741           Разнообразные издательства/печатное дело"
      ]
     },
     "execution_count": 5,
     "metadata": {},
     "output_type": "execute_result"
    }
   ],
   "source": [
    "df_mcc = pd.read_csv('data/tr_mcc_codes.csv', sep=';')\n",
    "df_mcc.head()"
   ]
  },
  {
   "cell_type": "markdown",
   "metadata": {},
   "source": [
    "Первое что мы видим - это странная дата и суммы в транзакциях. \n",
    "\n",
    "В принципе, посмотрев на исходное распределение \"относительных\" дат по какой-нибудь гендерной группы mcc, становится примерно понятно, что за даты закодированы.\n",
    "\n",
    "Ну а суммы транзакций организаторы просто умножили на $\\pi^{\\exp}$ =)\n",
    "\n",
    "Преобразование будет проделано ниже, но при желании, можете сами со всем разобраться."
   ]
  },
  {
   "cell_type": "code",
   "execution_count": 6,
   "metadata": {
    "collapsed": true
   },
   "outputs": [],
   "source": [
    "from pandas import Timestamp, DateOffset"
   ]
  },
  {
   "cell_type": "code",
   "execution_count": 7,
   "metadata": {
    "collapsed": true
   },
   "outputs": [],
   "source": [
    "def preproc_transactions(df_transactions):\n",
    "    sec_per_day = 86400\n",
    "    sec_per_hour = 3600\n",
    "    \n",
    "    start_date = 1420070400 - 154 * sec_per_day - 3 * sec_per_hour\n",
    "    \n",
    "    df_transactions.loc[:, 'day'] = df_transactions.tr_datetime\\\n",
    "                                               .str.split(' ')\\\n",
    "                                               .str.get(0)\\\n",
    "                                               .astype(int)\n",
    "    df_transactions.loc[:, 'time_raw'] = df_transactions.tr_datetime\\\n",
    "                                                    .str.split(' ')\\\n",
    "                                                    .str.get(1)\n",
    "\n",
    "    # set temp dt\n",
    "    df_transactions.loc[:, 'dt_temp'] = pd.to_datetime(df_transactions.loc[:, 'time_raw'], \n",
    "                                                    format='%H:%M:%S')\\\n",
    "                                        + DateOffset(years=115)\n",
    "    \n",
    "    df_transactions = df_transactions.assign(dt = lambda x: x.dt_temp.astype(np.int64) // 10**9\n",
    "                                             + (x.day - 153) * sec_per_day)\\\n",
    "                                     .assign(weekday = lambda x: ((x.day + 4) % 7 + 1))\n",
    "        \n",
    "    df_transactions.loc[:, 'datetime'] = pd.to_datetime(df_transactions.dt, unit='s')\n",
    "    df_transactions.loc[:, 'date'] = df_transactions.loc[:, 'datetime'].dt.strftime('%Y-%m-%d')\n",
    "    df_transactions.loc[:, 'hour'] = df_transactions.loc[:, 'datetime'].dt.strftime('%H')\n",
    "    \n",
    "    df_transactions = df_transactions.drop(['dt_temp', 'time_raw', 'tr_datetime'], axis=1)\n",
    "    \n",
    "    df_transactions.loc[:, 'amount'] = np.round(df_transactions.loc[:, 'amount']/(np.pi**np.exp(1)))\n",
    "            \n",
    "    return df_transactions"
   ]
  },
  {
   "cell_type": "code",
   "execution_count": 8,
   "metadata": {
    "collapsed": true
   },
   "outputs": [],
   "source": [
    "df_transactions = df_transactions.pipe(preproc_transactions)"
   ]
  },
  {
   "cell_type": "code",
   "execution_count": 9,
   "metadata": {
    "collapsed": false
   },
   "outputs": [
    {
     "data": {
      "text/html": [
       "<div>\n",
       "<style scoped>\n",
       "    .dataframe tbody tr th:only-of-type {\n",
       "        vertical-align: middle;\n",
       "    }\n",
       "\n",
       "    .dataframe tbody tr th {\n",
       "        vertical-align: top;\n",
       "    }\n",
       "\n",
       "    .dataframe thead th {\n",
       "        text-align: right;\n",
       "    }\n",
       "</style>\n",
       "<table border=\"1\" class=\"dataframe\">\n",
       "  <thead>\n",
       "    <tr style=\"text-align: right;\">\n",
       "      <th></th>\n",
       "      <th>customer_id</th>\n",
       "      <th>mcc_code</th>\n",
       "      <th>tr_type</th>\n",
       "      <th>amount</th>\n",
       "      <th>term_id</th>\n",
       "      <th>day</th>\n",
       "      <th>dt</th>\n",
       "      <th>weekday</th>\n",
       "      <th>datetime</th>\n",
       "      <th>date</th>\n",
       "      <th>hour</th>\n",
       "    </tr>\n",
       "  </thead>\n",
       "  <tbody>\n",
       "    <tr>\n",
       "      <th>0</th>\n",
       "      <td>39026145</td>\n",
       "      <td>4814</td>\n",
       "      <td>1030</td>\n",
       "      <td>-100.0</td>\n",
       "      <td>NaN</td>\n",
       "      <td>0</td>\n",
       "      <td>1406888606</td>\n",
       "      <td>5</td>\n",
       "      <td>2014-08-01 10:23:26</td>\n",
       "      <td>2014-08-01</td>\n",
       "      <td>10</td>\n",
       "    </tr>\n",
       "    <tr>\n",
       "      <th>1</th>\n",
       "      <td>39026145</td>\n",
       "      <td>6011</td>\n",
       "      <td>7010</td>\n",
       "      <td>2500.0</td>\n",
       "      <td>NaN</td>\n",
       "      <td>1</td>\n",
       "      <td>1406974769</td>\n",
       "      <td>6</td>\n",
       "      <td>2014-08-02 10:19:29</td>\n",
       "      <td>2014-08-02</td>\n",
       "      <td>10</td>\n",
       "    </tr>\n",
       "    <tr>\n",
       "      <th>2</th>\n",
       "      <td>39026145</td>\n",
       "      <td>4829</td>\n",
       "      <td>2330</td>\n",
       "      <td>-2500.0</td>\n",
       "      <td>NaN</td>\n",
       "      <td>1</td>\n",
       "      <td>1406974856</td>\n",
       "      <td>6</td>\n",
       "      <td>2014-08-02 10:20:56</td>\n",
       "      <td>2014-08-02</td>\n",
       "      <td>10</td>\n",
       "    </tr>\n",
       "    <tr>\n",
       "      <th>3</th>\n",
       "      <td>39026145</td>\n",
       "      <td>5499</td>\n",
       "      <td>1010</td>\n",
       "      <td>-62.0</td>\n",
       "      <td>NaN</td>\n",
       "      <td>1</td>\n",
       "      <td>1406975994</td>\n",
       "      <td>6</td>\n",
       "      <td>2014-08-02 10:39:54</td>\n",
       "      <td>2014-08-02</td>\n",
       "      <td>10</td>\n",
       "    </tr>\n",
       "    <tr>\n",
       "      <th>4</th>\n",
       "      <td>39026145</td>\n",
       "      <td>5499</td>\n",
       "      <td>1010</td>\n",
       "      <td>-41.0</td>\n",
       "      <td>NaN</td>\n",
       "      <td>2</td>\n",
       "      <td>1407080022</td>\n",
       "      <td>7</td>\n",
       "      <td>2014-08-03 15:33:42</td>\n",
       "      <td>2014-08-03</td>\n",
       "      <td>15</td>\n",
       "    </tr>\n",
       "  </tbody>\n",
       "</table>\n",
       "</div>"
      ],
      "text/plain": [
       "   customer_id  mcc_code  tr_type  amount term_id  day          dt  weekday  \\\n",
       "0     39026145      4814     1030  -100.0     NaN    0  1406888606        5   \n",
       "1     39026145      6011     7010  2500.0     NaN    1  1406974769        6   \n",
       "2     39026145      4829     2330 -2500.0     NaN    1  1406974856        6   \n",
       "3     39026145      5499     1010   -62.0     NaN    1  1406975994        6   \n",
       "4     39026145      5499     1010   -41.0     NaN    2  1407080022        7   \n",
       "\n",
       "             datetime        date hour  \n",
       "0 2014-08-01 10:23:26  2014-08-01   10  \n",
       "1 2014-08-02 10:19:29  2014-08-02   10  \n",
       "2 2014-08-02 10:20:56  2014-08-02   10  \n",
       "3 2014-08-02 10:39:54  2014-08-02   10  \n",
       "4 2014-08-03 15:33:42  2014-08-03   15  "
      ]
     },
     "execution_count": 9,
     "metadata": {},
     "output_type": "execute_result"
    }
   ],
   "source": [
    "df_transactions.head()"
   ]
  },
  {
   "cell_type": "markdown",
   "metadata": {},
   "source": [
    "## Генерим признаки"
   ]
  },
  {
   "cell_type": "markdown",
   "metadata": {},
   "source": [
    "В качестве базовых признаков, можно взять, например, \n",
    "* количество (доля) транзакций по каждому mcc_code\n",
    "* количество (доля) транзакций в разные промежутки времени"
   ]
  },
  {
   "cell_type": "code",
   "execution_count": 10,
   "metadata": {
    "collapsed": true
   },
   "outputs": [],
   "source": [
    "def gen_features(df_gender, df_transactions):\n",
    "    \n",
    "    df_mcc_counts = \\\n",
    "        df_transactions.pivot_table(index=['customer_id'], columns='mcc_code', values='amount', \n",
    "                             aggfunc=np.size, fill_value=0)\n",
    "\n",
    "    df_mcc_counts = df_mcc_counts.rename_axis(lambda x: 'mcc_{}_count'.format(x), axis=1)\n",
    "\n",
    "    df_hour_rations = \\\n",
    "        df_transactions.pivot_table(index=['customer_id'], columns='hour', values='amount', \n",
    "                             aggfunc=np.size, fill_value=0)\n",
    "\n",
    "    # Сложная и нетривиальная конструкция\n",
    "    total = df_hour_rations.sum(axis=1)\n",
    "    df_hour_rations.loc[:, 'morning'] = (df_hour_rations.loc[:, '05':'11'].sum(axis=1).T/total).T\n",
    "    df_hour_rations.loc[:, 'day'] = (df_hour_rations.loc[:, '12':'17'].sum(axis=1).T/total).T\n",
    "    df_hour_rations.loc[:, 'evening'] = (df_hour_rations.loc[:, '18':'23'].sum(axis=1).T/total).T\n",
    "    df_hour_rations.loc[:, 'night'] = (df_hour_rations.loc[:, '00':'04'].sum(axis=1).T/total).T\n",
    "\n",
    "\n",
    "    # Объединяем:\n",
    "    df_features = df_gender.join(df_mcc_counts, on='customer_id', how='left')\\\n",
    "                           .join(df_hour_rations.loc[:, ['morning', 'day', 'evening', 'night']], on='customer_id', how='left')\n",
    "        \n",
    "    return df_features"
   ]
  },
  {
   "cell_type": "code",
   "execution_count": 11,
   "metadata": {
    "collapsed": false
   },
   "outputs": [
    {
     "name": "stderr",
     "output_type": "stream",
     "text": [
      "C:\\ProgramData\\Anaconda3\\lib\\site-packages\\ipykernel\\__main__.py:6: FutureWarning: Using 'rename_axis' to alter labels is deprecated. Use '.rename' instead\n"
     ]
    }
   ],
   "source": [
    "df_features = df_gender.pipe(gen_features, df_transactions)"
   ]
  },
  {
   "cell_type": "code",
   "execution_count": 12,
   "metadata": {
    "collapsed": true
   },
   "outputs": [],
   "source": [
    "label = 'gender'\n",
    "idx_features = df_features.columns != label"
   ]
  },
  {
   "cell_type": "code",
   "execution_count": 13,
   "metadata": {
    "collapsed": true
   },
   "outputs": [],
   "source": [
    "X = df_features.loc[:, idx_features].values\n",
    "y = df_features.loc[:, ~idx_features].values.flatten()"
   ]
  },
  {
   "cell_type": "markdown",
   "metadata": {},
   "source": [
    "## Подбор гипер-параметров"
   ]
  },
  {
   "cell_type": "markdown",
   "metadata": {
    "collapsed": true
   },
   "source": [
    "### Pipeline"
   ]
  },
  {
   "cell_type": "markdown",
   "metadata": {},
   "source": [
    "Сделаем простой sklearn пайплайн, который делает следующее:\n",
    "* Нормирует признаки через StandartScaler\n",
    "* Запускает лог-регрессию"
   ]
  },
  {
   "cell_type": "code",
   "execution_count": 14,
   "metadata": {
    "collapsed": true
   },
   "outputs": [],
   "source": [
    "from sklearn.pipeline import Pipeline, FeatureUnion\n",
    "from sklearn.preprocessing import OneHotEncoder, StandardScaler\n",
    "\n",
    "from sklearn.linear_model import LogisticRegression"
   ]
  },
  {
   "cell_type": "code",
   "execution_count": 15,
   "metadata": {
    "collapsed": true
   },
   "outputs": [],
   "source": [
    "model = Pipeline([\n",
    "    ('scaler', StandardScaler()),\n",
    "    ('clf', LogisticRegression())\n",
    "])"
   ]
  },
  {
   "cell_type": "code",
   "execution_count": 16,
   "metadata": {
    "collapsed": true
   },
   "outputs": [],
   "source": [
    "RND_SEED = 123"
   ]
  },
  {
   "cell_type": "markdown",
   "metadata": {},
   "source": [
    "### Подбор гиперпараметров\n",
    "\n",
    "До этого мы исключительно смотрели, как влияет на меру качества какой-то один параметр при фиксированных остальных. Пришло время перебирать все что можно!\n",
    "\n",
    "В базовом варианте, это делается либо через `Grid Search`, либо через `Random Search`. Какие ключевые отличия?\n",
    "* В `Grid Search` вы в явнов виде задаете возможные значения каждого гипер-параметра, который хотите варьировать. Соответственно, выполняется **полный** перебор всех возможных комбинаций\n",
    "* В `Random Search` допукается указание распределения параметров, например \"равномерно, на интервале от 0 до 100\" или \"нормальное распределение с таким-то цетром и такой-то дисперсией. Соответственно, так как это случайный перебор, то **вы** просто **задаете** количество случайных комбинаций, которые будут проверяться\n",
    "\n",
    "Может показаться, что делать случайный перебор опасно - там же все случайно. Но на практике именно он и используется в силу двух причин\n",
    "* Полный перебор большого количества комбинаций очень долгий\n",
    "* Мы можем просто пропустить значения гиперпараметра, которые сильно влияют на метрику качества (см рисунок снизу)"
   ]
  },
  {
   "cell_type": "markdown",
   "metadata": {},
   "source": [
    "<img src='img/gridsearch.jpeg'>"
   ]
  },
  {
   "cell_type": "markdown",
   "metadata": {},
   "source": [
    "Попробуем оба варианта"
   ]
  },
  {
   "cell_type": "markdown",
   "metadata": {},
   "source": [
    "#### Grid search"
   ]
  },
  {
   "cell_type": "code",
   "execution_count": 17,
   "metadata": {
    "collapsed": true
   },
   "outputs": [],
   "source": [
    "from sklearn.model_selection import GridSearchCV, RandomizedSearchCV\n",
    "from sklearn.model_selection import StratifiedKFold\n"
   ]
  },
  {
   "cell_type": "code",
   "execution_count": 18,
   "metadata": {
    "collapsed": false
   },
   "outputs": [
    {
     "name": "stdout",
     "output_type": "stream",
     "text": [
      "{'scaler__with_mean': [False, True], 'clf__penalty': ['l1', 'l2'], 'clf__random_state': [123], 'clf__C': array([1.00000000e-05, 7.74263683e-05, 5.99484250e-04, 4.64158883e-03,\n",
      "       3.59381366e-02, 2.78255940e-01, 2.15443469e+00, 1.66810054e+01,\n",
      "       1.29154967e+02, 1.00000000e+03])}\n"
     ]
    }
   ],
   "source": [
    "# Задаем значения параметров, которые хотим проверить\n",
    "\n",
    "# в данном случае \"__\" разленяет название гиперпараметра от этапа, где этот гиперпараметр используется\n",
    "# если у нас будет не пайплайн, а просто один классификатор, то разделитель указывать не нужно\n",
    "param_grid = {\n",
    "    'scaler__with_mean': [False, True],\n",
    "    'clf__penalty': ['l1', 'l2'],\n",
    "    'clf__random_state': [RND_SEED],\n",
    "    'clf__C': np.logspace(-5, 3, 10)\n",
    "}\n",
    "\n",
    "print(param_grid)\n",
    "\n",
    "# Задаем схему кросс-валидации\n",
    "cv = StratifiedKFold(n_splits=5, random_state=RND_SEED, shuffle=True)"
   ]
  },
  {
   "cell_type": "code",
   "execution_count": 19,
   "metadata": {
    "collapsed": false
   },
   "outputs": [
    {
     "name": "stdout",
     "output_type": "stream",
     "text": [
      "Fitting 5 folds for each of 40 candidates, totalling 200 fits\n",
      "[CV] clf__C=1e-05, clf__penalty=l1, clf__random_state=123, scaler__with_mean=False \n",
      "[CV]  clf__C=1e-05, clf__penalty=l1, clf__random_state=123, scaler__with_mean=False, total=   0.5s\n",
      "[CV] clf__C=1e-05, clf__penalty=l1, clf__random_state=123, scaler__with_mean=False \n"
     ]
    },
    {
     "name": "stderr",
     "output_type": "stream",
     "text": [
      "[Parallel(n_jobs=1)]: Done   1 out of   1 | elapsed:    0.7s remaining:    0.0s\n"
     ]
    },
    {
     "name": "stdout",
     "output_type": "stream",
     "text": [
      "[CV]  clf__C=1e-05, clf__penalty=l1, clf__random_state=123, scaler__with_mean=False, total=   0.4s\n",
      "[CV] clf__C=1e-05, clf__penalty=l1, clf__random_state=123, scaler__with_mean=False \n",
      "[CV]  clf__C=1e-05, clf__penalty=l1, clf__random_state=123, scaler__with_mean=False, total=   0.2s\n",
      "[CV] clf__C=1e-05, clf__penalty=l1, clf__random_state=123, scaler__with_mean=False \n",
      "[CV]  clf__C=1e-05, clf__penalty=l1, clf__random_state=123, scaler__with_mean=False, total=   0.2s\n",
      "[CV] clf__C=1e-05, clf__penalty=l1, clf__random_state=123, scaler__with_mean=False \n",
      "[CV]  clf__C=1e-05, clf__penalty=l1, clf__random_state=123, scaler__with_mean=False, total=   0.2s\n",
      "[CV] clf__C=1e-05, clf__penalty=l1, clf__random_state=123, scaler__with_mean=True \n",
      "[CV]  clf__C=1e-05, clf__penalty=l1, clf__random_state=123, scaler__with_mean=True, total=   0.4s\n",
      "[CV] clf__C=1e-05, clf__penalty=l1, clf__random_state=123, scaler__with_mean=True \n",
      "[CV]  clf__C=1e-05, clf__penalty=l1, clf__random_state=123, scaler__with_mean=True, total=   0.3s\n",
      "[CV] clf__C=1e-05, clf__penalty=l1, clf__random_state=123, scaler__with_mean=True \n",
      "[CV]  clf__C=1e-05, clf__penalty=l1, clf__random_state=123, scaler__with_mean=True, total=   0.3s\n",
      "[CV] clf__C=1e-05, clf__penalty=l1, clf__random_state=123, scaler__with_mean=True \n",
      "[CV]  clf__C=1e-05, clf__penalty=l1, clf__random_state=123, scaler__with_mean=True, total=   0.3s\n",
      "[CV] clf__C=1e-05, clf__penalty=l1, clf__random_state=123, scaler__with_mean=True \n",
      "[CV]  clf__C=1e-05, clf__penalty=l1, clf__random_state=123, scaler__with_mean=True, total=   0.3s\n",
      "[CV] clf__C=1e-05, clf__penalty=l2, clf__random_state=123, scaler__with_mean=False \n",
      "[CV]  clf__C=1e-05, clf__penalty=l2, clf__random_state=123, scaler__with_mean=False, total=   0.4s\n",
      "[CV] clf__C=1e-05, clf__penalty=l2, clf__random_state=123, scaler__with_mean=False \n",
      "[CV]  clf__C=1e-05, clf__penalty=l2, clf__random_state=123, scaler__with_mean=False, total=   0.2s\n",
      "[CV] clf__C=1e-05, clf__penalty=l2, clf__random_state=123, scaler__with_mean=False \n",
      "[CV]  clf__C=1e-05, clf__penalty=l2, clf__random_state=123, scaler__with_mean=False, total=   0.2s\n",
      "[CV] clf__C=1e-05, clf__penalty=l2, clf__random_state=123, scaler__with_mean=False \n",
      "[CV]  clf__C=1e-05, clf__penalty=l2, clf__random_state=123, scaler__with_mean=False, total=   0.3s\n",
      "[CV] clf__C=1e-05, clf__penalty=l2, clf__random_state=123, scaler__with_mean=False \n",
      "[CV]  clf__C=1e-05, clf__penalty=l2, clf__random_state=123, scaler__with_mean=False, total=   0.2s\n",
      "[CV] clf__C=1e-05, clf__penalty=l2, clf__random_state=123, scaler__with_mean=True \n",
      "[CV]  clf__C=1e-05, clf__penalty=l2, clf__random_state=123, scaler__with_mean=True, total=   0.4s\n",
      "[CV] clf__C=1e-05, clf__penalty=l2, clf__random_state=123, scaler__with_mean=True \n",
      "[CV]  clf__C=1e-05, clf__penalty=l2, clf__random_state=123, scaler__with_mean=True, total=   0.4s\n",
      "[CV] clf__C=1e-05, clf__penalty=l2, clf__random_state=123, scaler__with_mean=True \n",
      "[CV]  clf__C=1e-05, clf__penalty=l2, clf__random_state=123, scaler__with_mean=True, total=   0.4s\n",
      "[CV] clf__C=1e-05, clf__penalty=l2, clf__random_state=123, scaler__with_mean=True \n",
      "[CV]  clf__C=1e-05, clf__penalty=l2, clf__random_state=123, scaler__with_mean=True, total=   0.4s\n",
      "[CV] clf__C=1e-05, clf__penalty=l2, clf__random_state=123, scaler__with_mean=True \n",
      "[CV]  clf__C=1e-05, clf__penalty=l2, clf__random_state=123, scaler__with_mean=True, total=   0.4s\n",
      "[CV] clf__C=7.742636826811278e-05, clf__penalty=l1, clf__random_state=123, scaler__with_mean=False \n",
      "[CV]  clf__C=7.742636826811278e-05, clf__penalty=l1, clf__random_state=123, scaler__with_mean=False, total=   0.2s\n",
      "[CV] clf__C=7.742636826811278e-05, clf__penalty=l1, clf__random_state=123, scaler__with_mean=False \n",
      "[CV]  clf__C=7.742636826811278e-05, clf__penalty=l1, clf__random_state=123, scaler__with_mean=False, total=   0.2s\n",
      "[CV] clf__C=7.742636826811278e-05, clf__penalty=l1, clf__random_state=123, scaler__with_mean=False \n",
      "[CV]  clf__C=7.742636826811278e-05, clf__penalty=l1, clf__random_state=123, scaler__with_mean=False, total=   0.2s\n",
      "[CV] clf__C=7.742636826811278e-05, clf__penalty=l1, clf__random_state=123, scaler__with_mean=False \n",
      "[CV]  clf__C=7.742636826811278e-05, clf__penalty=l1, clf__random_state=123, scaler__with_mean=False, total=   0.2s\n",
      "[CV] clf__C=7.742636826811278e-05, clf__penalty=l1, clf__random_state=123, scaler__with_mean=False \n",
      "[CV]  clf__C=7.742636826811278e-05, clf__penalty=l1, clf__random_state=123, scaler__with_mean=False, total=   0.2s\n",
      "[CV] clf__C=7.742636826811278e-05, clf__penalty=l1, clf__random_state=123, scaler__with_mean=True \n",
      "[CV]  clf__C=7.742636826811278e-05, clf__penalty=l1, clf__random_state=123, scaler__with_mean=True, total=   0.3s\n",
      "[CV] clf__C=7.742636826811278e-05, clf__penalty=l1, clf__random_state=123, scaler__with_mean=True \n",
      "[CV]  clf__C=7.742636826811278e-05, clf__penalty=l1, clf__random_state=123, scaler__with_mean=True, total=   0.4s\n",
      "[CV] clf__C=7.742636826811278e-05, clf__penalty=l1, clf__random_state=123, scaler__with_mean=True \n",
      "[CV]  clf__C=7.742636826811278e-05, clf__penalty=l1, clf__random_state=123, scaler__with_mean=True, total=   0.3s\n",
      "[CV] clf__C=7.742636826811278e-05, clf__penalty=l1, clf__random_state=123, scaler__with_mean=True \n",
      "[CV]  clf__C=7.742636826811278e-05, clf__penalty=l1, clf__random_state=123, scaler__with_mean=True, total=   0.3s\n",
      "[CV] clf__C=7.742636826811278e-05, clf__penalty=l1, clf__random_state=123, scaler__with_mean=True \n",
      "[CV]  clf__C=7.742636826811278e-05, clf__penalty=l1, clf__random_state=123, scaler__with_mean=True, total=   0.3s\n",
      "[CV] clf__C=7.742636826811278e-05, clf__penalty=l2, clf__random_state=123, scaler__with_mean=False \n",
      "[CV]  clf__C=7.742636826811278e-05, clf__penalty=l2, clf__random_state=123, scaler__with_mean=False, total=   0.3s\n",
      "[CV] clf__C=7.742636826811278e-05, clf__penalty=l2, clf__random_state=123, scaler__with_mean=False \n",
      "[CV]  clf__C=7.742636826811278e-05, clf__penalty=l2, clf__random_state=123, scaler__with_mean=False, total=   0.2s\n",
      "[CV] clf__C=7.742636826811278e-05, clf__penalty=l2, clf__random_state=123, scaler__with_mean=False \n",
      "[CV]  clf__C=7.742636826811278e-05, clf__penalty=l2, clf__random_state=123, scaler__with_mean=False, total=   0.3s\n",
      "[CV] clf__C=7.742636826811278e-05, clf__penalty=l2, clf__random_state=123, scaler__with_mean=False \n",
      "[CV]  clf__C=7.742636826811278e-05, clf__penalty=l2, clf__random_state=123, scaler__with_mean=False, total=   0.3s\n",
      "[CV] clf__C=7.742636826811278e-05, clf__penalty=l2, clf__random_state=123, scaler__with_mean=False \n",
      "[CV]  clf__C=7.742636826811278e-05, clf__penalty=l2, clf__random_state=123, scaler__with_mean=False, total=   0.2s\n",
      "[CV] clf__C=7.742636826811278e-05, clf__penalty=l2, clf__random_state=123, scaler__with_mean=True \n",
      "[CV]  clf__C=7.742636826811278e-05, clf__penalty=l2, clf__random_state=123, scaler__with_mean=True, total=   0.4s\n",
      "[CV] clf__C=7.742636826811278e-05, clf__penalty=l2, clf__random_state=123, scaler__with_mean=True \n",
      "[CV]  clf__C=7.742636826811278e-05, clf__penalty=l2, clf__random_state=123, scaler__with_mean=True, total=   0.4s\n",
      "[CV] clf__C=7.742636826811278e-05, clf__penalty=l2, clf__random_state=123, scaler__with_mean=True \n",
      "[CV]  clf__C=7.742636826811278e-05, clf__penalty=l2, clf__random_state=123, scaler__with_mean=True, total=   0.4s\n",
      "[CV] clf__C=7.742636826811278e-05, clf__penalty=l2, clf__random_state=123, scaler__with_mean=True \n",
      "[CV]  clf__C=7.742636826811278e-05, clf__penalty=l2, clf__random_state=123, scaler__with_mean=True, total=   0.4s\n",
      "[CV] clf__C=7.742636826811278e-05, clf__penalty=l2, clf__random_state=123, scaler__with_mean=True \n",
      "[CV]  clf__C=7.742636826811278e-05, clf__penalty=l2, clf__random_state=123, scaler__with_mean=True, total=   0.4s\n",
      "[CV] clf__C=0.0005994842503189409, clf__penalty=l1, clf__random_state=123, scaler__with_mean=False \n",
      "[CV]  clf__C=0.0005994842503189409, clf__penalty=l1, clf__random_state=123, scaler__with_mean=False, total=   0.2s\n",
      "[CV] clf__C=0.0005994842503189409, clf__penalty=l1, clf__random_state=123, scaler__with_mean=False \n",
      "[CV]  clf__C=0.0005994842503189409, clf__penalty=l1, clf__random_state=123, scaler__with_mean=False, total=   0.2s\n",
      "[CV] clf__C=0.0005994842503189409, clf__penalty=l1, clf__random_state=123, scaler__with_mean=False \n",
      "[CV]  clf__C=0.0005994842503189409, clf__penalty=l1, clf__random_state=123, scaler__with_mean=False, total=   0.2s\n",
      "[CV] clf__C=0.0005994842503189409, clf__penalty=l1, clf__random_state=123, scaler__with_mean=False \n",
      "[CV]  clf__C=0.0005994842503189409, clf__penalty=l1, clf__random_state=123, scaler__with_mean=False, total=   0.2s\n",
      "[CV] clf__C=0.0005994842503189409, clf__penalty=l1, clf__random_state=123, scaler__with_mean=False \n",
      "[CV]  clf__C=0.0005994842503189409, clf__penalty=l1, clf__random_state=123, scaler__with_mean=False, total=   0.2s\n",
      "[CV] clf__C=0.0005994842503189409, clf__penalty=l1, clf__random_state=123, scaler__with_mean=True \n",
      "[CV]  clf__C=0.0005994842503189409, clf__penalty=l1, clf__random_state=123, scaler__with_mean=True, total=   0.3s\n",
      "[CV] clf__C=0.0005994842503189409, clf__penalty=l1, clf__random_state=123, scaler__with_mean=True \n",
      "[CV]  clf__C=0.0005994842503189409, clf__penalty=l1, clf__random_state=123, scaler__with_mean=True, total=   0.3s\n",
      "[CV] clf__C=0.0005994842503189409, clf__penalty=l1, clf__random_state=123, scaler__with_mean=True \n",
      "[CV]  clf__C=0.0005994842503189409, clf__penalty=l1, clf__random_state=123, scaler__with_mean=True, total=   0.3s\n",
      "[CV] clf__C=0.0005994842503189409, clf__penalty=l1, clf__random_state=123, scaler__with_mean=True \n",
      "[CV]  clf__C=0.0005994842503189409, clf__penalty=l1, clf__random_state=123, scaler__with_mean=True, total=   0.3s\n",
      "[CV] clf__C=0.0005994842503189409, clf__penalty=l1, clf__random_state=123, scaler__with_mean=True \n",
      "[CV]  clf__C=0.0005994842503189409, clf__penalty=l1, clf__random_state=123, scaler__with_mean=True, total=   0.3s\n",
      "[CV] clf__C=0.0005994842503189409, clf__penalty=l2, clf__random_state=123, scaler__with_mean=False \n",
      "[CV]  clf__C=0.0005994842503189409, clf__penalty=l2, clf__random_state=123, scaler__with_mean=False, total=   0.3s\n",
      "[CV] clf__C=0.0005994842503189409, clf__penalty=l2, clf__random_state=123, scaler__with_mean=False \n",
      "[CV]  clf__C=0.0005994842503189409, clf__penalty=l2, clf__random_state=123, scaler__with_mean=False, total=   0.3s\n",
      "[CV] clf__C=0.0005994842503189409, clf__penalty=l2, clf__random_state=123, scaler__with_mean=False \n",
      "[CV]  clf__C=0.0005994842503189409, clf__penalty=l2, clf__random_state=123, scaler__with_mean=False, total=   0.3s\n",
      "[CV] clf__C=0.0005994842503189409, clf__penalty=l2, clf__random_state=123, scaler__with_mean=False \n",
      "[CV]  clf__C=0.0005994842503189409, clf__penalty=l2, clf__random_state=123, scaler__with_mean=False, total=   0.3s\n",
      "[CV] clf__C=0.0005994842503189409, clf__penalty=l2, clf__random_state=123, scaler__with_mean=False \n",
      "[CV]  clf__C=0.0005994842503189409, clf__penalty=l2, clf__random_state=123, scaler__with_mean=False, total=   0.3s\n",
      "[CV] clf__C=0.0005994842503189409, clf__penalty=l2, clf__random_state=123, scaler__with_mean=True \n",
      "[CV]  clf__C=0.0005994842503189409, clf__penalty=l2, clf__random_state=123, scaler__with_mean=True, total=   0.5s\n",
      "[CV] clf__C=0.0005994842503189409, clf__penalty=l2, clf__random_state=123, scaler__with_mean=True \n",
      "[CV]  clf__C=0.0005994842503189409, clf__penalty=l2, clf__random_state=123, scaler__with_mean=True, total=   0.6s\n",
      "[CV] clf__C=0.0005994842503189409, clf__penalty=l2, clf__random_state=123, scaler__with_mean=True \n",
      "[CV]  clf__C=0.0005994842503189409, clf__penalty=l2, clf__random_state=123, scaler__with_mean=True, total=   0.5s\n",
      "[CV] clf__C=0.0005994842503189409, clf__penalty=l2, clf__random_state=123, scaler__with_mean=True \n",
      "[CV]  clf__C=0.0005994842503189409, clf__penalty=l2, clf__random_state=123, scaler__with_mean=True, total=   0.5s\n",
      "[CV] clf__C=0.0005994842503189409, clf__penalty=l2, clf__random_state=123, scaler__with_mean=True \n",
      "[CV]  clf__C=0.0005994842503189409, clf__penalty=l2, clf__random_state=123, scaler__with_mean=True, total=   0.5s\n",
      "[CV] clf__C=0.004641588833612777, clf__penalty=l1, clf__random_state=123, scaler__with_mean=False \n",
      "[CV]  clf__C=0.004641588833612777, clf__penalty=l1, clf__random_state=123, scaler__with_mean=False, total=   0.2s\n",
      "[CV] clf__C=0.004641588833612777, clf__penalty=l1, clf__random_state=123, scaler__with_mean=False \n",
      "[CV]  clf__C=0.004641588833612777, clf__penalty=l1, clf__random_state=123, scaler__with_mean=False, total=   0.2s\n",
      "[CV] clf__C=0.004641588833612777, clf__penalty=l1, clf__random_state=123, scaler__with_mean=False \n",
      "[CV]  clf__C=0.004641588833612777, clf__penalty=l1, clf__random_state=123, scaler__with_mean=False, total=   0.2s\n",
      "[CV] clf__C=0.004641588833612777, clf__penalty=l1, clf__random_state=123, scaler__with_mean=False \n",
      "[CV]  clf__C=0.004641588833612777, clf__penalty=l1, clf__random_state=123, scaler__with_mean=False, total=   0.2s\n",
      "[CV] clf__C=0.004641588833612777, clf__penalty=l1, clf__random_state=123, scaler__with_mean=False \n",
      "[CV]  clf__C=0.004641588833612777, clf__penalty=l1, clf__random_state=123, scaler__with_mean=False, total=   0.2s\n",
      "[CV] clf__C=0.004641588833612777, clf__penalty=l1, clf__random_state=123, scaler__with_mean=True \n",
      "[CV]  clf__C=0.004641588833612777, clf__penalty=l1, clf__random_state=123, scaler__with_mean=True, total=   0.4s\n",
      "[CV] clf__C=0.004641588833612777, clf__penalty=l1, clf__random_state=123, scaler__with_mean=True \n",
      "[CV]  clf__C=0.004641588833612777, clf__penalty=l1, clf__random_state=123, scaler__with_mean=True, total=   0.4s\n",
      "[CV] clf__C=0.004641588833612777, clf__penalty=l1, clf__random_state=123, scaler__with_mean=True \n",
      "[CV]  clf__C=0.004641588833612777, clf__penalty=l1, clf__random_state=123, scaler__with_mean=True, total=   0.4s\n",
      "[CV] clf__C=0.004641588833612777, clf__penalty=l1, clf__random_state=123, scaler__with_mean=True \n",
      "[CV]  clf__C=0.004641588833612777, clf__penalty=l1, clf__random_state=123, scaler__with_mean=True, total=   0.4s\n",
      "[CV] clf__C=0.004641588833612777, clf__penalty=l1, clf__random_state=123, scaler__with_mean=True \n",
      "[CV]  clf__C=0.004641588833612777, clf__penalty=l1, clf__random_state=123, scaler__with_mean=True, total=   0.4s\n",
      "[CV] clf__C=0.004641588833612777, clf__penalty=l2, clf__random_state=123, scaler__with_mean=False \n",
      "[CV]  clf__C=0.004641588833612777, clf__penalty=l2, clf__random_state=123, scaler__with_mean=False, total=   0.4s\n",
      "[CV] clf__C=0.004641588833612777, clf__penalty=l2, clf__random_state=123, scaler__with_mean=False \n",
      "[CV]  clf__C=0.004641588833612777, clf__penalty=l2, clf__random_state=123, scaler__with_mean=False, total=   0.4s\n",
      "[CV] clf__C=0.004641588833612777, clf__penalty=l2, clf__random_state=123, scaler__with_mean=False \n",
      "[CV]  clf__C=0.004641588833612777, clf__penalty=l2, clf__random_state=123, scaler__with_mean=False, total=   0.3s\n",
      "[CV] clf__C=0.004641588833612777, clf__penalty=l2, clf__random_state=123, scaler__with_mean=False \n",
      "[CV]  clf__C=0.004641588833612777, clf__penalty=l2, clf__random_state=123, scaler__with_mean=False, total=   0.4s\n",
      "[CV] clf__C=0.004641588833612777, clf__penalty=l2, clf__random_state=123, scaler__with_mean=False \n",
      "[CV]  clf__C=0.004641588833612777, clf__penalty=l2, clf__random_state=123, scaler__with_mean=False, total=   0.4s\n",
      "[CV] clf__C=0.004641588833612777, clf__penalty=l2, clf__random_state=123, scaler__with_mean=True \n",
      "[CV]  clf__C=0.004641588833612777, clf__penalty=l2, clf__random_state=123, scaler__with_mean=True, total=   0.9s\n",
      "[CV] clf__C=0.004641588833612777, clf__penalty=l2, clf__random_state=123, scaler__with_mean=True \n",
      "[CV]  clf__C=0.004641588833612777, clf__penalty=l2, clf__random_state=123, scaler__with_mean=True, total=   0.8s\n",
      "[CV] clf__C=0.004641588833612777, clf__penalty=l2, clf__random_state=123, scaler__with_mean=True \n",
      "[CV]  clf__C=0.004641588833612777, clf__penalty=l2, clf__random_state=123, scaler__with_mean=True, total=   0.8s\n",
      "[CV] clf__C=0.004641588833612777, clf__penalty=l2, clf__random_state=123, scaler__with_mean=True \n",
      "[CV]  clf__C=0.004641588833612777, clf__penalty=l2, clf__random_state=123, scaler__with_mean=True, total=   0.8s\n",
      "[CV] clf__C=0.004641588833612777, clf__penalty=l2, clf__random_state=123, scaler__with_mean=True \n",
      "[CV]  clf__C=0.004641588833612777, clf__penalty=l2, clf__random_state=123, scaler__with_mean=True, total=   0.8s\n",
      "[CV] clf__C=0.03593813663804626, clf__penalty=l1, clf__random_state=123, scaler__with_mean=False \n",
      "[CV]  clf__C=0.03593813663804626, clf__penalty=l1, clf__random_state=123, scaler__with_mean=False, total=   0.3s\n",
      "[CV] clf__C=0.03593813663804626, clf__penalty=l1, clf__random_state=123, scaler__with_mean=False \n",
      "[CV]  clf__C=0.03593813663804626, clf__penalty=l1, clf__random_state=123, scaler__with_mean=False, total=   0.3s\n",
      "[CV] clf__C=0.03593813663804626, clf__penalty=l1, clf__random_state=123, scaler__with_mean=False \n",
      "[CV]  clf__C=0.03593813663804626, clf__penalty=l1, clf__random_state=123, scaler__with_mean=False, total=   0.3s\n",
      "[CV] clf__C=0.03593813663804626, clf__penalty=l1, clf__random_state=123, scaler__with_mean=False \n",
      "[CV]  clf__C=0.03593813663804626, clf__penalty=l1, clf__random_state=123, scaler__with_mean=False, total=   0.3s\n",
      "[CV] clf__C=0.03593813663804626, clf__penalty=l1, clf__random_state=123, scaler__with_mean=False \n",
      "[CV]  clf__C=0.03593813663804626, clf__penalty=l1, clf__random_state=123, scaler__with_mean=False, total=   0.3s\n",
      "[CV] clf__C=0.03593813663804626, clf__penalty=l1, clf__random_state=123, scaler__with_mean=True \n",
      "[CV]  clf__C=0.03593813663804626, clf__penalty=l1, clf__random_state=123, scaler__with_mean=True, total=   1.2s\n",
      "[CV] clf__C=0.03593813663804626, clf__penalty=l1, clf__random_state=123, scaler__with_mean=True \n",
      "[CV]  clf__C=0.03593813663804626, clf__penalty=l1, clf__random_state=123, scaler__with_mean=True, total=   1.1s\n",
      "[CV] clf__C=0.03593813663804626, clf__penalty=l1, clf__random_state=123, scaler__with_mean=True \n",
      "[CV]  clf__C=0.03593813663804626, clf__penalty=l1, clf__random_state=123, scaler__with_mean=True, total=   1.1s\n",
      "[CV] clf__C=0.03593813663804626, clf__penalty=l1, clf__random_state=123, scaler__with_mean=True \n",
      "[CV]  clf__C=0.03593813663804626, clf__penalty=l1, clf__random_state=123, scaler__with_mean=True, total=   1.1s\n",
      "[CV] clf__C=0.03593813663804626, clf__penalty=l1, clf__random_state=123, scaler__with_mean=True \n",
      "[CV]  clf__C=0.03593813663804626, clf__penalty=l1, clf__random_state=123, scaler__with_mean=True, total=   1.0s\n",
      "[CV] clf__C=0.03593813663804626, clf__penalty=l2, clf__random_state=123, scaler__with_mean=False \n",
      "[CV]  clf__C=0.03593813663804626, clf__penalty=l2, clf__random_state=123, scaler__with_mean=False, total=   0.4s\n",
      "[CV] clf__C=0.03593813663804626, clf__penalty=l2, clf__random_state=123, scaler__with_mean=False \n",
      "[CV]  clf__C=0.03593813663804626, clf__penalty=l2, clf__random_state=123, scaler__with_mean=False, total=   0.4s\n",
      "[CV] clf__C=0.03593813663804626, clf__penalty=l2, clf__random_state=123, scaler__with_mean=False \n",
      "[CV]  clf__C=0.03593813663804626, clf__penalty=l2, clf__random_state=123, scaler__with_mean=False, total=   0.4s\n",
      "[CV] clf__C=0.03593813663804626, clf__penalty=l2, clf__random_state=123, scaler__with_mean=False \n",
      "[CV]  clf__C=0.03593813663804626, clf__penalty=l2, clf__random_state=123, scaler__with_mean=False, total=   0.4s\n",
      "[CV] clf__C=0.03593813663804626, clf__penalty=l2, clf__random_state=123, scaler__with_mean=False \n",
      "[CV]  clf__C=0.03593813663804626, clf__penalty=l2, clf__random_state=123, scaler__with_mean=False, total=   0.4s\n",
      "[CV] clf__C=0.03593813663804626, clf__penalty=l2, clf__random_state=123, scaler__with_mean=True \n",
      "[CV]  clf__C=0.03593813663804626, clf__penalty=l2, clf__random_state=123, scaler__with_mean=True, total=   1.0s\n",
      "[CV] clf__C=0.03593813663804626, clf__penalty=l2, clf__random_state=123, scaler__with_mean=True \n",
      "[CV]  clf__C=0.03593813663804626, clf__penalty=l2, clf__random_state=123, scaler__with_mean=True, total=   1.0s\n",
      "[CV] clf__C=0.03593813663804626, clf__penalty=l2, clf__random_state=123, scaler__with_mean=True \n",
      "[CV]  clf__C=0.03593813663804626, clf__penalty=l2, clf__random_state=123, scaler__with_mean=True, total=   1.0s\n",
      "[CV] clf__C=0.03593813663804626, clf__penalty=l2, clf__random_state=123, scaler__with_mean=True \n",
      "[CV]  clf__C=0.03593813663804626, clf__penalty=l2, clf__random_state=123, scaler__with_mean=True, total=   1.3s\n",
      "[CV] clf__C=0.03593813663804626, clf__penalty=l2, clf__random_state=123, scaler__with_mean=True \n",
      "[CV]  clf__C=0.03593813663804626, clf__penalty=l2, clf__random_state=123, scaler__with_mean=True, total=   1.2s\n",
      "[CV] clf__C=0.2782559402207126, clf__penalty=l1, clf__random_state=123, scaler__with_mean=False \n",
      "[CV]  clf__C=0.2782559402207126, clf__penalty=l1, clf__random_state=123, scaler__with_mean=False, total=   0.3s\n",
      "[CV] clf__C=0.2782559402207126, clf__penalty=l1, clf__random_state=123, scaler__with_mean=False \n",
      "[CV]  clf__C=0.2782559402207126, clf__penalty=l1, clf__random_state=123, scaler__with_mean=False, total=   0.3s\n",
      "[CV] clf__C=0.2782559402207126, clf__penalty=l1, clf__random_state=123, scaler__with_mean=False \n",
      "[CV]  clf__C=0.2782559402207126, clf__penalty=l1, clf__random_state=123, scaler__with_mean=False, total=   0.3s\n",
      "[CV] clf__C=0.2782559402207126, clf__penalty=l1, clf__random_state=123, scaler__with_mean=False \n",
      "[CV]  clf__C=0.2782559402207126, clf__penalty=l1, clf__random_state=123, scaler__with_mean=False, total=   0.3s\n",
      "[CV] clf__C=0.2782559402207126, clf__penalty=l1, clf__random_state=123, scaler__with_mean=False \n",
      "[CV]  clf__C=0.2782559402207126, clf__penalty=l1, clf__random_state=123, scaler__with_mean=False, total=   0.3s\n",
      "[CV] clf__C=0.2782559402207126, clf__penalty=l1, clf__random_state=123, scaler__with_mean=True \n",
      "[CV]  clf__C=0.2782559402207126, clf__penalty=l1, clf__random_state=123, scaler__with_mean=True, total=   0.6s\n",
      "[CV] clf__C=0.2782559402207126, clf__penalty=l1, clf__random_state=123, scaler__with_mean=True \n",
      "[CV]  clf__C=0.2782559402207126, clf__penalty=l1, clf__random_state=123, scaler__with_mean=True, total=   7.0s\n",
      "[CV] clf__C=0.2782559402207126, clf__penalty=l1, clf__random_state=123, scaler__with_mean=True \n",
      "[CV]  clf__C=0.2782559402207126, clf__penalty=l1, clf__random_state=123, scaler__with_mean=True, total=  10.3s\n",
      "[CV] clf__C=0.2782559402207126, clf__penalty=l1, clf__random_state=123, scaler__with_mean=True \n",
      "[CV]  clf__C=0.2782559402207126, clf__penalty=l1, clf__random_state=123, scaler__with_mean=True, total=   8.8s\n",
      "[CV] clf__C=0.2782559402207126, clf__penalty=l1, clf__random_state=123, scaler__with_mean=True \n",
      "[CV]  clf__C=0.2782559402207126, clf__penalty=l1, clf__random_state=123, scaler__with_mean=True, total=   7.1s\n",
      "[CV] clf__C=0.2782559402207126, clf__penalty=l2, clf__random_state=123, scaler__with_mean=False \n",
      "[CV]  clf__C=0.2782559402207126, clf__penalty=l2, clf__random_state=123, scaler__with_mean=False, total=   0.6s\n",
      "[CV] clf__C=0.2782559402207126, clf__penalty=l2, clf__random_state=123, scaler__with_mean=False \n",
      "[CV]  clf__C=0.2782559402207126, clf__penalty=l2, clf__random_state=123, scaler__with_mean=False, total=   0.6s\n",
      "[CV] clf__C=0.2782559402207126, clf__penalty=l2, clf__random_state=123, scaler__with_mean=False \n",
      "[CV]  clf__C=0.2782559402207126, clf__penalty=l2, clf__random_state=123, scaler__with_mean=False, total=   0.6s\n",
      "[CV] clf__C=0.2782559402207126, clf__penalty=l2, clf__random_state=123, scaler__with_mean=False \n",
      "[CV]  clf__C=0.2782559402207126, clf__penalty=l2, clf__random_state=123, scaler__with_mean=False, total=   0.6s\n",
      "[CV] clf__C=0.2782559402207126, clf__penalty=l2, clf__random_state=123, scaler__with_mean=False \n",
      "[CV]  clf__C=0.2782559402207126, clf__penalty=l2, clf__random_state=123, scaler__with_mean=False, total=   0.6s\n",
      "[CV] clf__C=0.2782559402207126, clf__penalty=l2, clf__random_state=123, scaler__with_mean=True \n",
      "[CV]  clf__C=0.2782559402207126, clf__penalty=l2, clf__random_state=123, scaler__with_mean=True, total=   1.7s\n",
      "[CV] clf__C=0.2782559402207126, clf__penalty=l2, clf__random_state=123, scaler__with_mean=True \n",
      "[CV]  clf__C=0.2782559402207126, clf__penalty=l2, clf__random_state=123, scaler__with_mean=True, total=   1.6s\n",
      "[CV] clf__C=0.2782559402207126, clf__penalty=l2, clf__random_state=123, scaler__with_mean=True \n",
      "[CV]  clf__C=0.2782559402207126, clf__penalty=l2, clf__random_state=123, scaler__with_mean=True, total=   1.6s\n",
      "[CV] clf__C=0.2782559402207126, clf__penalty=l2, clf__random_state=123, scaler__with_mean=True \n",
      "[CV]  clf__C=0.2782559402207126, clf__penalty=l2, clf__random_state=123, scaler__with_mean=True, total=   1.7s\n",
      "[CV] clf__C=0.2782559402207126, clf__penalty=l2, clf__random_state=123, scaler__with_mean=True \n",
      "[CV]  clf__C=0.2782559402207126, clf__penalty=l2, clf__random_state=123, scaler__with_mean=True, total=   1.7s\n",
      "[CV] clf__C=2.154434690031882, clf__penalty=l1, clf__random_state=123, scaler__with_mean=False \n",
      "[CV]  clf__C=2.154434690031882, clf__penalty=l1, clf__random_state=123, scaler__with_mean=False, total=   0.3s\n",
      "[CV] clf__C=2.154434690031882, clf__penalty=l1, clf__random_state=123, scaler__with_mean=False \n",
      "[CV]  clf__C=2.154434690031882, clf__penalty=l1, clf__random_state=123, scaler__with_mean=False, total=   0.3s\n",
      "[CV] clf__C=2.154434690031882, clf__penalty=l1, clf__random_state=123, scaler__with_mean=False \n",
      "[CV]  clf__C=2.154434690031882, clf__penalty=l1, clf__random_state=123, scaler__with_mean=False, total=   0.4s\n",
      "[CV] clf__C=2.154434690031882, clf__penalty=l1, clf__random_state=123, scaler__with_mean=False \n",
      "[CV]  clf__C=2.154434690031882, clf__penalty=l1, clf__random_state=123, scaler__with_mean=False, total=   0.4s\n",
      "[CV] clf__C=2.154434690031882, clf__penalty=l1, clf__random_state=123, scaler__with_mean=False \n",
      "[CV]  clf__C=2.154434690031882, clf__penalty=l1, clf__random_state=123, scaler__with_mean=False, total=   0.5s\n",
      "[CV] clf__C=2.154434690031882, clf__penalty=l1, clf__random_state=123, scaler__with_mean=True \n",
      "[CV]  clf__C=2.154434690031882, clf__penalty=l1, clf__random_state=123, scaler__with_mean=True, total=   0.6s\n",
      "[CV] clf__C=2.154434690031882, clf__penalty=l1, clf__random_state=123, scaler__with_mean=True \n",
      "[CV]  clf__C=2.154434690031882, clf__penalty=l1, clf__random_state=123, scaler__with_mean=True, total=   0.6s\n",
      "[CV] clf__C=2.154434690031882, clf__penalty=l1, clf__random_state=123, scaler__with_mean=True \n",
      "[CV]  clf__C=2.154434690031882, clf__penalty=l1, clf__random_state=123, scaler__with_mean=True, total=   0.6s\n",
      "[CV] clf__C=2.154434690031882, clf__penalty=l1, clf__random_state=123, scaler__with_mean=True \n",
      "[CV]  clf__C=2.154434690031882, clf__penalty=l1, clf__random_state=123, scaler__with_mean=True, total=   0.6s\n",
      "[CV] clf__C=2.154434690031882, clf__penalty=l1, clf__random_state=123, scaler__with_mean=True \n",
      "[CV]  clf__C=2.154434690031882, clf__penalty=l1, clf__random_state=123, scaler__with_mean=True, total=   0.6s\n",
      "[CV] clf__C=2.154434690031882, clf__penalty=l2, clf__random_state=123, scaler__with_mean=False \n",
      "[CV]  clf__C=2.154434690031882, clf__penalty=l2, clf__random_state=123, scaler__with_mean=False, total=   0.7s\n",
      "[CV] clf__C=2.154434690031882, clf__penalty=l2, clf__random_state=123, scaler__with_mean=False \n",
      "[CV]  clf__C=2.154434690031882, clf__penalty=l2, clf__random_state=123, scaler__with_mean=False, total=   0.6s\n",
      "[CV] clf__C=2.154434690031882, clf__penalty=l2, clf__random_state=123, scaler__with_mean=False \n",
      "[CV]  clf__C=2.154434690031882, clf__penalty=l2, clf__random_state=123, scaler__with_mean=False, total=   0.7s\n",
      "[CV] clf__C=2.154434690031882, clf__penalty=l2, clf__random_state=123, scaler__with_mean=False \n",
      "[CV]  clf__C=2.154434690031882, clf__penalty=l2, clf__random_state=123, scaler__with_mean=False, total=   0.7s\n",
      "[CV] clf__C=2.154434690031882, clf__penalty=l2, clf__random_state=123, scaler__with_mean=False \n",
      "[CV]  clf__C=2.154434690031882, clf__penalty=l2, clf__random_state=123, scaler__with_mean=False, total=   0.7s\n",
      "[CV] clf__C=2.154434690031882, clf__penalty=l2, clf__random_state=123, scaler__with_mean=True \n",
      "[CV]  clf__C=2.154434690031882, clf__penalty=l2, clf__random_state=123, scaler__with_mean=True, total=   1.9s\n",
      "[CV] clf__C=2.154434690031882, clf__penalty=l2, clf__random_state=123, scaler__with_mean=True \n",
      "[CV]  clf__C=2.154434690031882, clf__penalty=l2, clf__random_state=123, scaler__with_mean=True, total=   2.3s\n",
      "[CV] clf__C=2.154434690031882, clf__penalty=l2, clf__random_state=123, scaler__with_mean=True \n",
      "[CV]  clf__C=2.154434690031882, clf__penalty=l2, clf__random_state=123, scaler__with_mean=True, total=   2.0s\n",
      "[CV] clf__C=2.154434690031882, clf__penalty=l2, clf__random_state=123, scaler__with_mean=True \n",
      "[CV]  clf__C=2.154434690031882, clf__penalty=l2, clf__random_state=123, scaler__with_mean=True, total=   1.8s\n",
      "[CV] clf__C=2.154434690031882, clf__penalty=l2, clf__random_state=123, scaler__with_mean=True \n",
      "[CV]  clf__C=2.154434690031882, clf__penalty=l2, clf__random_state=123, scaler__with_mean=True, total=   1.9s\n",
      "[CV] clf__C=16.681005372000556, clf__penalty=l1, clf__random_state=123, scaler__with_mean=False \n",
      "[CV]  clf__C=16.681005372000556, clf__penalty=l1, clf__random_state=123, scaler__with_mean=False, total=   0.3s\n",
      "[CV] clf__C=16.681005372000556, clf__penalty=l1, clf__random_state=123, scaler__with_mean=False \n",
      "[CV]  clf__C=16.681005372000556, clf__penalty=l1, clf__random_state=123, scaler__with_mean=False, total=   0.3s\n",
      "[CV] clf__C=16.681005372000556, clf__penalty=l1, clf__random_state=123, scaler__with_mean=False \n",
      "[CV]  clf__C=16.681005372000556, clf__penalty=l1, clf__random_state=123, scaler__with_mean=False, total=   0.3s\n",
      "[CV] clf__C=16.681005372000556, clf__penalty=l1, clf__random_state=123, scaler__with_mean=False \n",
      "[CV]  clf__C=16.681005372000556, clf__penalty=l1, clf__random_state=123, scaler__with_mean=False, total=   0.3s\n",
      "[CV] clf__C=16.681005372000556, clf__penalty=l1, clf__random_state=123, scaler__with_mean=False \n",
      "[CV]  clf__C=16.681005372000556, clf__penalty=l1, clf__random_state=123, scaler__with_mean=False, total=   0.3s\n",
      "[CV] clf__C=16.681005372000556, clf__penalty=l1, clf__random_state=123, scaler__with_mean=True \n",
      "[CV]  clf__C=16.681005372000556, clf__penalty=l1, clf__random_state=123, scaler__with_mean=True, total=   0.6s\n",
      "[CV] clf__C=16.681005372000556, clf__penalty=l1, clf__random_state=123, scaler__with_mean=True \n",
      "[CV]  clf__C=16.681005372000556, clf__penalty=l1, clf__random_state=123, scaler__with_mean=True, total=   0.6s\n",
      "[CV] clf__C=16.681005372000556, clf__penalty=l1, clf__random_state=123, scaler__with_mean=True \n",
      "[CV]  clf__C=16.681005372000556, clf__penalty=l1, clf__random_state=123, scaler__with_mean=True, total=   0.6s\n",
      "[CV] clf__C=16.681005372000556, clf__penalty=l1, clf__random_state=123, scaler__with_mean=True \n",
      "[CV]  clf__C=16.681005372000556, clf__penalty=l1, clf__random_state=123, scaler__with_mean=True, total=   0.6s\n",
      "[CV] clf__C=16.681005372000556, clf__penalty=l1, clf__random_state=123, scaler__with_mean=True \n",
      "[CV]  clf__C=16.681005372000556, clf__penalty=l1, clf__random_state=123, scaler__with_mean=True, total=   0.6s\n",
      "[CV] clf__C=16.681005372000556, clf__penalty=l2, clf__random_state=123, scaler__with_mean=False \n",
      "[CV]  clf__C=16.681005372000556, clf__penalty=l2, clf__random_state=123, scaler__with_mean=False, total=   0.7s\n",
      "[CV] clf__C=16.681005372000556, clf__penalty=l2, clf__random_state=123, scaler__with_mean=False \n",
      "[CV]  clf__C=16.681005372000556, clf__penalty=l2, clf__random_state=123, scaler__with_mean=False, total=   0.8s\n",
      "[CV] clf__C=16.681005372000556, clf__penalty=l2, clf__random_state=123, scaler__with_mean=False \n",
      "[CV]  clf__C=16.681005372000556, clf__penalty=l2, clf__random_state=123, scaler__with_mean=False, total=   0.8s\n",
      "[CV] clf__C=16.681005372000556, clf__penalty=l2, clf__random_state=123, scaler__with_mean=False \n",
      "[CV]  clf__C=16.681005372000556, clf__penalty=l2, clf__random_state=123, scaler__with_mean=False, total=   0.8s\n",
      "[CV] clf__C=16.681005372000556, clf__penalty=l2, clf__random_state=123, scaler__with_mean=False \n",
      "[CV]  clf__C=16.681005372000556, clf__penalty=l2, clf__random_state=123, scaler__with_mean=False, total=   0.7s\n",
      "[CV] clf__C=16.681005372000556, clf__penalty=l2, clf__random_state=123, scaler__with_mean=True \n",
      "[CV]  clf__C=16.681005372000556, clf__penalty=l2, clf__random_state=123, scaler__with_mean=True, total=   2.6s\n",
      "[CV] clf__C=16.681005372000556, clf__penalty=l2, clf__random_state=123, scaler__with_mean=True \n",
      "[CV]  clf__C=16.681005372000556, clf__penalty=l2, clf__random_state=123, scaler__with_mean=True, total=   2.3s\n",
      "[CV] clf__C=16.681005372000556, clf__penalty=l2, clf__random_state=123, scaler__with_mean=True \n",
      "[CV]  clf__C=16.681005372000556, clf__penalty=l2, clf__random_state=123, scaler__with_mean=True, total=   2.1s\n",
      "[CV] clf__C=16.681005372000556, clf__penalty=l2, clf__random_state=123, scaler__with_mean=True \n",
      "[CV]  clf__C=16.681005372000556, clf__penalty=l2, clf__random_state=123, scaler__with_mean=True, total=   2.4s\n",
      "[CV] clf__C=16.681005372000556, clf__penalty=l2, clf__random_state=123, scaler__with_mean=True \n",
      "[CV]  clf__C=16.681005372000556, clf__penalty=l2, clf__random_state=123, scaler__with_mean=True, total=   1.8s\n",
      "[CV] clf__C=129.15496650148827, clf__penalty=l1, clf__random_state=123, scaler__with_mean=False \n",
      "[CV]  clf__C=129.15496650148827, clf__penalty=l1, clf__random_state=123, scaler__with_mean=False, total=   0.3s\n",
      "[CV] clf__C=129.15496650148827, clf__penalty=l1, clf__random_state=123, scaler__with_mean=False \n",
      "[CV]  clf__C=129.15496650148827, clf__penalty=l1, clf__random_state=123, scaler__with_mean=False, total=   0.3s\n",
      "[CV] clf__C=129.15496650148827, clf__penalty=l1, clf__random_state=123, scaler__with_mean=False \n",
      "[CV]  clf__C=129.15496650148827, clf__penalty=l1, clf__random_state=123, scaler__with_mean=False, total=   0.3s\n",
      "[CV] clf__C=129.15496650148827, clf__penalty=l1, clf__random_state=123, scaler__with_mean=False \n",
      "[CV]  clf__C=129.15496650148827, clf__penalty=l1, clf__random_state=123, scaler__with_mean=False, total=   0.3s\n",
      "[CV] clf__C=129.15496650148827, clf__penalty=l1, clf__random_state=123, scaler__with_mean=False \n",
      "[CV]  clf__C=129.15496650148827, clf__penalty=l1, clf__random_state=123, scaler__with_mean=False, total=   0.3s\n",
      "[CV] clf__C=129.15496650148827, clf__penalty=l1, clf__random_state=123, scaler__with_mean=True \n",
      "[CV]  clf__C=129.15496650148827, clf__penalty=l1, clf__random_state=123, scaler__with_mean=True, total=   0.6s\n",
      "[CV] clf__C=129.15496650148827, clf__penalty=l1, clf__random_state=123, scaler__with_mean=True \n",
      "[CV]  clf__C=129.15496650148827, clf__penalty=l1, clf__random_state=123, scaler__with_mean=True, total=   0.8s\n",
      "[CV] clf__C=129.15496650148827, clf__penalty=l1, clf__random_state=123, scaler__with_mean=True \n",
      "[CV]  clf__C=129.15496650148827, clf__penalty=l1, clf__random_state=123, scaler__with_mean=True, total=   0.6s\n",
      "[CV] clf__C=129.15496650148827, clf__penalty=l1, clf__random_state=123, scaler__with_mean=True \n",
      "[CV]  clf__C=129.15496650148827, clf__penalty=l1, clf__random_state=123, scaler__with_mean=True, total=   0.7s\n",
      "[CV] clf__C=129.15496650148827, clf__penalty=l1, clf__random_state=123, scaler__with_mean=True \n",
      "[CV]  clf__C=129.15496650148827, clf__penalty=l1, clf__random_state=123, scaler__with_mean=True, total=   0.6s\n",
      "[CV] clf__C=129.15496650148827, clf__penalty=l2, clf__random_state=123, scaler__with_mean=False \n",
      "[CV]  clf__C=129.15496650148827, clf__penalty=l2, clf__random_state=123, scaler__with_mean=False, total=   0.7s\n",
      "[CV] clf__C=129.15496650148827, clf__penalty=l2, clf__random_state=123, scaler__with_mean=False \n",
      "[CV]  clf__C=129.15496650148827, clf__penalty=l2, clf__random_state=123, scaler__with_mean=False, total=   0.8s\n",
      "[CV] clf__C=129.15496650148827, clf__penalty=l2, clf__random_state=123, scaler__with_mean=False \n",
      "[CV]  clf__C=129.15496650148827, clf__penalty=l2, clf__random_state=123, scaler__with_mean=False, total=   0.7s\n",
      "[CV] clf__C=129.15496650148827, clf__penalty=l2, clf__random_state=123, scaler__with_mean=False \n",
      "[CV]  clf__C=129.15496650148827, clf__penalty=l2, clf__random_state=123, scaler__with_mean=False, total=   0.9s\n",
      "[CV] clf__C=129.15496650148827, clf__penalty=l2, clf__random_state=123, scaler__with_mean=False \n",
      "[CV]  clf__C=129.15496650148827, clf__penalty=l2, clf__random_state=123, scaler__with_mean=False, total=   0.7s\n",
      "[CV] clf__C=129.15496650148827, clf__penalty=l2, clf__random_state=123, scaler__with_mean=True \n",
      "[CV]  clf__C=129.15496650148827, clf__penalty=l2, clf__random_state=123, scaler__with_mean=True, total=   2.6s\n",
      "[CV] clf__C=129.15496650148827, clf__penalty=l2, clf__random_state=123, scaler__with_mean=True \n",
      "[CV]  clf__C=129.15496650148827, clf__penalty=l2, clf__random_state=123, scaler__with_mean=True, total=   2.3s\n",
      "[CV] clf__C=129.15496650148827, clf__penalty=l2, clf__random_state=123, scaler__with_mean=True \n",
      "[CV]  clf__C=129.15496650148827, clf__penalty=l2, clf__random_state=123, scaler__with_mean=True, total=   2.1s\n",
      "[CV] clf__C=129.15496650148827, clf__penalty=l2, clf__random_state=123, scaler__with_mean=True \n",
      "[CV]  clf__C=129.15496650148827, clf__penalty=l2, clf__random_state=123, scaler__with_mean=True, total=   2.4s\n",
      "[CV] clf__C=129.15496650148827, clf__penalty=l2, clf__random_state=123, scaler__with_mean=True \n",
      "[CV]  clf__C=129.15496650148827, clf__penalty=l2, clf__random_state=123, scaler__with_mean=True, total=   1.8s\n",
      "[CV] clf__C=1000.0, clf__penalty=l1, clf__random_state=123, scaler__with_mean=False \n",
      "[CV]  clf__C=1000.0, clf__penalty=l1, clf__random_state=123, scaler__with_mean=False, total=   0.3s\n",
      "[CV] clf__C=1000.0, clf__penalty=l1, clf__random_state=123, scaler__with_mean=False \n",
      "[CV]  clf__C=1000.0, clf__penalty=l1, clf__random_state=123, scaler__with_mean=False, total=   0.3s\n",
      "[CV] clf__C=1000.0, clf__penalty=l1, clf__random_state=123, scaler__with_mean=False \n",
      "[CV]  clf__C=1000.0, clf__penalty=l1, clf__random_state=123, scaler__with_mean=False, total=   0.3s\n",
      "[CV] clf__C=1000.0, clf__penalty=l1, clf__random_state=123, scaler__with_mean=False \n",
      "[CV]  clf__C=1000.0, clf__penalty=l1, clf__random_state=123, scaler__with_mean=False, total=   0.3s\n",
      "[CV] clf__C=1000.0, clf__penalty=l1, clf__random_state=123, scaler__with_mean=False \n",
      "[CV]  clf__C=1000.0, clf__penalty=l1, clf__random_state=123, scaler__with_mean=False, total=   0.3s\n",
      "[CV] clf__C=1000.0, clf__penalty=l1, clf__random_state=123, scaler__with_mean=True \n",
      "[CV]  clf__C=1000.0, clf__penalty=l1, clf__random_state=123, scaler__with_mean=True, total=   0.6s\n",
      "[CV] clf__C=1000.0, clf__penalty=l1, clf__random_state=123, scaler__with_mean=True \n",
      "[CV]  clf__C=1000.0, clf__penalty=l1, clf__random_state=123, scaler__with_mean=True, total=   0.6s\n",
      "[CV] clf__C=1000.0, clf__penalty=l1, clf__random_state=123, scaler__with_mean=True \n",
      "[CV]  clf__C=1000.0, clf__penalty=l1, clf__random_state=123, scaler__with_mean=True, total=   0.6s\n",
      "[CV] clf__C=1000.0, clf__penalty=l1, clf__random_state=123, scaler__with_mean=True \n",
      "[CV]  clf__C=1000.0, clf__penalty=l1, clf__random_state=123, scaler__with_mean=True, total=   0.6s\n",
      "[CV] clf__C=1000.0, clf__penalty=l1, clf__random_state=123, scaler__with_mean=True \n",
      "[CV]  clf__C=1000.0, clf__penalty=l1, clf__random_state=123, scaler__with_mean=True, total=   0.6s\n",
      "[CV] clf__C=1000.0, clf__penalty=l2, clf__random_state=123, scaler__with_mean=False \n",
      "[CV]  clf__C=1000.0, clf__penalty=l2, clf__random_state=123, scaler__with_mean=False, total=   0.7s\n",
      "[CV] clf__C=1000.0, clf__penalty=l2, clf__random_state=123, scaler__with_mean=False \n",
      "[CV]  clf__C=1000.0, clf__penalty=l2, clf__random_state=123, scaler__with_mean=False, total=   0.8s\n",
      "[CV] clf__C=1000.0, clf__penalty=l2, clf__random_state=123, scaler__with_mean=False \n",
      "[CV]  clf__C=1000.0, clf__penalty=l2, clf__random_state=123, scaler__with_mean=False, total=   0.7s\n",
      "[CV] clf__C=1000.0, clf__penalty=l2, clf__random_state=123, scaler__with_mean=False \n",
      "[CV]  clf__C=1000.0, clf__penalty=l2, clf__random_state=123, scaler__with_mean=False, total=   0.8s\n",
      "[CV] clf__C=1000.0, clf__penalty=l2, clf__random_state=123, scaler__with_mean=False \n",
      "[CV]  clf__C=1000.0, clf__penalty=l2, clf__random_state=123, scaler__with_mean=False, total=   0.7s\n",
      "[CV] clf__C=1000.0, clf__penalty=l2, clf__random_state=123, scaler__with_mean=True \n",
      "[CV]  clf__C=1000.0, clf__penalty=l2, clf__random_state=123, scaler__with_mean=True, total=   2.6s\n",
      "[CV] clf__C=1000.0, clf__penalty=l2, clf__random_state=123, scaler__with_mean=True \n",
      "[CV]  clf__C=1000.0, clf__penalty=l2, clf__random_state=123, scaler__with_mean=True, total=   2.3s\n",
      "[CV] clf__C=1000.0, clf__penalty=l2, clf__random_state=123, scaler__with_mean=True \n",
      "[CV]  clf__C=1000.0, clf__penalty=l2, clf__random_state=123, scaler__with_mean=True, total=   2.1s\n",
      "[CV] clf__C=1000.0, clf__penalty=l2, clf__random_state=123, scaler__with_mean=True \n",
      "[CV]  clf__C=1000.0, clf__penalty=l2, clf__random_state=123, scaler__with_mean=True, total=   2.4s\n",
      "[CV] clf__C=1000.0, clf__penalty=l2, clf__random_state=123, scaler__with_mean=True \n",
      "[CV]  clf__C=1000.0, clf__penalty=l2, clf__random_state=123, scaler__with_mean=True, total=   2.4s\n"
     ]
    },
    {
     "name": "stderr",
     "output_type": "stream",
     "text": [
      "[Parallel(n_jobs=1)]: Done 200 out of 200 | elapsed:  3.4min finished\n"
     ]
    }
   ],
   "source": [
    "'''grid_searcher = GridSearchCV(model, param_grid, \n",
    "                             scoring='roc_auc', \n",
    "                             n_jobs=-1, cv=cv, \n",
    "                             verbose=2)'''\n",
    "grid_searcher = GridSearchCV(model, param_grid, \n",
    "                             scoring='roc_auc', \n",
    "                             cv=cv, \n",
    "                             verbose=2)\n",
    "\n",
    "gs=grid_searcher.fit(X, y)"
   ]
  },
  {
   "cell_type": "markdown",
   "metadata": {},
   "source": [
    "На выходе в grid_searcher можно посмотреть, какая комбинация оказалась наилучшей, сколько занял рачет и напрямую достать лучшую модель."
   ]
  },
  {
   "cell_type": "code",
   "execution_count": 20,
   "metadata": {
    "collapsed": false
   },
   "outputs": [
    {
     "data": {
      "text/plain": [
       "{'clf__C': 0.03593813663804626,\n",
       " 'clf__penalty': 'l1',\n",
       " 'clf__random_state': 123,\n",
       " 'scaler__with_mean': True}"
      ]
     },
     "execution_count": 20,
     "metadata": {},
     "output_type": "execute_result"
    }
   ],
   "source": [
    "grid_searcher.best_params_"
   ]
  },
  {
   "cell_type": "code",
   "execution_count": 21,
   "metadata": {
    "collapsed": false
   },
   "outputs": [
    {
     "data": {
      "text/plain": [
       "0.8333672337310287"
      ]
     },
     "execution_count": 21,
     "metadata": {},
     "output_type": "execute_result"
    }
   ],
   "source": [
    "grid_searcher.best_score_"
   ]
  },
  {
   "cell_type": "code",
   "execution_count": 22,
   "metadata": {
    "collapsed": false
   },
   "outputs": [
    {
     "name": "stderr",
     "output_type": "stream",
     "text": [
      "C:\\ProgramData\\Anaconda3\\lib\\site-packages\\sklearn\\utils\\deprecation.py:122: FutureWarning: You are accessing a training score ('split0_train_score'), which will not be available by default any more in 0.21. If you need training scores, please set return_train_score=True\n",
      "  warnings.warn(*warn_args, **warn_kwargs)\n",
      "C:\\ProgramData\\Anaconda3\\lib\\site-packages\\sklearn\\utils\\deprecation.py:122: FutureWarning: You are accessing a training score ('split1_train_score'), which will not be available by default any more in 0.21. If you need training scores, please set return_train_score=True\n",
      "  warnings.warn(*warn_args, **warn_kwargs)\n",
      "C:\\ProgramData\\Anaconda3\\lib\\site-packages\\sklearn\\utils\\deprecation.py:122: FutureWarning: You are accessing a training score ('split2_train_score'), which will not be available by default any more in 0.21. If you need training scores, please set return_train_score=True\n",
      "  warnings.warn(*warn_args, **warn_kwargs)\n",
      "C:\\ProgramData\\Anaconda3\\lib\\site-packages\\sklearn\\utils\\deprecation.py:122: FutureWarning: You are accessing a training score ('split3_train_score'), which will not be available by default any more in 0.21. If you need training scores, please set return_train_score=True\n",
      "  warnings.warn(*warn_args, **warn_kwargs)\n",
      "C:\\ProgramData\\Anaconda3\\lib\\site-packages\\sklearn\\utils\\deprecation.py:122: FutureWarning: You are accessing a training score ('split4_train_score'), which will not be available by default any more in 0.21. If you need training scores, please set return_train_score=True\n",
      "  warnings.warn(*warn_args, **warn_kwargs)\n",
      "C:\\ProgramData\\Anaconda3\\lib\\site-packages\\sklearn\\utils\\deprecation.py:122: FutureWarning: You are accessing a training score ('mean_train_score'), which will not be available by default any more in 0.21. If you need training scores, please set return_train_score=True\n",
      "  warnings.warn(*warn_args, **warn_kwargs)\n",
      "C:\\ProgramData\\Anaconda3\\lib\\site-packages\\sklearn\\utils\\deprecation.py:122: FutureWarning: You are accessing a training score ('std_train_score'), which will not be available by default any more in 0.21. If you need training scores, please set return_train_score=True\n",
      "  warnings.warn(*warn_args, **warn_kwargs)\n"
     ]
    }
   ],
   "source": [
    "results = pd.DataFrame(grid_searcher.cv_results_)"
   ]
  },
  {
   "cell_type": "code",
   "execution_count": 23,
   "metadata": {
    "collapsed": false
   },
   "outputs": [
    {
     "data": {
      "text/html": [
       "<div>\n",
       "<style scoped>\n",
       "    .dataframe tbody tr th:only-of-type {\n",
       "        vertical-align: middle;\n",
       "    }\n",
       "\n",
       "    .dataframe tbody tr th {\n",
       "        vertical-align: top;\n",
       "    }\n",
       "\n",
       "    .dataframe thead th {\n",
       "        text-align: right;\n",
       "    }\n",
       "</style>\n",
       "<table border=\"1\" class=\"dataframe\">\n",
       "  <thead>\n",
       "    <tr style=\"text-align: right;\">\n",
       "      <th></th>\n",
       "      <th>mean_fit_time</th>\n",
       "      <th>std_fit_time</th>\n",
       "      <th>mean_score_time</th>\n",
       "      <th>std_score_time</th>\n",
       "      <th>param_clf__C</th>\n",
       "      <th>param_clf__penalty</th>\n",
       "      <th>param_clf__random_state</th>\n",
       "      <th>param_scaler__with_mean</th>\n",
       "      <th>params</th>\n",
       "      <th>split0_test_score</th>\n",
       "      <th>...</th>\n",
       "      <th>mean_test_score</th>\n",
       "      <th>std_test_score</th>\n",
       "      <th>rank_test_score</th>\n",
       "      <th>split0_train_score</th>\n",
       "      <th>split1_train_score</th>\n",
       "      <th>split2_train_score</th>\n",
       "      <th>split3_train_score</th>\n",
       "      <th>split4_train_score</th>\n",
       "      <th>mean_train_score</th>\n",
       "      <th>std_train_score</th>\n",
       "    </tr>\n",
       "  </thead>\n",
       "  <tbody>\n",
       "    <tr>\n",
       "      <th>0</th>\n",
       "      <td>0.362031</td>\n",
       "      <td>0.057250</td>\n",
       "      <td>0.049979</td>\n",
       "      <td>0.061207</td>\n",
       "      <td>1e-05</td>\n",
       "      <td>l1</td>\n",
       "      <td>123</td>\n",
       "      <td>False</td>\n",
       "      <td>{'clf__C': 1e-05, 'clf__penalty': 'l1', 'clf__...</td>\n",
       "      <td>0.500000</td>\n",
       "      <td>...</td>\n",
       "      <td>0.500000</td>\n",
       "      <td>0.000000</td>\n",
       "      <td>36</td>\n",
       "      <td>0.500000</td>\n",
       "      <td>0.500000</td>\n",
       "      <td>0.500000</td>\n",
       "      <td>0.500000</td>\n",
       "      <td>0.500000</td>\n",
       "      <td>0.500000</td>\n",
       "      <td>0.000000</td>\n",
       "    </tr>\n",
       "    <tr>\n",
       "      <th>1</th>\n",
       "      <td>0.381631</td>\n",
       "      <td>0.020720</td>\n",
       "      <td>0.028124</td>\n",
       "      <td>0.006251</td>\n",
       "      <td>1e-05</td>\n",
       "      <td>l1</td>\n",
       "      <td>123</td>\n",
       "      <td>True</td>\n",
       "      <td>{'clf__C': 1e-05, 'clf__penalty': 'l1', 'clf__...</td>\n",
       "      <td>0.500000</td>\n",
       "      <td>...</td>\n",
       "      <td>0.500000</td>\n",
       "      <td>0.000000</td>\n",
       "      <td>36</td>\n",
       "      <td>0.500000</td>\n",
       "      <td>0.500000</td>\n",
       "      <td>0.500000</td>\n",
       "      <td>0.500000</td>\n",
       "      <td>0.500000</td>\n",
       "      <td>0.500000</td>\n",
       "      <td>0.000000</td>\n",
       "    </tr>\n",
       "    <tr>\n",
       "      <th>2</th>\n",
       "      <td>0.348784</td>\n",
       "      <td>0.053395</td>\n",
       "      <td>0.021852</td>\n",
       "      <td>0.007633</td>\n",
       "      <td>1e-05</td>\n",
       "      <td>l2</td>\n",
       "      <td>123</td>\n",
       "      <td>False</td>\n",
       "      <td>{'clf__C': 1e-05, 'clf__penalty': 'l2', 'clf__...</td>\n",
       "      <td>0.785334</td>\n",
       "      <td>...</td>\n",
       "      <td>0.793321</td>\n",
       "      <td>0.006108</td>\n",
       "      <td>34</td>\n",
       "      <td>0.797821</td>\n",
       "      <td>0.800335</td>\n",
       "      <td>0.800359</td>\n",
       "      <td>0.796988</td>\n",
       "      <td>0.800062</td>\n",
       "      <td>0.799113</td>\n",
       "      <td>0.001423</td>\n",
       "    </tr>\n",
       "    <tr>\n",
       "      <th>3</th>\n",
       "      <td>0.439399</td>\n",
       "      <td>0.006927</td>\n",
       "      <td>0.021864</td>\n",
       "      <td>0.007632</td>\n",
       "      <td>1e-05</td>\n",
       "      <td>l2</td>\n",
       "      <td>123</td>\n",
       "      <td>True</td>\n",
       "      <td>{'clf__C': 1e-05, 'clf__penalty': 'l2', 'clf__...</td>\n",
       "      <td>0.786911</td>\n",
       "      <td>...</td>\n",
       "      <td>0.797828</td>\n",
       "      <td>0.010103</td>\n",
       "      <td>33</td>\n",
       "      <td>0.799328</td>\n",
       "      <td>0.810066</td>\n",
       "      <td>0.808778</td>\n",
       "      <td>0.799038</td>\n",
       "      <td>0.803717</td>\n",
       "      <td>0.804185</td>\n",
       "      <td>0.004604</td>\n",
       "    </tr>\n",
       "    <tr>\n",
       "      <th>4</th>\n",
       "      <td>0.289055</td>\n",
       "      <td>0.009734</td>\n",
       "      <td>0.024977</td>\n",
       "      <td>0.007654</td>\n",
       "      <td>7.74264e-05</td>\n",
       "      <td>l1</td>\n",
       "      <td>123</td>\n",
       "      <td>False</td>\n",
       "      <td>{'clf__C': 7.742636826811278e-05, 'clf__penalt...</td>\n",
       "      <td>0.500000</td>\n",
       "      <td>...</td>\n",
       "      <td>0.500000</td>\n",
       "      <td>0.000000</td>\n",
       "      <td>36</td>\n",
       "      <td>0.500000</td>\n",
       "      <td>0.500000</td>\n",
       "      <td>0.500000</td>\n",
       "      <td>0.500000</td>\n",
       "      <td>0.500000</td>\n",
       "      <td>0.500000</td>\n",
       "      <td>0.000000</td>\n",
       "    </tr>\n",
       "  </tbody>\n",
       "</table>\n",
       "<p>5 rows × 24 columns</p>\n",
       "</div>"
      ],
      "text/plain": [
       "   mean_fit_time  std_fit_time  mean_score_time  std_score_time param_clf__C  \\\n",
       "0       0.362031      0.057250         0.049979        0.061207        1e-05   \n",
       "1       0.381631      0.020720         0.028124        0.006251        1e-05   \n",
       "2       0.348784      0.053395         0.021852        0.007633        1e-05   \n",
       "3       0.439399      0.006927         0.021864        0.007632        1e-05   \n",
       "4       0.289055      0.009734         0.024977        0.007654  7.74264e-05   \n",
       "\n",
       "  param_clf__penalty param_clf__random_state param_scaler__with_mean  \\\n",
       "0                 l1                     123                   False   \n",
       "1                 l1                     123                    True   \n",
       "2                 l2                     123                   False   \n",
       "3                 l2                     123                    True   \n",
       "4                 l1                     123                   False   \n",
       "\n",
       "                                              params  split0_test_score  \\\n",
       "0  {'clf__C': 1e-05, 'clf__penalty': 'l1', 'clf__...           0.500000   \n",
       "1  {'clf__C': 1e-05, 'clf__penalty': 'l1', 'clf__...           0.500000   \n",
       "2  {'clf__C': 1e-05, 'clf__penalty': 'l2', 'clf__...           0.785334   \n",
       "3  {'clf__C': 1e-05, 'clf__penalty': 'l2', 'clf__...           0.786911   \n",
       "4  {'clf__C': 7.742636826811278e-05, 'clf__penalt...           0.500000   \n",
       "\n",
       "        ...         mean_test_score  std_test_score  rank_test_score  \\\n",
       "0       ...                0.500000        0.000000               36   \n",
       "1       ...                0.500000        0.000000               36   \n",
       "2       ...                0.793321        0.006108               34   \n",
       "3       ...                0.797828        0.010103               33   \n",
       "4       ...                0.500000        0.000000               36   \n",
       "\n",
       "   split0_train_score  split1_train_score  split2_train_score  \\\n",
       "0            0.500000            0.500000            0.500000   \n",
       "1            0.500000            0.500000            0.500000   \n",
       "2            0.797821            0.800335            0.800359   \n",
       "3            0.799328            0.810066            0.808778   \n",
       "4            0.500000            0.500000            0.500000   \n",
       "\n",
       "   split3_train_score  split4_train_score  mean_train_score  std_train_score  \n",
       "0            0.500000            0.500000          0.500000         0.000000  \n",
       "1            0.500000            0.500000          0.500000         0.000000  \n",
       "2            0.796988            0.800062          0.799113         0.001423  \n",
       "3            0.799038            0.803717          0.804185         0.004604  \n",
       "4            0.500000            0.500000          0.500000         0.000000  \n",
       "\n",
       "[5 rows x 24 columns]"
      ]
     },
     "execution_count": 23,
     "metadata": {},
     "output_type": "execute_result"
    }
   ],
   "source": [
    "results.head()"
   ]
  },
  {
   "cell_type": "code",
   "execution_count": 24,
   "metadata": {
    "collapsed": true
   },
   "outputs": [],
   "source": [
    "best_model = grid_searcher.best_estimator_"
   ]
  },
  {
   "cell_type": "markdown",
   "metadata": {},
   "source": [
    "#### Random Search"
   ]
  },
  {
   "cell_type": "code",
   "execution_count": 25,
   "metadata": {
    "collapsed": true
   },
   "outputs": [],
   "source": [
    "from scipy.stats import randint as sp_randint\n",
    "from scipy.stats import lognorm as sp_lognorm"
   ]
  },
  {
   "cell_type": "code",
   "execution_count": 26,
   "metadata": {
    "collapsed": false
   },
   "outputs": [
    {
     "data": {
      "text/plain": [
       "480.01661688700796"
      ]
     },
     "execution_count": 26,
     "metadata": {},
     "output_type": "execute_result"
    }
   ],
   "source": [
    "sp_lognorm(4).rvs()"
   ]
  },
  {
   "cell_type": "code",
   "execution_count": 27,
   "metadata": {
    "collapsed": false
   },
   "outputs": [
    {
     "name": "stdout",
     "output_type": "stream",
     "text": [
      "{'scaler__with_mean': [False, True], 'clf__penalty': ['l1', 'l2'], 'clf__random_state': [123], 'clf__C': <scipy.stats._distn_infrastructure.rv_frozen object at 0x0000021431A05A58>}\n"
     ]
    }
   ],
   "source": [
    "# Задаем значения параметров, которые хотим проверить\n",
    "# Теперь с распределениями\n",
    "param_grid = {\n",
    "    'scaler__with_mean': [False, True],\n",
    "    'clf__penalty': ['l1', 'l2'],\n",
    "    'clf__random_state': [RND_SEED],\n",
    "    'clf__C': sp_lognorm(4)\n",
    "}\n",
    "\n",
    "print(param_grid)"
   ]
  },
  {
   "cell_type": "code",
   "execution_count": 28,
   "metadata": {
    "collapsed": false,
    "scrolled": true
   },
   "outputs": [
    {
     "name": "stdout",
     "output_type": "stream",
     "text": [
      "Fitting 5 folds for each of 20 candidates, totalling 100 fits\n",
      "[CV] clf__C=0.013003686130638284, clf__penalty=l1, clf__random_state=123, scaler__with_mean=False \n",
      "[CV]  clf__C=0.013003686130638284, clf__penalty=l1, clf__random_state=123, scaler__with_mean=False, total=   0.3s\n",
      "[CV] clf__C=0.013003686130638284, clf__penalty=l1, clf__random_state=123, scaler__with_mean=False \n"
     ]
    },
    {
     "name": "stderr",
     "output_type": "stream",
     "text": [
      "[Parallel(n_jobs=1)]: Done   1 out of   1 | elapsed:    0.3s remaining:    0.0s\n"
     ]
    },
    {
     "name": "stdout",
     "output_type": "stream",
     "text": [
      "[CV]  clf__C=0.013003686130638284, clf__penalty=l1, clf__random_state=123, scaler__with_mean=False, total=   0.3s\n",
      "[CV] clf__C=0.013003686130638284, clf__penalty=l1, clf__random_state=123, scaler__with_mean=False \n",
      "[CV]  clf__C=0.013003686130638284, clf__penalty=l1, clf__random_state=123, scaler__with_mean=False, total=   0.3s\n",
      "[CV] clf__C=0.013003686130638284, clf__penalty=l1, clf__random_state=123, scaler__with_mean=False \n",
      "[CV]  clf__C=0.013003686130638284, clf__penalty=l1, clf__random_state=123, scaler__with_mean=False, total=   0.3s\n",
      "[CV] clf__C=0.013003686130638284, clf__penalty=l1, clf__random_state=123, scaler__with_mean=False \n",
      "[CV]  clf__C=0.013003686130638284, clf__penalty=l1, clf__random_state=123, scaler__with_mean=False, total=   0.2s\n",
      "[CV] clf__C=54.02148221946703, clf__penalty=l1, clf__random_state=123, scaler__with_mean=True \n",
      "[CV]  clf__C=54.02148221946703, clf__penalty=l1, clf__random_state=123, scaler__with_mean=True, total=   0.6s\n",
      "[CV] clf__C=54.02148221946703, clf__penalty=l1, clf__random_state=123, scaler__with_mean=True \n",
      "[CV]  clf__C=54.02148221946703, clf__penalty=l1, clf__random_state=123, scaler__with_mean=True, total=   0.6s\n",
      "[CV] clf__C=54.02148221946703, clf__penalty=l1, clf__random_state=123, scaler__with_mean=True \n",
      "[CV]  clf__C=54.02148221946703, clf__penalty=l1, clf__random_state=123, scaler__with_mean=True, total=   0.6s\n",
      "[CV] clf__C=54.02148221946703, clf__penalty=l1, clf__random_state=123, scaler__with_mean=True \n",
      "[CV]  clf__C=54.02148221946703, clf__penalty=l1, clf__random_state=123, scaler__with_mean=True, total=   0.6s\n",
      "[CV] clf__C=54.02148221946703, clf__penalty=l1, clf__random_state=123, scaler__with_mean=True \n",
      "[CV]  clf__C=54.02148221946703, clf__penalty=l1, clf__random_state=123, scaler__with_mean=True, total=   0.6s\n",
      "[CV] clf__C=0.09882536189042468, clf__penalty=l1, clf__random_state=123, scaler__with_mean=True \n",
      "[CV]  clf__C=0.09882536189042468, clf__penalty=l1, clf__random_state=123, scaler__with_mean=True, total=   3.2s\n",
      "[CV] clf__C=0.09882536189042468, clf__penalty=l1, clf__random_state=123, scaler__with_mean=True \n",
      "[CV]  clf__C=0.09882536189042468, clf__penalty=l1, clf__random_state=123, scaler__with_mean=True, total=   3.2s\n",
      "[CV] clf__C=0.09882536189042468, clf__penalty=l1, clf__random_state=123, scaler__with_mean=True \n",
      "[CV]  clf__C=0.09882536189042468, clf__penalty=l1, clf__random_state=123, scaler__with_mean=True, total=   4.6s\n",
      "[CV] clf__C=0.09882536189042468, clf__penalty=l1, clf__random_state=123, scaler__with_mean=True \n",
      "[CV]  clf__C=0.09882536189042468, clf__penalty=l1, clf__random_state=123, scaler__with_mean=True, total=   4.9s\n",
      "[CV] clf__C=0.09882536189042468, clf__penalty=l1, clf__random_state=123, scaler__with_mean=True \n",
      "[CV]  clf__C=0.09882536189042468, clf__penalty=l1, clf__random_state=123, scaler__with_mean=True, total=   4.6s\n",
      "[CV] clf__C=739.3313143249965, clf__penalty=l1, clf__random_state=123, scaler__with_mean=True \n",
      "[CV]  clf__C=739.3313143249965, clf__penalty=l1, clf__random_state=123, scaler__with_mean=True, total=   1.2s\n",
      "[CV] clf__C=739.3313143249965, clf__penalty=l1, clf__random_state=123, scaler__with_mean=True \n",
      "[CV]  clf__C=739.3313143249965, clf__penalty=l1, clf__random_state=123, scaler__with_mean=True, total=   1.2s\n",
      "[CV] clf__C=739.3313143249965, clf__penalty=l1, clf__random_state=123, scaler__with_mean=True \n",
      "[CV]  clf__C=739.3313143249965, clf__penalty=l1, clf__random_state=123, scaler__with_mean=True, total=   0.8s\n",
      "[CV] clf__C=739.3313143249965, clf__penalty=l1, clf__random_state=123, scaler__with_mean=True \n",
      "[CV]  clf__C=739.3313143249965, clf__penalty=l1, clf__random_state=123, scaler__with_mean=True, total=   0.8s\n",
      "[CV] clf__C=739.3313143249965, clf__penalty=l1, clf__random_state=123, scaler__with_mean=True \n",
      "[CV]  clf__C=739.3313143249965, clf__penalty=l1, clf__random_state=123, scaler__with_mean=True, total=   1.3s\n",
      "[CV] clf__C=6.0873234832561394e-05, clf__penalty=l1, clf__random_state=123, scaler__with_mean=False \n",
      "[CV]  clf__C=6.0873234832561394e-05, clf__penalty=l1, clf__random_state=123, scaler__with_mean=False, total=   0.4s\n",
      "[CV] clf__C=6.0873234832561394e-05, clf__penalty=l1, clf__random_state=123, scaler__with_mean=False \n",
      "[CV]  clf__C=6.0873234832561394e-05, clf__penalty=l1, clf__random_state=123, scaler__with_mean=False, total=   0.3s\n",
      "[CV] clf__C=6.0873234832561394e-05, clf__penalty=l1, clf__random_state=123, scaler__with_mean=False \n",
      "[CV]  clf__C=6.0873234832561394e-05, clf__penalty=l1, clf__random_state=123, scaler__with_mean=False, total=   0.3s\n",
      "[CV] clf__C=6.0873234832561394e-05, clf__penalty=l1, clf__random_state=123, scaler__with_mean=False \n",
      "[CV]  clf__C=6.0873234832561394e-05, clf__penalty=l1, clf__random_state=123, scaler__with_mean=False, total=   0.3s\n",
      "[CV] clf__C=6.0873234832561394e-05, clf__penalty=l1, clf__random_state=123, scaler__with_mean=False \n",
      "[CV]  clf__C=6.0873234832561394e-05, clf__penalty=l1, clf__random_state=123, scaler__with_mean=False, total=   0.2s\n",
      "[CV] clf__C=0.17984668960629735, clf__penalty=l2, clf__random_state=123, scaler__with_mean=True \n",
      "[CV]  clf__C=0.17984668960629735, clf__penalty=l2, clf__random_state=123, scaler__with_mean=True, total=   1.7s\n",
      "[CV] clf__C=0.17984668960629735, clf__penalty=l2, clf__random_state=123, scaler__with_mean=True \n",
      "[CV]  clf__C=0.17984668960629735, clf__penalty=l2, clf__random_state=123, scaler__with_mean=True, total=   1.4s\n",
      "[CV] clf__C=0.17984668960629735, clf__penalty=l2, clf__random_state=123, scaler__with_mean=True \n",
      "[CV]  clf__C=0.17984668960629735, clf__penalty=l2, clf__random_state=123, scaler__with_mean=True, total=   1.6s\n",
      "[CV] clf__C=0.17984668960629735, clf__penalty=l2, clf__random_state=123, scaler__with_mean=True \n",
      "[CV]  clf__C=0.17984668960629735, clf__penalty=l2, clf__random_state=123, scaler__with_mean=True, total=   2.6s\n",
      "[CV] clf__C=0.17984668960629735, clf__penalty=l2, clf__random_state=123, scaler__with_mean=True \n",
      "[CV]  clf__C=0.17984668960629735, clf__penalty=l2, clf__random_state=123, scaler__with_mean=True, total=   2.2s\n",
      "[CV] clf__C=0.066168907176401, clf__penalty=l1, clf__random_state=123, scaler__with_mean=False \n",
      "[CV]  clf__C=0.066168907176401, clf__penalty=l1, clf__random_state=123, scaler__with_mean=False, total=   0.5s\n",
      "[CV] clf__C=0.066168907176401, clf__penalty=l1, clf__random_state=123, scaler__with_mean=False \n",
      "[CV]  clf__C=0.066168907176401, clf__penalty=l1, clf__random_state=123, scaler__with_mean=False, total=   0.4s\n",
      "[CV] clf__C=0.066168907176401, clf__penalty=l1, clf__random_state=123, scaler__with_mean=False \n",
      "[CV]  clf__C=0.066168907176401, clf__penalty=l1, clf__random_state=123, scaler__with_mean=False, total=   0.3s\n",
      "[CV] clf__C=0.066168907176401, clf__penalty=l1, clf__random_state=123, scaler__with_mean=False \n",
      "[CV]  clf__C=0.066168907176401, clf__penalty=l1, clf__random_state=123, scaler__with_mean=False, total=   0.3s\n",
      "[CV] clf__C=0.066168907176401, clf__penalty=l1, clf__random_state=123, scaler__with_mean=False \n",
      "[CV]  clf__C=0.066168907176401, clf__penalty=l1, clf__random_state=123, scaler__with_mean=False, total=   0.3s\n",
      "[CV] clf__C=0.6846579724234434, clf__penalty=l1, clf__random_state=123, scaler__with_mean=True \n",
      "[CV]  clf__C=0.6846579724234434, clf__penalty=l1, clf__random_state=123, scaler__with_mean=True, total=   0.8s\n",
      "[CV] clf__C=0.6846579724234434, clf__penalty=l1, clf__random_state=123, scaler__with_mean=True \n",
      "[CV]  clf__C=0.6846579724234434, clf__penalty=l1, clf__random_state=123, scaler__with_mean=True, total=   0.6s\n",
      "[CV] clf__C=0.6846579724234434, clf__penalty=l1, clf__random_state=123, scaler__with_mean=True \n",
      "[CV]  clf__C=0.6846579724234434, clf__penalty=l1, clf__random_state=123, scaler__with_mean=True, total=   0.6s\n",
      "[CV] clf__C=0.6846579724234434, clf__penalty=l1, clf__random_state=123, scaler__with_mean=True \n",
      "[CV]  clf__C=0.6846579724234434, clf__penalty=l1, clf__random_state=123, scaler__with_mean=True, total=   0.7s\n",
      "[CV] clf__C=0.6846579724234434, clf__penalty=l1, clf__random_state=123, scaler__with_mean=True \n",
      "[CV]  clf__C=0.6846579724234434, clf__penalty=l1, clf__random_state=123, scaler__with_mean=True, total=   0.6s\n",
      "[CV] clf__C=0.16932626914590523, clf__penalty=l2, clf__random_state=123, scaler__with_mean=False \n",
      "[CV]  clf__C=0.16932626914590523, clf__penalty=l2, clf__random_state=123, scaler__with_mean=False, total=   0.6s\n",
      "[CV] clf__C=0.16932626914590523, clf__penalty=l2, clf__random_state=123, scaler__with_mean=False \n",
      "[CV]  clf__C=0.16932626914590523, clf__penalty=l2, clf__random_state=123, scaler__with_mean=False, total=   0.6s\n",
      "[CV] clf__C=0.16932626914590523, clf__penalty=l2, clf__random_state=123, scaler__with_mean=False \n",
      "[CV]  clf__C=0.16932626914590523, clf__penalty=l2, clf__random_state=123, scaler__with_mean=False, total=   0.6s\n",
      "[CV] clf__C=0.16932626914590523, clf__penalty=l2, clf__random_state=123, scaler__with_mean=False \n",
      "[CV]  clf__C=0.16932626914590523, clf__penalty=l2, clf__random_state=123, scaler__with_mean=False, total=   0.6s\n",
      "[CV] clf__C=0.16932626914590523, clf__penalty=l2, clf__random_state=123, scaler__with_mean=False \n",
      "[CV]  clf__C=0.16932626914590523, clf__penalty=l2, clf__random_state=123, scaler__with_mean=False, total=   0.5s\n",
      "[CV] clf__C=0.17597644951448602, clf__penalty=l1, clf__random_state=123, scaler__with_mean=True \n",
      "[CV]  clf__C=0.17597644951448602, clf__penalty=l1, clf__random_state=123, scaler__with_mean=True, total=   4.7s\n",
      "[CV] clf__C=0.17597644951448602, clf__penalty=l1, clf__random_state=123, scaler__with_mean=True \n",
      "[CV]  clf__C=0.17597644951448602, clf__penalty=l1, clf__random_state=123, scaler__with_mean=True, total=   4.4s\n",
      "[CV] clf__C=0.17597644951448602, clf__penalty=l1, clf__random_state=123, scaler__with_mean=True \n",
      "[CV]  clf__C=0.17597644951448602, clf__penalty=l1, clf__random_state=123, scaler__with_mean=True, total=   4.9s\n",
      "[CV] clf__C=0.17597644951448602, clf__penalty=l1, clf__random_state=123, scaler__with_mean=True \n",
      "[CV]  clf__C=0.17597644951448602, clf__penalty=l1, clf__random_state=123, scaler__with_mean=True, total=   4.9s\n",
      "[CV] clf__C=0.17597644951448602, clf__penalty=l1, clf__random_state=123, scaler__with_mean=True \n",
      "[CV]  clf__C=0.17597644951448602, clf__penalty=l1, clf__random_state=123, scaler__with_mean=True, total=   4.2s\n",
      "[CV] clf__C=55.49070845521297, clf__penalty=l2, clf__random_state=123, scaler__with_mean=True \n",
      "[CV]  clf__C=55.49070845521297, clf__penalty=l2, clf__random_state=123, scaler__with_mean=True, total=   2.6s\n",
      "[CV] clf__C=55.49070845521297, clf__penalty=l2, clf__random_state=123, scaler__with_mean=True \n",
      "[CV]  clf__C=55.49070845521297, clf__penalty=l2, clf__random_state=123, scaler__with_mean=True, total=   2.4s\n",
      "[CV] clf__C=55.49070845521297, clf__penalty=l2, clf__random_state=123, scaler__with_mean=True \n",
      "[CV]  clf__C=55.49070845521297, clf__penalty=l2, clf__random_state=123, scaler__with_mean=True, total=   2.2s\n",
      "[CV] clf__C=55.49070845521297, clf__penalty=l2, clf__random_state=123, scaler__with_mean=True \n",
      "[CV]  clf__C=55.49070845521297, clf__penalty=l2, clf__random_state=123, scaler__with_mean=True, total=   2.7s\n",
      "[CV] clf__C=55.49070845521297, clf__penalty=l2, clf__random_state=123, scaler__with_mean=True \n",
      "[CV]  clf__C=55.49070845521297, clf__penalty=l2, clf__random_state=123, scaler__with_mean=True, total=   2.2s\n",
      "[CV] clf__C=4.686779143259426, clf__penalty=l1, clf__random_state=123, scaler__with_mean=False \n",
      "[CV]  clf__C=4.686779143259426, clf__penalty=l1, clf__random_state=123, scaler__with_mean=False, total=   0.6s\n",
      "[CV] clf__C=4.686779143259426, clf__penalty=l1, clf__random_state=123, scaler__with_mean=False \n",
      "[CV]  clf__C=4.686779143259426, clf__penalty=l1, clf__random_state=123, scaler__with_mean=False, total=   0.3s\n",
      "[CV] clf__C=4.686779143259426, clf__penalty=l1, clf__random_state=123, scaler__with_mean=False \n",
      "[CV]  clf__C=4.686779143259426, clf__penalty=l1, clf__random_state=123, scaler__with_mean=False, total=   0.8s\n",
      "[CV] clf__C=4.686779143259426, clf__penalty=l1, clf__random_state=123, scaler__with_mean=False \n",
      "[CV]  clf__C=4.686779143259426, clf__penalty=l1, clf__random_state=123, scaler__with_mean=False, total=   0.8s\n",
      "[CV] clf__C=4.686779143259426, clf__penalty=l1, clf__random_state=123, scaler__with_mean=False \n",
      "[CV]  clf__C=4.686779143259426, clf__penalty=l1, clf__random_state=123, scaler__with_mean=False, total=   1.4s\n",
      "[CV] clf__C=0.023675003937163, clf__penalty=l1, clf__random_state=123, scaler__with_mean=False \n",
      "[CV]  clf__C=0.023675003937163, clf__penalty=l1, clf__random_state=123, scaler__with_mean=False, total=   0.3s\n",
      "[CV] clf__C=0.023675003937163, clf__penalty=l1, clf__random_state=123, scaler__with_mean=False \n",
      "[CV]  clf__C=0.023675003937163, clf__penalty=l1, clf__random_state=123, scaler__with_mean=False, total=   0.4s\n",
      "[CV] clf__C=0.023675003937163, clf__penalty=l1, clf__random_state=123, scaler__with_mean=False \n",
      "[CV]  clf__C=0.023675003937163, clf__penalty=l1, clf__random_state=123, scaler__with_mean=False, total=   0.4s\n",
      "[CV] clf__C=0.023675003937163, clf__penalty=l1, clf__random_state=123, scaler__with_mean=False \n",
      "[CV]  clf__C=0.023675003937163, clf__penalty=l1, clf__random_state=123, scaler__with_mean=False, total=   0.5s\n",
      "[CV] clf__C=0.023675003937163, clf__penalty=l1, clf__random_state=123, scaler__with_mean=False \n",
      "[CV]  clf__C=0.023675003937163, clf__penalty=l1, clf__random_state=123, scaler__with_mean=False, total=   0.4s\n",
      "[CV] clf__C=110.3123821864009, clf__penalty=l2, clf__random_state=123, scaler__with_mean=False \n",
      "[CV]  clf__C=110.3123821864009, clf__penalty=l2, clf__random_state=123, scaler__with_mean=False, total=   0.7s\n",
      "[CV] clf__C=110.3123821864009, clf__penalty=l2, clf__random_state=123, scaler__with_mean=False \n",
      "[CV]  clf__C=110.3123821864009, clf__penalty=l2, clf__random_state=123, scaler__with_mean=False, total=   0.9s\n",
      "[CV] clf__C=110.3123821864009, clf__penalty=l2, clf__random_state=123, scaler__with_mean=False \n",
      "[CV]  clf__C=110.3123821864009, clf__penalty=l2, clf__random_state=123, scaler__with_mean=False, total=   1.1s\n",
      "[CV] clf__C=110.3123821864009, clf__penalty=l2, clf__random_state=123, scaler__with_mean=False \n",
      "[CV]  clf__C=110.3123821864009, clf__penalty=l2, clf__random_state=123, scaler__with_mean=False, total=   1.0s\n",
      "[CV] clf__C=110.3123821864009, clf__penalty=l2, clf__random_state=123, scaler__with_mean=False \n",
      "[CV]  clf__C=110.3123821864009, clf__penalty=l2, clf__random_state=123, scaler__with_mean=False, total=   0.9s\n",
      "[CV] clf__C=37.65330690538603, clf__penalty=l1, clf__random_state=123, scaler__with_mean=True \n",
      "[CV]  clf__C=37.65330690538603, clf__penalty=l1, clf__random_state=123, scaler__with_mean=True, total=   1.0s\n",
      "[CV] clf__C=37.65330690538603, clf__penalty=l1, clf__random_state=123, scaler__with_mean=True \n",
      "[CV]  clf__C=37.65330690538603, clf__penalty=l1, clf__random_state=123, scaler__with_mean=True, total=   1.2s\n",
      "[CV] clf__C=37.65330690538603, clf__penalty=l1, clf__random_state=123, scaler__with_mean=True \n",
      "[CV]  clf__C=37.65330690538603, clf__penalty=l1, clf__random_state=123, scaler__with_mean=True, total=   1.1s\n",
      "[CV] clf__C=37.65330690538603, clf__penalty=l1, clf__random_state=123, scaler__with_mean=True \n",
      "[CV]  clf__C=37.65330690538603, clf__penalty=l1, clf__random_state=123, scaler__with_mean=True, total=   1.0s\n",
      "[CV] clf__C=37.65330690538603, clf__penalty=l1, clf__random_state=123, scaler__with_mean=True \n",
      "[CV]  clf__C=37.65330690538603, clf__penalty=l1, clf__random_state=123, scaler__with_mean=True, total=   1.1s\n",
      "[CV] clf__C=0.003297064338248382, clf__penalty=l1, clf__random_state=123, scaler__with_mean=True \n",
      "[CV]  clf__C=0.003297064338248382, clf__penalty=l1, clf__random_state=123, scaler__with_mean=True, total=   0.4s\n",
      "[CV] clf__C=0.003297064338248382, clf__penalty=l1, clf__random_state=123, scaler__with_mean=True \n",
      "[CV]  clf__C=0.003297064338248382, clf__penalty=l1, clf__random_state=123, scaler__with_mean=True, total=   0.4s\n",
      "[CV] clf__C=0.003297064338248382, clf__penalty=l1, clf__random_state=123, scaler__with_mean=True \n",
      "[CV]  clf__C=0.003297064338248382, clf__penalty=l1, clf__random_state=123, scaler__with_mean=True, total=   0.4s\n",
      "[CV] clf__C=0.003297064338248382, clf__penalty=l1, clf__random_state=123, scaler__with_mean=True \n",
      "[CV]  clf__C=0.003297064338248382, clf__penalty=l1, clf__random_state=123, scaler__with_mean=True, total=   0.4s\n",
      "[CV] clf__C=0.003297064338248382, clf__penalty=l1, clf__random_state=123, scaler__with_mean=True \n",
      "[CV]  clf__C=0.003297064338248382, clf__penalty=l1, clf__random_state=123, scaler__with_mean=True, total=   0.3s\n",
      "[CV] clf__C=0.359702678393066, clf__penalty=l2, clf__random_state=123, scaler__with_mean=False \n",
      "[CV]  clf__C=0.359702678393066, clf__penalty=l2, clf__random_state=123, scaler__with_mean=False, total=   0.7s\n",
      "[CV] clf__C=0.359702678393066, clf__penalty=l2, clf__random_state=123, scaler__with_mean=False \n",
      "[CV]  clf__C=0.359702678393066, clf__penalty=l2, clf__random_state=123, scaler__with_mean=False, total=   0.6s\n",
      "[CV] clf__C=0.359702678393066, clf__penalty=l2, clf__random_state=123, scaler__with_mean=False \n",
      "[CV]  clf__C=0.359702678393066, clf__penalty=l2, clf__random_state=123, scaler__with_mean=False, total=   0.6s\n",
      "[CV] clf__C=0.359702678393066, clf__penalty=l2, clf__random_state=123, scaler__with_mean=False \n",
      "[CV]  clf__C=0.359702678393066, clf__penalty=l2, clf__random_state=123, scaler__with_mean=False, total=   0.6s\n",
      "[CV] clf__C=0.359702678393066, clf__penalty=l2, clf__random_state=123, scaler__with_mean=False \n",
      "[CV]  clf__C=0.359702678393066, clf__penalty=l2, clf__random_state=123, scaler__with_mean=False, total=   0.7s\n",
      "[CV] clf__C=1.3751585631540372e-05, clf__penalty=l1, clf__random_state=123, scaler__with_mean=True \n",
      "[CV]  clf__C=1.3751585631540372e-05, clf__penalty=l1, clf__random_state=123, scaler__with_mean=True, total=   0.3s\n",
      "[CV] clf__C=1.3751585631540372e-05, clf__penalty=l1, clf__random_state=123, scaler__with_mean=True \n",
      "[CV]  clf__C=1.3751585631540372e-05, clf__penalty=l1, clf__random_state=123, scaler__with_mean=True, total=   0.2s\n",
      "[CV] clf__C=1.3751585631540372e-05, clf__penalty=l1, clf__random_state=123, scaler__with_mean=True \n",
      "[CV]  clf__C=1.3751585631540372e-05, clf__penalty=l1, clf__random_state=123, scaler__with_mean=True, total=   0.2s\n",
      "[CV] clf__C=1.3751585631540372e-05, clf__penalty=l1, clf__random_state=123, scaler__with_mean=True \n",
      "[CV]  clf__C=1.3751585631540372e-05, clf__penalty=l1, clf__random_state=123, scaler__with_mean=True, total=   0.2s\n",
      "[CV] clf__C=1.3751585631540372e-05, clf__penalty=l1, clf__random_state=123, scaler__with_mean=True \n",
      "[CV]  clf__C=1.3751585631540372e-05, clf__penalty=l1, clf__random_state=123, scaler__with_mean=True, total=   0.3s\n",
      "[CV] clf__C=40.847667765581036, clf__penalty=l1, clf__random_state=123, scaler__with_mean=False \n",
      "[CV]  clf__C=40.847667765581036, clf__penalty=l1, clf__random_state=123, scaler__with_mean=False, total=   0.3s\n",
      "[CV] clf__C=40.847667765581036, clf__penalty=l1, clf__random_state=123, scaler__with_mean=False \n",
      "[CV]  clf__C=40.847667765581036, clf__penalty=l1, clf__random_state=123, scaler__with_mean=False, total=   0.3s\n",
      "[CV] clf__C=40.847667765581036, clf__penalty=l1, clf__random_state=123, scaler__with_mean=False \n",
      "[CV]  clf__C=40.847667765581036, clf__penalty=l1, clf__random_state=123, scaler__with_mean=False, total=   0.3s\n",
      "[CV] clf__C=40.847667765581036, clf__penalty=l1, clf__random_state=123, scaler__with_mean=False \n",
      "[CV]  clf__C=40.847667765581036, clf__penalty=l1, clf__random_state=123, scaler__with_mean=False, total=   0.3s\n",
      "[CV] clf__C=40.847667765581036, clf__penalty=l1, clf__random_state=123, scaler__with_mean=False \n",
      "[CV]  clf__C=40.847667765581036, clf__penalty=l1, clf__random_state=123, scaler__with_mean=False, total=   0.3s\n",
      "[CV] clf__C=0.49930271136349663, clf__penalty=l1, clf__random_state=123, scaler__with_mean=True \n",
      "[CV]  clf__C=0.49930271136349663, clf__penalty=l1, clf__random_state=123, scaler__with_mean=True, total=   0.5s\n",
      "[CV] clf__C=0.49930271136349663, clf__penalty=l1, clf__random_state=123, scaler__with_mean=True \n",
      "[CV]  clf__C=0.49930271136349663, clf__penalty=l1, clf__random_state=123, scaler__with_mean=True, total=   0.6s\n",
      "[CV] clf__C=0.49930271136349663, clf__penalty=l1, clf__random_state=123, scaler__with_mean=True \n",
      "[CV]  clf__C=0.49930271136349663, clf__penalty=l1, clf__random_state=123, scaler__with_mean=True, total=   0.5s\n",
      "[CV] clf__C=0.49930271136349663, clf__penalty=l1, clf__random_state=123, scaler__with_mean=True \n",
      "[CV]  clf__C=0.49930271136349663, clf__penalty=l1, clf__random_state=123, scaler__with_mean=True, total=   0.6s\n",
      "[CV] clf__C=0.49930271136349663, clf__penalty=l1, clf__random_state=123, scaler__with_mean=True \n",
      "[CV]  clf__C=0.49930271136349663, clf__penalty=l1, clf__random_state=123, scaler__with_mean=True, total=   0.7s\n"
     ]
    },
    {
     "name": "stderr",
     "output_type": "stream",
     "text": [
      "[Parallel(n_jobs=1)]: Done 100 out of 100 | elapsed:  2.2min finished\n"
     ]
    },
    {
     "data": {
      "text/plain": [
       "RandomizedSearchCV(cv=StratifiedKFold(n_splits=5, random_state=123, shuffle=True),\n",
       "          error_score='raise',\n",
       "          estimator=Pipeline(memory=None,\n",
       "     steps=[('scaler', StandardScaler(copy=True, with_mean=True, with_std=True)), ('clf', LogisticRegression(C=1.0, class_weight=None, dual=False, fit_intercept=True,\n",
       "          intercept_scaling=1, max_iter=100, multi_class='ovr', n_jobs=1,\n",
       "          penalty='l2', random_state=None, solver='liblinear', tol=0.0001,\n",
       "          verbose=0, warm_start=False))]),\n",
       "          fit_params=None, iid=True, n_iter=20, n_jobs=1,\n",
       "          param_distributions={'scaler__with_mean': [False, True], 'clf__penalty': ['l1', 'l2'], 'clf__random_state': [123], 'clf__C': <scipy.stats._distn_infrastructure.rv_frozen object at 0x0000021431A05A58>},\n",
       "          pre_dispatch='2*n_jobs', random_state=123, refit=True,\n",
       "          return_train_score='warn', scoring='roc_auc', verbose=2)"
      ]
     },
     "execution_count": 28,
     "metadata": {},
     "output_type": "execute_result"
    }
   ],
   "source": [
    "# Рассмотрим 20 случайных комбинаций\n",
    "'''random_searcher = RandomizedSearchCV(model, param_grid, n_iter=20, \n",
    "                                     random_state=RND_SEED,\n",
    "                                     scoring='roc_auc', \n",
    "                                     n_jobs=-1, cv=cv, \n",
    "                                     verbose=2)'''\n",
    "\n",
    "random_searcher = RandomizedSearchCV(model, param_grid, n_iter=20, \n",
    "                                     random_state=RND_SEED,\n",
    "                                     scoring='roc_auc', \n",
    "                                     cv=cv, \n",
    "                                     verbose=2)\n",
    "\n",
    "random_searcher.fit(X, y)"
   ]
  },
  {
   "cell_type": "markdown",
   "metadata": {},
   "source": [
    "Аналогичный выхлоп"
   ]
  },
  {
   "cell_type": "code",
   "execution_count": 29,
   "metadata": {
    "collapsed": false,
    "scrolled": true
   },
   "outputs": [
    {
     "data": {
      "text/plain": [
       "{'clf__C': 0.066168907176401,\n",
       " 'clf__penalty': 'l1',\n",
       " 'clf__random_state': 123,\n",
       " 'scaler__with_mean': False}"
      ]
     },
     "execution_count": 29,
     "metadata": {},
     "output_type": "execute_result"
    }
   ],
   "source": [
    "random_searcher.best_params_"
   ]
  },
  {
   "cell_type": "code",
   "execution_count": 30,
   "metadata": {
    "collapsed": false
   },
   "outputs": [
    {
     "data": {
      "text/plain": [
       "0.8331585112406745"
      ]
     },
     "execution_count": 30,
     "metadata": {},
     "output_type": "execute_result"
    }
   ],
   "source": [
    "random_searcher.best_score_"
   ]
  },
  {
   "cell_type": "code",
   "execution_count": 31,
   "metadata": {
    "collapsed": false
   },
   "outputs": [
    {
     "name": "stderr",
     "output_type": "stream",
     "text": [
      "C:\\ProgramData\\Anaconda3\\lib\\site-packages\\sklearn\\utils\\deprecation.py:122: FutureWarning: You are accessing a training score ('split0_train_score'), which will not be available by default any more in 0.21. If you need training scores, please set return_train_score=True\n",
      "  warnings.warn(*warn_args, **warn_kwargs)\n",
      "C:\\ProgramData\\Anaconda3\\lib\\site-packages\\sklearn\\utils\\deprecation.py:122: FutureWarning: You are accessing a training score ('split1_train_score'), which will not be available by default any more in 0.21. If you need training scores, please set return_train_score=True\n",
      "  warnings.warn(*warn_args, **warn_kwargs)\n",
      "C:\\ProgramData\\Anaconda3\\lib\\site-packages\\sklearn\\utils\\deprecation.py:122: FutureWarning: You are accessing a training score ('split2_train_score'), which will not be available by default any more in 0.21. If you need training scores, please set return_train_score=True\n",
      "  warnings.warn(*warn_args, **warn_kwargs)\n",
      "C:\\ProgramData\\Anaconda3\\lib\\site-packages\\sklearn\\utils\\deprecation.py:122: FutureWarning: You are accessing a training score ('split3_train_score'), which will not be available by default any more in 0.21. If you need training scores, please set return_train_score=True\n",
      "  warnings.warn(*warn_args, **warn_kwargs)\n",
      "C:\\ProgramData\\Anaconda3\\lib\\site-packages\\sklearn\\utils\\deprecation.py:122: FutureWarning: You are accessing a training score ('split4_train_score'), which will not be available by default any more in 0.21. If you need training scores, please set return_train_score=True\n",
      "  warnings.warn(*warn_args, **warn_kwargs)\n",
      "C:\\ProgramData\\Anaconda3\\lib\\site-packages\\sklearn\\utils\\deprecation.py:122: FutureWarning: You are accessing a training score ('mean_train_score'), which will not be available by default any more in 0.21. If you need training scores, please set return_train_score=True\n",
      "  warnings.warn(*warn_args, **warn_kwargs)\n",
      "C:\\ProgramData\\Anaconda3\\lib\\site-packages\\sklearn\\utils\\deprecation.py:122: FutureWarning: You are accessing a training score ('std_train_score'), which will not be available by default any more in 0.21. If you need training scores, please set return_train_score=True\n",
      "  warnings.warn(*warn_args, **warn_kwargs)\n"
     ]
    }
   ],
   "source": [
    "results = pd.DataFrame(random_searcher.cv_results_)"
   ]
  },
  {
   "cell_type": "code",
   "execution_count": 32,
   "metadata": {
    "collapsed": false
   },
   "outputs": [
    {
     "data": {
      "text/html": [
       "<div>\n",
       "<style scoped>\n",
       "    .dataframe tbody tr th:only-of-type {\n",
       "        vertical-align: middle;\n",
       "    }\n",
       "\n",
       "    .dataframe tbody tr th {\n",
       "        vertical-align: top;\n",
       "    }\n",
       "\n",
       "    .dataframe thead th {\n",
       "        text-align: right;\n",
       "    }\n",
       "</style>\n",
       "<table border=\"1\" class=\"dataframe\">\n",
       "  <thead>\n",
       "    <tr style=\"text-align: right;\">\n",
       "      <th></th>\n",
       "      <th>mean_fit_time</th>\n",
       "      <th>std_fit_time</th>\n",
       "      <th>mean_score_time</th>\n",
       "      <th>std_score_time</th>\n",
       "      <th>param_clf__C</th>\n",
       "      <th>param_clf__penalty</th>\n",
       "      <th>param_clf__random_state</th>\n",
       "      <th>param_scaler__with_mean</th>\n",
       "      <th>params</th>\n",
       "      <th>split0_test_score</th>\n",
       "      <th>...</th>\n",
       "      <th>mean_test_score</th>\n",
       "      <th>std_test_score</th>\n",
       "      <th>rank_test_score</th>\n",
       "      <th>split0_train_score</th>\n",
       "      <th>split1_train_score</th>\n",
       "      <th>split2_train_score</th>\n",
       "      <th>split3_train_score</th>\n",
       "      <th>split4_train_score</th>\n",
       "      <th>mean_train_score</th>\n",
       "      <th>std_train_score</th>\n",
       "    </tr>\n",
       "  </thead>\n",
       "  <tbody>\n",
       "    <tr>\n",
       "      <th>0</th>\n",
       "      <td>0.345835</td>\n",
       "      <td>0.012022</td>\n",
       "      <td>0.015610</td>\n",
       "      <td>0.000012</td>\n",
       "      <td>0.0130037</td>\n",
       "      <td>l1</td>\n",
       "      <td>123</td>\n",
       "      <td>False</td>\n",
       "      <td>{'clf__C': 0.013003686130638284, 'clf__penalty...</td>\n",
       "      <td>0.827471</td>\n",
       "      <td>...</td>\n",
       "      <td>0.829823</td>\n",
       "      <td>0.004285</td>\n",
       "      <td>10</td>\n",
       "      <td>0.835124</td>\n",
       "      <td>0.834699</td>\n",
       "      <td>0.835106</td>\n",
       "      <td>0.835920</td>\n",
       "      <td>0.833295</td>\n",
       "      <td>0.834829</td>\n",
       "      <td>0.000863</td>\n",
       "    </tr>\n",
       "    <tr>\n",
       "      <th>1</th>\n",
       "      <td>0.689186</td>\n",
       "      <td>0.028162</td>\n",
       "      <td>0.015635</td>\n",
       "      <td>0.000020</td>\n",
       "      <td>54.0215</td>\n",
       "      <td>l1</td>\n",
       "      <td>123</td>\n",
       "      <td>True</td>\n",
       "      <td>{'clf__C': 54.02148221946703, 'clf__penalty': ...</td>\n",
       "      <td>0.829487</td>\n",
       "      <td>...</td>\n",
       "      <td>0.829797</td>\n",
       "      <td>0.003313</td>\n",
       "      <td>14</td>\n",
       "      <td>0.849481</td>\n",
       "      <td>0.850480</td>\n",
       "      <td>0.849283</td>\n",
       "      <td>0.850175</td>\n",
       "      <td>0.848428</td>\n",
       "      <td>0.849569</td>\n",
       "      <td>0.000719</td>\n",
       "    </tr>\n",
       "    <tr>\n",
       "      <th>2</th>\n",
       "      <td>4.169355</td>\n",
       "      <td>0.700147</td>\n",
       "      <td>0.027752</td>\n",
       "      <td>0.010924</td>\n",
       "      <td>0.0988254</td>\n",
       "      <td>l1</td>\n",
       "      <td>123</td>\n",
       "      <td>True</td>\n",
       "      <td>{'clf__C': 0.09882536189042468, 'clf__penalty'...</td>\n",
       "      <td>0.831300</td>\n",
       "      <td>...</td>\n",
       "      <td>0.832554</td>\n",
       "      <td>0.003362</td>\n",
       "      <td>3</td>\n",
       "      <td>0.848457</td>\n",
       "      <td>0.849135</td>\n",
       "      <td>0.847939</td>\n",
       "      <td>0.849446</td>\n",
       "      <td>0.847167</td>\n",
       "      <td>0.848429</td>\n",
       "      <td>0.000820</td>\n",
       "    </tr>\n",
       "    <tr>\n",
       "      <th>3</th>\n",
       "      <td>1.130421</td>\n",
       "      <td>0.202231</td>\n",
       "      <td>0.023902</td>\n",
       "      <td>0.008227</td>\n",
       "      <td>739.331</td>\n",
       "      <td>l1</td>\n",
       "      <td>123</td>\n",
       "      <td>True</td>\n",
       "      <td>{'clf__C': 739.3313143249965, 'clf__penalty': ...</td>\n",
       "      <td>0.829473</td>\n",
       "      <td>...</td>\n",
       "      <td>0.829788</td>\n",
       "      <td>0.003311</td>\n",
       "      <td>16</td>\n",
       "      <td>0.849479</td>\n",
       "      <td>0.850481</td>\n",
       "      <td>0.849282</td>\n",
       "      <td>0.850174</td>\n",
       "      <td>0.848428</td>\n",
       "      <td>0.849569</td>\n",
       "      <td>0.000720</td>\n",
       "    </tr>\n",
       "    <tr>\n",
       "      <th>4</th>\n",
       "      <td>0.405088</td>\n",
       "      <td>0.043350</td>\n",
       "      <td>0.024818</td>\n",
       "      <td>0.004267</td>\n",
       "      <td>6.08732e-05</td>\n",
       "      <td>l1</td>\n",
       "      <td>123</td>\n",
       "      <td>False</td>\n",
       "      <td>{'clf__C': 6.0873234832561394e-05, 'clf__penal...</td>\n",
       "      <td>0.500000</td>\n",
       "      <td>...</td>\n",
       "      <td>0.500000</td>\n",
       "      <td>0.000000</td>\n",
       "      <td>19</td>\n",
       "      <td>0.500000</td>\n",
       "      <td>0.500000</td>\n",
       "      <td>0.500000</td>\n",
       "      <td>0.500000</td>\n",
       "      <td>0.500000</td>\n",
       "      <td>0.500000</td>\n",
       "      <td>0.000000</td>\n",
       "    </tr>\n",
       "  </tbody>\n",
       "</table>\n",
       "<p>5 rows × 24 columns</p>\n",
       "</div>"
      ],
      "text/plain": [
       "   mean_fit_time  std_fit_time  mean_score_time  std_score_time param_clf__C  \\\n",
       "0       0.345835      0.012022         0.015610        0.000012    0.0130037   \n",
       "1       0.689186      0.028162         0.015635        0.000020      54.0215   \n",
       "2       4.169355      0.700147         0.027752        0.010924    0.0988254   \n",
       "3       1.130421      0.202231         0.023902        0.008227      739.331   \n",
       "4       0.405088      0.043350         0.024818        0.004267  6.08732e-05   \n",
       "\n",
       "  param_clf__penalty param_clf__random_state param_scaler__with_mean  \\\n",
       "0                 l1                     123                   False   \n",
       "1                 l1                     123                    True   \n",
       "2                 l1                     123                    True   \n",
       "3                 l1                     123                    True   \n",
       "4                 l1                     123                   False   \n",
       "\n",
       "                                              params  split0_test_score  \\\n",
       "0  {'clf__C': 0.013003686130638284, 'clf__penalty...           0.827471   \n",
       "1  {'clf__C': 54.02148221946703, 'clf__penalty': ...           0.829487   \n",
       "2  {'clf__C': 0.09882536189042468, 'clf__penalty'...           0.831300   \n",
       "3  {'clf__C': 739.3313143249965, 'clf__penalty': ...           0.829473   \n",
       "4  {'clf__C': 6.0873234832561394e-05, 'clf__penal...           0.500000   \n",
       "\n",
       "        ...         mean_test_score  std_test_score  rank_test_score  \\\n",
       "0       ...                0.829823        0.004285               10   \n",
       "1       ...                0.829797        0.003313               14   \n",
       "2       ...                0.832554        0.003362                3   \n",
       "3       ...                0.829788        0.003311               16   \n",
       "4       ...                0.500000        0.000000               19   \n",
       "\n",
       "   split0_train_score  split1_train_score  split2_train_score  \\\n",
       "0            0.835124            0.834699            0.835106   \n",
       "1            0.849481            0.850480            0.849283   \n",
       "2            0.848457            0.849135            0.847939   \n",
       "3            0.849479            0.850481            0.849282   \n",
       "4            0.500000            0.500000            0.500000   \n",
       "\n",
       "   split3_train_score  split4_train_score  mean_train_score  std_train_score  \n",
       "0            0.835920            0.833295          0.834829         0.000863  \n",
       "1            0.850175            0.848428          0.849569         0.000719  \n",
       "2            0.849446            0.847167          0.848429         0.000820  \n",
       "3            0.850174            0.848428          0.849569         0.000720  \n",
       "4            0.500000            0.500000          0.500000         0.000000  \n",
       "\n",
       "[5 rows x 24 columns]"
      ]
     },
     "execution_count": 32,
     "metadata": {},
     "output_type": "execute_result"
    }
   ],
   "source": [
    "results.head()"
   ]
  },
  {
   "cell_type": "code",
   "execution_count": 33,
   "metadata": {
    "collapsed": true
   },
   "outputs": [],
   "source": [
    "best_model = random_searcher.best_estimator_"
   ]
  },
  {
   "cell_type": "markdown",
   "metadata": {},
   "source": [
    "### HyperOpt"
   ]
  },
  {
   "cell_type": "markdown",
   "metadata": {},
   "source": [
    "Есть еще другой вариант - \"умный\" перебор параметров. И вот тут нам помогает библиотека `hyperopt`.\n",
    "\n",
    "Если невдаваться в детали, то `hyperopt` определяет следующего набора-кандидата с помощью некоторого алгоритма, который балансирует исследование еще не изведанных областей значений гиперпараметров и направления, вдоль которых наблюдались улучшения целеой метрики.\n",
    "\n",
    "То есть мы задаем некоторую функцию, и ставим себе цель **минимизировать** (такова договоренность в `hyperopt`) ее значение исходя из параметров, которые она принимает.\n",
    "\n",
    "Например, возьмем функцию $f(x) = \\sin(x)/x$ и будем искать ее минимум при условии, что $x$ будет равномерно распределен на интервале $[-7.5, 7.5]$"
   ]
  },
  {
   "cell_type": "code",
   "execution_count": 34,
   "metadata": {
    "collapsed": true
   },
   "outputs": [],
   "source": [
    "# sudo pip install networkx==1.11"
   ]
  },
  {
   "cell_type": "code",
   "execution_count": 35,
   "metadata": {
    "collapsed": true
   },
   "outputs": [],
   "source": [
    "from hyperopt import fmin, tpe, hp, Trials, STATUS_OK, rand"
   ]
  },
  {
   "cell_type": "code",
   "execution_count": 36,
   "metadata": {
    "collapsed": false
   },
   "outputs": [
    {
     "name": "stdout",
     "output_type": "stream",
     "text": [
      "{'x': -0.007237460582553368}\n"
     ]
    }
   ],
   "source": [
    "trials = Trials()\n",
    "best = fmin(\n",
    "    fn=lambda x: -np.sin(x)/x,\n",
    "    space=hp.uniform('x', -7.5, 7.5),\n",
    "    algo=tpe.suggest,\n",
    "    max_evals=100,\n",
    "    trials=trials)\n",
    "\n",
    "print(best)\n"
   ]
  },
  {
   "cell_type": "code",
   "execution_count": 37,
   "metadata": {
    "collapsed": false
   },
   "outputs": [
    {
     "data": {
      "text/plain": [
       "[<matplotlib.lines.Line2D at 0x21430da6f60>]"
      ]
     },
     "execution_count": 37,
     "metadata": {},
     "output_type": "execute_result"
    },
    {
     "data": {
      "image/png": "[encoded data removed]",
      "text/plain": [
       "<Figure size 864x576 with 1 Axes>"
      ]
     },
     "metadata": {},
     "output_type": "display_data"
    }
   ],
   "source": [
    "x = np.linspace(-10,10,50)\n",
    "func = lambda x: -np.sin(x)/x\n",
    "y = func(x)\n",
    "plt.plot(x,y)\n",
    "\n",
    "y_best = func(best['x'])\n",
    "plt.plot(best['x'], y_best, marker='s')"
   ]
  },
  {
   "cell_type": "markdown",
   "metadata": {},
   "source": [
    "Нашли)"
   ]
  },
  {
   "cell_type": "markdown",
   "metadata": {},
   "source": [
    "Возвращаясь к нашим баранам, функция вданном случае будет возвращать метрику качества модели (пайплайна) на кроссвалидации. С помощью `hyperopt` мы будем искать минимум этой функции при заданных диаполознах значений гипер параметров.\n",
    "\n",
    "Но самым важным плюсом, как по мне, является гибкость - в функцию, которую мы хотим минимизировать можно написать все что угодно. Например, сейчас я добавлю вариативность в пайплайне по типу шкалирования между - StandartScaler или RobustScaler."
   ]
  },
  {
   "cell_type": "code",
   "execution_count": 38,
   "metadata": {
    "collapsed": true
   },
   "outputs": [],
   "source": [
    "from sklearn.preprocessing import RobustScaler\n",
    "from sklearn.model_selection import cross_val_score"
   ]
  },
  {
   "cell_type": "code",
   "execution_count": 39,
   "metadata": {
    "collapsed": true
   },
   "outputs": [],
   "source": [
    "X = df_features.loc[:, idx_features].values\n",
    "y = df_features.loc[:, ~idx_features].values.flatten()"
   ]
  },
  {
   "cell_type": "code",
   "execution_count": 40,
   "metadata": {
    "collapsed": true
   },
   "outputs": [],
   "source": [
    "def run_trials_template(X, y, params, evals=100):\n",
    "\n",
    "    def hyperopt_cv(X, y, params):\n",
    "        \n",
    "        X_ = X.copy()\n",
    "        \n",
    "        # Отделяем параметры лог регрессии в отдельный словарь\n",
    "        lm_params = {}\n",
    "        for k, v in params.items():\n",
    "            if k.startswith('glob'):\n",
    "                continue                \n",
    "            elif k.startswith('lm'):\n",
    "                lm_params[k.split('_', 1)[1]] = v\n",
    "        \n",
    "        # Задаем шкалирование\n",
    "        if params['scaler_type'] == 'standart':\n",
    "            scaler = StandardScaler(with_mean=params['scaler_centering'])\n",
    "        else:\n",
    "            assert params['scaler_type'] == 'robust'\n",
    "            scaler = RobustScaler(with_centering=params['scaler_centering'])\n",
    "        \n",
    "        # Создаем лог рег с нужными параметрами\n",
    "        clf = LogisticRegression(**lm_params)\n",
    "        \n",
    "        # Итоговый пайплайн\n",
    "        model = Pipeline([\n",
    "            ('scaler', scaler),\n",
    "            ('clf', clf)\n",
    "        ])\n",
    "\n",
    "        # Схема кросс-валидации\n",
    "        n_splits = 5\n",
    "        cv = StratifiedKFold(n_splits=n_splits, shuffle=True, \n",
    "                             random_state=RND_SEED)\n",
    "        '''scores = cross_val_score(model, X_, y,\n",
    "                                 scoring='roc_auc', \n",
    "                                 cv=cv, \n",
    "                                 n_jobs=-1)'''\n",
    "        scores = cross_val_score(model, X_, y,\n",
    "                                 scoring='roc_auc', \n",
    "                                 cv=cv)\n",
    "\n",
    "        # Возвращаем среднее значение метрики и отклонение (на всякий случай)\n",
    "        return scores.mean(), scores.std()\n",
    "\n",
    "    def f(params):\n",
    "        acc, std = hyperopt_cv(X, y, params)\n",
    "        return {'loss': -acc, 'qscore': -acc, 'qscore_std': std, 'status': STATUS_OK}\n",
    "\n",
    "    trials = Trials()\n",
    "    best = fmin(f, \n",
    "                params, \n",
    "                algo=tpe.suggest, \n",
    "                max_evals=evals, \n",
    "                trials=trials, \n",
    "                verbose=1)\n",
    "    \n",
    "    return trials"
   ]
  },
  {
   "cell_type": "code",
   "execution_count": 41,
   "metadata": {
    "collapsed": true
   },
   "outputs": [],
   "source": [
    "# Задаем пространство поиска\n",
    "space4_lm = {\n",
    "    'lm_penalty': hp.choice('penalty', ['l1', 'l2']),\n",
    "    'lm_C': hp.loguniform('C', -5, 3),\n",
    "    'lm_class_weight': hp.choice('class_weight', [None, 'balanced']),\n",
    "    'lm_random_state': RND_SEED,\n",
    "    'scaler_type': hp.choice('scaler_type', ['standart', 'robust']),\n",
    "    'scaler_centering': hp.choice('scaler_centering', [False, True])\n",
    "}"
   ]
  },
  {
   "cell_type": "code",
   "execution_count": 42,
   "metadata": {
    "collapsed": false
   },
   "outputs": [],
   "source": [
    "# Запускаем поиск\n",
    "trials = run_trials_template(X, y, space4_lm, evals=40)"
   ]
  },
  {
   "cell_type": "code",
   "execution_count": 43,
   "metadata": {
    "collapsed": true
   },
   "outputs": [],
   "source": [
    "def trials_df(trials):\n",
    "    '''\n",
    "    Функция форматирует результаты hyperopt в dataframe\n",
    "    '''\n",
    "    tr_dict = []\n",
    "    for t in trials:\n",
    "        trial = dict()\n",
    "        for k, v in t['misc']['vals'].items():\n",
    "            trial[k] = v[0]\n",
    "\n",
    "        trial['qscore'] = -t['result']['qscore']\n",
    "        trial['qscore_std'] = -t['result']['qscore_std']\n",
    "        tr_dict.append(trial)\n",
    "\n",
    "    df_res = pd.DataFrame.from_dict(tr_dict)\n",
    "    df_res = df_res.sort_values('qscore', ascending=False)\n",
    "    \n",
    "    return df_res"
   ]
  },
  {
   "cell_type": "markdown",
   "metadata": {},
   "source": [
    "Достаем результаты.\n",
    "\n",
    "Стоит оговорится, что в некоторых столбцах указаны не фактические значение гиперпараметров, а их позиция в соответствуюем поле в `space4_lm`"
   ]
  },
  {
   "cell_type": "code",
   "execution_count": 44,
   "metadata": {
    "collapsed": false
   },
   "outputs": [],
   "source": [
    "df_trials = trials_df(trials)"
   ]
  },
  {
   "cell_type": "markdown",
   "metadata": {},
   "source": [
    "Здесь `qscore` - метрика качесва, а `scaler_type = 1` означает, что был выбран `scaler_type = robust`"
   ]
  },
  {
   "cell_type": "code",
   "execution_count": 45,
   "metadata": {
    "collapsed": false
   },
   "outputs": [
    {
     "data": {
      "text/html": [
       "<div>\n",
       "<style scoped>\n",
       "    .dataframe tbody tr th:only-of-type {\n",
       "        vertical-align: middle;\n",
       "    }\n",
       "\n",
       "    .dataframe tbody tr th {\n",
       "        vertical-align: top;\n",
       "    }\n",
       "\n",
       "    .dataframe thead th {\n",
       "        text-align: right;\n",
       "    }\n",
       "</style>\n",
       "<table border=\"1\" class=\"dataframe\">\n",
       "  <thead>\n",
       "    <tr style=\"text-align: right;\">\n",
       "      <th></th>\n",
       "      <th>C</th>\n",
       "      <th>class_weight</th>\n",
       "      <th>penalty</th>\n",
       "      <th>qscore</th>\n",
       "      <th>qscore_std</th>\n",
       "      <th>scaler_centering</th>\n",
       "      <th>scaler_type</th>\n",
       "    </tr>\n",
       "  </thead>\n",
       "  <tbody>\n",
       "    <tr>\n",
       "      <th>21</th>\n",
       "      <td>0.023098</td>\n",
       "      <td>0</td>\n",
       "      <td>0</td>\n",
       "      <td>0.836928</td>\n",
       "      <td>-0.003666</td>\n",
       "      <td>0</td>\n",
       "      <td>1</td>\n",
       "    </tr>\n",
       "    <tr>\n",
       "      <th>31</th>\n",
       "      <td>0.023714</td>\n",
       "      <td>0</td>\n",
       "      <td>0</td>\n",
       "      <td>0.836923</td>\n",
       "      <td>-0.003648</td>\n",
       "      <td>0</td>\n",
       "      <td>1</td>\n",
       "    </tr>\n",
       "    <tr>\n",
       "      <th>22</th>\n",
       "      <td>0.021502</td>\n",
       "      <td>0</td>\n",
       "      <td>0</td>\n",
       "      <td>0.836867</td>\n",
       "      <td>-0.003826</td>\n",
       "      <td>0</td>\n",
       "      <td>1</td>\n",
       "    </tr>\n",
       "    <tr>\n",
       "      <th>7</th>\n",
       "      <td>0.029098</td>\n",
       "      <td>0</td>\n",
       "      <td>0</td>\n",
       "      <td>0.836801</td>\n",
       "      <td>-0.003352</td>\n",
       "      <td>1</td>\n",
       "      <td>1</td>\n",
       "    </tr>\n",
       "    <tr>\n",
       "      <th>26</th>\n",
       "      <td>0.018845</td>\n",
       "      <td>0</td>\n",
       "      <td>0</td>\n",
       "      <td>0.836771</td>\n",
       "      <td>-0.003960</td>\n",
       "      <td>0</td>\n",
       "      <td>1</td>\n",
       "    </tr>\n",
       "  </tbody>\n",
       "</table>\n",
       "</div>"
      ],
      "text/plain": [
       "           C  class_weight  penalty    qscore  qscore_std  scaler_centering  \\\n",
       "21  0.023098             0        0  0.836928   -0.003666                 0   \n",
       "31  0.023714             0        0  0.836923   -0.003648                 0   \n",
       "22  0.021502             0        0  0.836867   -0.003826                 0   \n",
       "7   0.029098             0        0  0.836801   -0.003352                 1   \n",
       "26  0.018845             0        0  0.836771   -0.003960                 0   \n",
       "\n",
       "    scaler_type  \n",
       "21            1  \n",
       "31            1  \n",
       "22            1  \n",
       "7             1  \n",
       "26            1  "
      ]
     },
     "execution_count": 45,
     "metadata": {},
     "output_type": "execute_result"
    }
   ],
   "source": [
    "df_trials.head()"
   ]
  },
  {
   "cell_type": "markdown",
   "metadata": {},
   "source": [
    "## Ваш черед"
   ]
  },
  {
   "cell_type": "markdown",
   "metadata": {},
   "source": [
    "### Новые признаки"
   ]
  },
  {
   "cell_type": "markdown",
   "metadata": {},
   "source": [
    "Задание творческое - придумайте по новому признаку (группе признаков)\n",
    "* На основе mcc (tr_type)\n",
    "* На основе временного фактора\n",
    "* На основе текстов из описания mcc\n",
    "\n",
    "Реалиуйте их в функции, аналогичной `gen_features`."
   ]
  },
  {
   "cell_type": "code",
   "execution_count": 46,
   "metadata": {
    "collapsed": false
   },
   "outputs": [
    {
     "data": {
      "text/html": [
       "<div>\n",
       "<style scoped>\n",
       "    .dataframe tbody tr th:only-of-type {\n",
       "        vertical-align: middle;\n",
       "    }\n",
       "\n",
       "    .dataframe tbody tr th {\n",
       "        vertical-align: top;\n",
       "    }\n",
       "\n",
       "    .dataframe thead th {\n",
       "        text-align: right;\n",
       "    }\n",
       "</style>\n",
       "<table border=\"1\" class=\"dataframe\">\n",
       "  <thead>\n",
       "    <tr style=\"text-align: right;\">\n",
       "      <th></th>\n",
       "      <th>customer_id</th>\n",
       "      <th>mcc_code</th>\n",
       "      <th>tr_type</th>\n",
       "      <th>amount</th>\n",
       "      <th>term_id</th>\n",
       "      <th>day</th>\n",
       "      <th>dt</th>\n",
       "      <th>weekday</th>\n",
       "      <th>datetime</th>\n",
       "      <th>date</th>\n",
       "      <th>hour</th>\n",
       "    </tr>\n",
       "  </thead>\n",
       "  <tbody>\n",
       "    <tr>\n",
       "      <th>0</th>\n",
       "      <td>39026145</td>\n",
       "      <td>4814</td>\n",
       "      <td>1030</td>\n",
       "      <td>-100.0</td>\n",
       "      <td>NaN</td>\n",
       "      <td>0</td>\n",
       "      <td>1406888606</td>\n",
       "      <td>5</td>\n",
       "      <td>2014-08-01 10:23:26</td>\n",
       "      <td>2014-08-01</td>\n",
       "      <td>10</td>\n",
       "    </tr>\n",
       "    <tr>\n",
       "      <th>1</th>\n",
       "      <td>39026145</td>\n",
       "      <td>6011</td>\n",
       "      <td>7010</td>\n",
       "      <td>2500.0</td>\n",
       "      <td>NaN</td>\n",
       "      <td>1</td>\n",
       "      <td>1406974769</td>\n",
       "      <td>6</td>\n",
       "      <td>2014-08-02 10:19:29</td>\n",
       "      <td>2014-08-02</td>\n",
       "      <td>10</td>\n",
       "    </tr>\n",
       "  </tbody>\n",
       "</table>\n",
       "</div>"
      ],
      "text/plain": [
       "   customer_id  mcc_code  tr_type  amount term_id  day          dt  weekday  \\\n",
       "0     39026145      4814     1030  -100.0     NaN    0  1406888606        5   \n",
       "1     39026145      6011     7010  2500.0     NaN    1  1406974769        6   \n",
       "\n",
       "             datetime        date hour  \n",
       "0 2014-08-01 10:23:26  2014-08-01   10  \n",
       "1 2014-08-02 10:19:29  2014-08-02   10  "
      ]
     },
     "execution_count": 46,
     "metadata": {},
     "output_type": "execute_result"
    }
   ],
   "source": [
    "df_transactions.head(2)"
   ]
  },
  {
   "cell_type": "code",
   "execution_count": 47,
   "metadata": {
    "collapsed": false
   },
   "outputs": [
    {
     "data": {
      "text/html": [
       "<div>\n",
       "<style scoped>\n",
       "    .dataframe tbody tr th:only-of-type {\n",
       "        vertical-align: middle;\n",
       "    }\n",
       "\n",
       "    .dataframe tbody tr th {\n",
       "        vertical-align: top;\n",
       "    }\n",
       "\n",
       "    .dataframe thead th {\n",
       "        text-align: right;\n",
       "    }\n",
       "</style>\n",
       "<table border=\"1\" class=\"dataframe\">\n",
       "  <thead>\n",
       "    <tr style=\"text-align: right;\">\n",
       "      <th></th>\n",
       "      <th>customer_id</th>\n",
       "      <th>gender</th>\n",
       "    </tr>\n",
       "  </thead>\n",
       "  <tbody>\n",
       "    <tr>\n",
       "      <th>0</th>\n",
       "      <td>75562265</td>\n",
       "      <td>0</td>\n",
       "    </tr>\n",
       "    <tr>\n",
       "      <th>1</th>\n",
       "      <td>10928546</td>\n",
       "      <td>1</td>\n",
       "    </tr>\n",
       "  </tbody>\n",
       "</table>\n",
       "</div>"
      ],
      "text/plain": [
       "   customer_id  gender\n",
       "0     75562265       0\n",
       "1     10928546       1"
      ]
     },
     "execution_count": 47,
     "metadata": {},
     "output_type": "execute_result"
    }
   ],
   "source": [
    "df_gender.head(2)"
   ]
  },
  {
   "cell_type": "code",
   "execution_count": 48,
   "metadata": {
    "collapsed": false
   },
   "outputs": [
    {
     "data": {
      "text/html": [
       "<div>\n",
       "<style scoped>\n",
       "    .dataframe tbody tr th:only-of-type {\n",
       "        vertical-align: middle;\n",
       "    }\n",
       "\n",
       "    .dataframe tbody tr th {\n",
       "        vertical-align: top;\n",
       "    }\n",
       "\n",
       "    .dataframe thead th {\n",
       "        text-align: right;\n",
       "    }\n",
       "</style>\n",
       "<table border=\"1\" class=\"dataframe\">\n",
       "  <thead>\n",
       "    <tr style=\"text-align: right;\">\n",
       "      <th></th>\n",
       "      <th>tr_type</th>\n",
       "      <th>tr_description</th>\n",
       "    </tr>\n",
       "  </thead>\n",
       "  <tbody>\n",
       "    <tr>\n",
       "      <th>0</th>\n",
       "      <td>3200</td>\n",
       "      <td>Плата за предоставление услуг посредством моби...</td>\n",
       "    </tr>\n",
       "    <tr>\n",
       "      <th>1</th>\n",
       "      <td>3210</td>\n",
       "      <td>Плата за предоставление отчета по счету карты ...</td>\n",
       "    </tr>\n",
       "  </tbody>\n",
       "</table>\n",
       "</div>"
      ],
      "text/plain": [
       "   tr_type                                     tr_description\n",
       "0     3200  Плата за предоставление услуг посредством моби...\n",
       "1     3210  Плата за предоставление отчета по счету карты ..."
      ]
     },
     "execution_count": 48,
     "metadata": {},
     "output_type": "execute_result"
    }
   ],
   "source": [
    "df_tr.head(2)"
   ]
  },
  {
   "cell_type": "code",
   "execution_count": 49,
   "metadata": {
    "collapsed": false
   },
   "outputs": [
    {
     "data": {
      "text/html": [
       "<div>\n",
       "<style scoped>\n",
       "    .dataframe tbody tr th:only-of-type {\n",
       "        vertical-align: middle;\n",
       "    }\n",
       "\n",
       "    .dataframe tbody tr th {\n",
       "        vertical-align: top;\n",
       "    }\n",
       "\n",
       "    .dataframe thead th {\n",
       "        text-align: right;\n",
       "    }\n",
       "</style>\n",
       "<table border=\"1\" class=\"dataframe\">\n",
       "  <thead>\n",
       "    <tr style=\"text-align: right;\">\n",
       "      <th></th>\n",
       "      <th>mcc_code</th>\n",
       "      <th>mcc_description</th>\n",
       "    </tr>\n",
       "  </thead>\n",
       "  <tbody>\n",
       "    <tr>\n",
       "      <th>0</th>\n",
       "      <td>742</td>\n",
       "      <td>Ветеринарные услуги</td>\n",
       "    </tr>\n",
       "    <tr>\n",
       "      <th>1</th>\n",
       "      <td>1711</td>\n",
       "      <td>Генеральные подрядчики по вентиляции, теплосна...</td>\n",
       "    </tr>\n",
       "  </tbody>\n",
       "</table>\n",
       "</div>"
      ],
      "text/plain": [
       "   mcc_code                                    mcc_description\n",
       "0       742                                Ветеринарные услуги\n",
       "1      1711  Генеральные подрядчики по вентиляции, теплосна..."
      ]
     },
     "execution_count": 49,
     "metadata": {},
     "output_type": "execute_result"
    }
   ],
   "source": [
    "df_mcc.head(2)"
   ]
  },
  {
   "cell_type": "markdown",
   "metadata": {},
   "source": [
    "Если бы надо было определять пол по одной транзакции:\n",
    "\n",
    "------------------------------------------------\n",
    "%%time\n",
    "print('df_transactions:', df_transactions.shape)\n",
    "print('df_gender:', df_gender.shape)\n",
    "print('df_tr:', df_tr.shape)\n",
    "print('df_mcc:', df_mcc.shape)\n",
    "print('----------------------------')\n",
    "print('df_transactions counts of customer_id:', pd.unique(df_transactions['customer_id'].values.ravel('K')).shape[0])\n",
    "print('----------------------------------------------------------------')\n",
    "print('df_transactions counts:', '\\n', df_transactions.apply(lambda x: pd.unique(x.values.ravel('K')).shape[0], axis=0))\n",
    "print('----------------------------')\n",
    "print('df_gender counts:', '\\n',       df_gender.apply(lambda x: pd.unique(x.values.ravel('K')).shape[0], axis=0))\n",
    "print('----------------------------')\n",
    "print('df_tr counts:', '\\n',           df_tr.apply(lambda x: pd.unique(x.values.ravel('K')).shape[0], axis=0))\n",
    "print('----------------------------')\n",
    "print('df_mcc counts:', '\\n',          df_mcc.apply(lambda x: pd.unique(x.values.ravel('K')).shape[0], axis=0))\n",
    "\n",
    "--------------------------------------------------------------------------------\n",
    "df_transactions.info()\n",
    "\n",
    "---------------------------------------------------\n",
    "%%time\n",
    "df=pd.merge(df_transactions, df_gender , how='outer', on='customer_id').copy()\n",
    "print('df counts:', '\\n', df.apply(lambda x: pd.unique(x.values.ravel('K')).shape[0], axis=0))\n",
    "\n",
    "---------------------------------------------------\n",
    "print(df_gender['gender'].value_counts())\n",
    "print(df_gender.count())\n",
    "print(df['gender'].value_counts())\n",
    "print(df.count())\n",
    "\n",
    "---------------------------------------------------\n",
    "%%time\n",
    "df=pd.merge(df, df_tr , how='left', on='tr_type').copy()\n",
    "\n",
    "---------------------------------------------------\n",
    "%%time\n",
    "df=pd.merge(df, df_mcc , how='left', on='mcc_code').copy()\n",
    "print('df counts:', '\\n', df.apply(lambda x: pd.unique(x.values.ravel('K')).shape[0], axis=0))\n",
    "\n",
    "---------------------------------------------------\n",
    "df=df.drop('dt', axis=1)\n",
    "df.head(2)\n",
    "\n",
    "---------------------------------------------------\n",
    "df_features.head(1)\n",
    "\n",
    "---------------------------------------------------\n",
    "df_features.shape\n",
    "\n",
    "---------------------------------------------------\n",
    "(df.groupby(['customer_id'])['datetime'].max()-df.groupby(['customer_id'])['datetime'].min()).mean()\n",
    "\n",
    "---------------------------------------------------\n",
    "del df_transactions\n",
    "del df_gender\n",
    "del df_tr\n",
    "del df_mcc\n",
    "del df_features\n",
    "\n",
    "---------------------------------------------------\n",
    "Данные за последний месяц\n",
    "\n",
    "%%time\n",
    "\n",
    "df_hist30=pd.DataFrame(columns=['customer_id', 'mcc_code', 'tr_type', 'amount', 'term_id', 'day',\n",
    "       'weekday', 'datetime', 'date', 'hour', 'gender', 'tr_description',\n",
    "       'mcc_description', 'mcc_code_hist', 'tr_type_hist', 'amount_hist',\n",
    "       'term_id_hist', 'day_hist', 'weekday_hist', 'datetime_hist',\n",
    "       'date_hist', 'hour_hist', 'gender_hist', 'tr_description_hist',\n",
    "       'mcc_description_hist'])\n",
    "\n",
    "for cid in pd.unique(df['customer_id'])[:2]:\n",
    "    df_hist30_cid=pd.merge(df[df['customer_id']==cid], df[df['customer_id']==cid], \n",
    "                       how='inner', on='customer_id', suffixes=('', '_hist')).copy()\n",
    "    df_hist30_cid=df_hist30_cid[((df_hist30_cid['datetime']-df_hist30_cid['datetime_hist']).apply(lambda x:x.days+((x.seconds)/(60*60*24)))\\\n",
    "                                 >= 0)&\\\n",
    "                                ((df_hist30_cid['datetime']-df_hist30_cid['datetime_hist']).apply(lambda x:x.days+((x.seconds)/(60*60*24)))\\\n",
    "                                 <= 30)]\n",
    "    df_hist30=df_hist30.append(df_hist30_cid, ignore_index=True).copy()\n",
    "    \n",
    "--------------------------------------------\n",
    "    \n",
    "df_hist30_mcc=pd.merge(pd.DataFrame(df_hist30.groupby(['customer_id', 'datetime', 'mcc_code_hist']).size(), \n",
    "         columns=['cnt_mcc']).reset_index(level=0).reset_index(level=0).reset_index(level=0), \n",
    "     pd.DataFrame(df_hist30.groupby(['customer_id', 'datetime']).size(), \n",
    "          columns=['cnt_all']).reset_index(level=0).reset_index(level=0), \n",
    "                   how='inner', on=['customer_id', 'datetime']).copy()\n",
    "\n",
    "df_hist30_mcc['perc_mcc']=df_hist30_mcc['cnt_mcc']*100/df_hist30_mcc['cnt_all']\n",
    "\n",
    "df_hist30_mcc = \\\n",
    "    df_hist30_mcc.pivot_table(index=['customer_id', 'datetime'], columns='mcc_code_hist', values='perc_mcc', \n",
    "                         aggfunc=np.max, fill_value=0)\n",
    "\n",
    "df_hist30_mcc = df_hist30_mcc.rename_axis(lambda x: 'mcc_{}_perc_hist30'.format(x), axis=1).reset_index(level=0).reset_index(level=0)\n",
    "\n",
    "--------------------------------------------\n",
    "\n",
    "df_hist30_tr=pd.merge(pd.DataFrame(df_hist30.groupby(['customer_id', 'datetime', 'tr_type_hist']).size(), \n",
    "         columns=['cnt_tr']).reset_index(level=0).reset_index(level=0).reset_index(level=0), \n",
    "     pd.DataFrame(df_hist30.groupby(['customer_id', 'datetime']).size(), \n",
    "          columns=['cnt_all']).reset_index(level=0).reset_index(level=0), \n",
    "                   how='inner', on=['customer_id', 'datetime']).copy()\n",
    "\n",
    "df_hist30_tr['perc_tr']=df_hist30_tr['cnt_tr']*100/df_hist30_tr['cnt_all']\n",
    "\n",
    "df_hist30_tr = \\\n",
    "    df_hist30_tr.pivot_table(index=['customer_id', 'datetime'], columns='tr_type_hist', values='perc_tr', \n",
    "                         aggfunc=np.max, fill_value=0)\n",
    "\n",
    "df_hist30_tr = df_hist30_tr.rename_axis(lambda x: 'tr_{}_perc_hist30'.format(x), axis=1).reset_index(level=0).reset_index(level=0)\n",
    "\n",
    "--------------------------------------------\n",
    "  "
   ]
  },
  {
   "cell_type": "markdown",
   "metadata": {},
   "source": [
    "Доля по суммам, затраченным на каждый код mcc (общее значение: положительные + отрицательные)"
   ]
  },
  {
   "cell_type": "code",
   "execution_count": 50,
   "metadata": {
    "collapsed": false
   },
   "outputs": [
    {
     "data": {
      "text/plain": [
       "\"df_mcc_amount_plus = pd.merge(df_transactions[df_transactions['amount'] > 0].pivot_table(index=['customer_id'], \\n                                                           columns='mcc_code', values='amount', aggfunc=np.sum, \\n                            fill_value=0).rename_axis(lambda x: 'mcc_{}_amount+'.format(x), axis=1).reset_index(level=0),\\n         pd.DataFrame(df_transactions[df_transactions['amount'] > 0].groupby('customer_id')['amount'].sum()).reset_index(level=0),\\n         how='inner', on = 'customer_id').copy()\\nfor column_name in df_mcc_amount_plus.columns:\\n    if column_name!='customer_id' and column_name!='amount':\\n        df_mcc_amount_plus[column_name] = df_mcc_amount_plus[column_name]*100/df_mcc_amount_plus['amount']\""
      ]
     },
     "execution_count": 50,
     "metadata": {},
     "output_type": "execute_result"
    }
   ],
   "source": [
    "'''df_mcc_amount_plus = \\\n",
    "pd.merge(df_transactions[df_transactions['amount'] > 0].pivot_table(index=['customer_id'], \n",
    "                                                           columns='mcc_code', values='amount', aggfunc=np.sum, \n",
    "                            fill_value=0).rename_axis(lambda x: 'mcc_{}_amount+'.format(x), axis=1).reset_index(level=0),\n",
    "         pd.DataFrame(df_transactions[df_transactions['amount'] > 0].groupby('customer_id')['amount'].sum()).reset_index(level=0),\n",
    "         how='inner', on = 'customer_id').copy()\n",
    "for column_name in df_mcc_amount_plus.columns:\n",
    "    if column_name!='customer_id' and column_name!='amount':\n",
    "        df_mcc_amount_plus[column_name] = df_mcc_amount_plus[column_name]*100/df_mcc_amount_plus['amount']'''"
   ]
  },
  {
   "cell_type": "code",
   "execution_count": 51,
   "metadata": {
    "collapsed": false
   },
   "outputs": [
    {
     "data": {
      "text/plain": [
       "\"df_mcc_amount_minus = pd.merge(df_transactions[df_transactions['amount'] <= 0].pivot_table(index=['customer_id'], \\n                                                           columns='mcc_code', values='amount', aggfunc=np.sum, \\n                            fill_value=0).rename_axis(lambda x: 'mcc_{}_amount-'.format(x), axis=1).reset_index(level=0),\\n         pd.DataFrame(df_transactions[df_transactions['amount'] <= 0].groupby('customer_id')['amount'].sum()).reset_index(level=0),\\n         how='inner', on = 'customer_id').copy()\\n\\nfor column_name in df_mcc_amount_minus.columns:\\n    if column_name!='customer_id' and column_name!='amount':\\n        df_mcc_amount_minus[column_name] = (df_mcc_amount_minus[column_name]*100/df_mcc_amount_minus['amount']).apply(lambda x: np.abs(x))\""
      ]
     },
     "execution_count": 51,
     "metadata": {},
     "output_type": "execute_result"
    }
   ],
   "source": [
    "'''df_mcc_amount_minus = \\\n",
    "pd.merge(df_transactions[df_transactions['amount'] <= 0].pivot_table(index=['customer_id'], \n",
    "                                                           columns='mcc_code', values='amount', aggfunc=np.sum, \n",
    "                            fill_value=0).rename_axis(lambda x: 'mcc_{}_amount-'.format(x), axis=1).reset_index(level=0),\n",
    "         pd.DataFrame(df_transactions[df_transactions['amount'] <= 0].groupby('customer_id')['amount'].sum()).reset_index(level=0),\n",
    "         how='inner', on = 'customer_id').copy()\n",
    "\n",
    "for column_name in df_mcc_amount_minus.columns:\n",
    "    if column_name!='customer_id' and column_name!='amount':\n",
    "        df_mcc_amount_minus[column_name] = (df_mcc_amount_minus[column_name]*100/df_mcc_amount_minus['amount']).apply(lambda x: np.abs(x))'''"
   ]
  },
  {
   "cell_type": "markdown",
   "metadata": {},
   "source": [
    "Доля по суммам, затраченным на каждый tr_type"
   ]
  },
  {
   "cell_type": "code",
   "execution_count": 52,
   "metadata": {
    "collapsed": false
   },
   "outputs": [
    {
     "data": {
      "text/plain": [
       "\"df_tr_amount_plus = pd.merge(df_transactions[df_transactions['amount'] > 0].pivot_table(index=['customer_id'], \\n                                                           columns='tr_type', values='amount', aggfunc=np.sum, \\n                            fill_value=0).rename_axis(lambda x: 'tr_{}_amount+'.format(x), axis=1).reset_index(level=0),\\n         pd.DataFrame(df_transactions[df_transactions['amount'] > 0].groupby('customer_id')['amount'].sum()).reset_index(level=0),\\n         how='inner', on = 'customer_id').copy()\\nfor column_name in df_tr_amount_plus.columns:\\n    if column_name!='customer_id' and column_name!='amount':\\n        df_tr_amount_plus[column_name] = df_tr_amount_plus[column_name]*100/df_tr_amount_plus['amount']\""
      ]
     },
     "execution_count": 52,
     "metadata": {},
     "output_type": "execute_result"
    }
   ],
   "source": [
    "'''df_tr_amount_plus = \\\n",
    "pd.merge(df_transactions[df_transactions['amount'] > 0].pivot_table(index=['customer_id'], \n",
    "                                                           columns='tr_type', values='amount', aggfunc=np.sum, \n",
    "                            fill_value=0).rename_axis(lambda x: 'tr_{}_amount+'.format(x), axis=1).reset_index(level=0),\n",
    "         pd.DataFrame(df_transactions[df_transactions['amount'] > 0].groupby('customer_id')['amount'].sum()).reset_index(level=0),\n",
    "         how='inner', on = 'customer_id').copy()\n",
    "for column_name in df_tr_amount_plus.columns:\n",
    "    if column_name!='customer_id' and column_name!='amount':\n",
    "        df_tr_amount_plus[column_name] = df_tr_amount_plus[column_name]*100/df_tr_amount_plus['amount']'''"
   ]
  },
  {
   "cell_type": "code",
   "execution_count": 53,
   "metadata": {
    "collapsed": false
   },
   "outputs": [
    {
     "data": {
      "text/plain": [
       "\"df_tr_amount_minus = pd.merge(df_transactions[df_transactions['amount'] <= 0].pivot_table(index=['customer_id'], \\n                                                           columns='tr_type', values='amount', aggfunc=np.sum, \\n                            fill_value=0).rename_axis(lambda x: 'tr_{}_amount-'.format(x), axis=1).reset_index(level=0),\\n         pd.DataFrame(df_transactions[df_transactions['amount'] <= 0].groupby('customer_id')['amount'].sum()).reset_index(level=0),\\n         how='inner', on = 'customer_id').copy()\\n\\nfor column_name in df_tr_amount_minus.columns:\\n    if column_name!='customer_id' and column_name!='amount':\\n        df_tr_amount_minus[column_name] = (df_tr_amount_minus[column_name]*100/                                           df_tr_amount_minus['amount']).apply(lambda x: np.abs(x))\""
      ]
     },
     "execution_count": 53,
     "metadata": {},
     "output_type": "execute_result"
    }
   ],
   "source": [
    "'''df_tr_amount_minus = \\\n",
    "pd.merge(df_transactions[df_transactions['amount'] <= 0].pivot_table(index=['customer_id'], \n",
    "                                                           columns='tr_type', values='amount', aggfunc=np.sum, \n",
    "                            fill_value=0).rename_axis(lambda x: 'tr_{}_amount-'.format(x), axis=1).reset_index(level=0),\n",
    "         pd.DataFrame(df_transactions[df_transactions['amount'] <= 0].groupby('customer_id')['amount'].sum()).reset_index(level=0),\n",
    "         how='inner', on = 'customer_id').copy()\n",
    "\n",
    "for column_name in df_tr_amount_minus.columns:\n",
    "    if column_name!='customer_id' and column_name!='amount':\n",
    "        df_tr_amount_minus[column_name] = (df_tr_amount_minus[column_name]*100/\\\n",
    "                                           df_tr_amount_minus['amount']).apply(lambda x: np.abs(x))'''"
   ]
  },
  {
   "cell_type": "markdown",
   "metadata": {},
   "source": [
    "Средняя доля положительных транзакций в день по клиенту"
   ]
  },
  {
   "cell_type": "code",
   "execution_count": 54,
   "metadata": {
    "collapsed": false
   },
   "outputs": [
    {
     "data": {
      "text/plain": [
       "\"df_amount_plus =pd.merge(pd.DataFrame(df_transactions.groupby(['customer_id', 'date']).size(), \\n                      columns = ['cnt_amount']).reset_index(level=0).reset_index(level=0),\\n         pd.DataFrame(df_transactions[df_transactions['amount'] > 0].groupby(['customer_id', 'date']).size(), \\n                      columns = ['cnt_amount+']).reset_index(level=0).reset_index(level=0), \\n         how = 'left', on = ['customer_id', 'date']\\n        ).fillna(0).copy()\\ndf_amount_plus['perc_amount+']=df_amount_plus['cnt_amount+']*100/df_amount_plus['cnt_amount']\\n\\ndf_amount_plus =pd.DataFrame(df_amount_plus.groupby(['customer_id'])['perc_amount+'].mean()).reset_index(level=0)\""
      ]
     },
     "execution_count": 54,
     "metadata": {},
     "output_type": "execute_result"
    }
   ],
   "source": [
    "'''df_amount_plus =\\\n",
    "pd.merge(pd.DataFrame(df_transactions.groupby(['customer_id', 'date']).size(), \n",
    "                      columns = ['cnt_amount']).reset_index(level=0).reset_index(level=0),\n",
    "         pd.DataFrame(df_transactions[df_transactions['amount'] > 0].groupby(['customer_id', 'date']).size(), \n",
    "                      columns = ['cnt_amount+']).reset_index(level=0).reset_index(level=0), \n",
    "         how = 'left', on = ['customer_id', 'date']\n",
    "        ).fillna(0).copy()\n",
    "df_amount_plus['perc_amount+']=df_amount_plus['cnt_amount+']*100/df_amount_plus['cnt_amount']\n",
    "\n",
    "df_amount_plus =\\\n",
    "pd.DataFrame(df_amount_plus.groupby(['customer_id'])['perc_amount+'].mean()).reset_index(level=0)'''"
   ]
  },
  {
   "cell_type": "markdown",
   "metadata": {},
   "source": [
    "Средняя сумма в день по клиенту"
   ]
  },
  {
   "cell_type": "code",
   "execution_count": 55,
   "metadata": {
    "collapsed": false
   },
   "outputs": [
    {
     "data": {
      "text/plain": [
       "\"df_amount_mean =pd.DataFrame(pd.DataFrame(df_transactions.groupby(['customer_id',                                       'date'])['amount'].sum()).reset_index(level=0).reset_index(level=0)             .groupby(['customer_id'])['amount'].mean()).reset_index(level=0)\""
      ]
     },
     "execution_count": 55,
     "metadata": {},
     "output_type": "execute_result"
    }
   ],
   "source": [
    "'''df_amount_mean =\\\n",
    "pd.DataFrame(pd.DataFrame(df_transactions.groupby(['customer_id', \\\n",
    "                                      'date'])['amount'].sum()).reset_index(level=0).reset_index(level=0)\\\n",
    "             .groupby(['customer_id'])['amount'].mean()).reset_index(level=0)'''"
   ]
  },
  {
   "cell_type": "markdown",
   "metadata": {},
   "source": [
    "Средняя положительная сумма в день по клиенту"
   ]
  },
  {
   "cell_type": "code",
   "execution_count": 56,
   "metadata": {
    "collapsed": false
   },
   "outputs": [
    {
     "data": {
      "text/plain": [
       "\"df_amount_mean_plus =pd.DataFrame(pd.DataFrame(df_transactions[df_transactions['amount'] > 0].groupby(['customer_id',                                       'date'])['amount'].sum()).reset_index(level=0).reset_index(level=0)             .groupby(['customer_id'])['amount'].mean()).reset_index(level=0)\""
      ]
     },
     "execution_count": 56,
     "metadata": {},
     "output_type": "execute_result"
    }
   ],
   "source": [
    "'''df_amount_mean_plus =\\\n",
    "pd.DataFrame(pd.DataFrame(df_transactions[df_transactions['amount'] > 0].groupby(['customer_id', \\\n",
    "                                      'date'])['amount'].sum()).reset_index(level=0).reset_index(level=0)\\\n",
    "             .groupby(['customer_id'])['amount'].mean()).reset_index(level=0)'''"
   ]
  },
  {
   "cell_type": "markdown",
   "metadata": {},
   "source": [
    "Средняя отрицательная сумма в день по клиенту"
   ]
  },
  {
   "cell_type": "code",
   "execution_count": 57,
   "metadata": {
    "collapsed": false
   },
   "outputs": [
    {
     "data": {
      "text/plain": [
       "\"df_amount_mean_minus =pd.DataFrame(pd.DataFrame(df_transactions[df_transactions['amount'] <= 0].groupby(['customer_id',                                       'date'])['amount'].sum()).reset_index(level=0).reset_index(level=0)             .groupby(['customer_id'])['amount'].mean()).reset_index(level=0)\""
      ]
     },
     "execution_count": 57,
     "metadata": {},
     "output_type": "execute_result"
    }
   ],
   "source": [
    "'''df_amount_mean_minus =\\\n",
    "pd.DataFrame(pd.DataFrame(df_transactions[df_transactions['amount'] <= 0].groupby(['customer_id', \\\n",
    "                                      'date'])['amount'].sum()).reset_index(level=0).reset_index(level=0)\\\n",
    "             .groupby(['customer_id'])['amount'].mean()).reset_index(level=0)'''"
   ]
  },
  {
   "cell_type": "markdown",
   "metadata": {},
   "source": [
    "w2v for mcc"
   ]
  },
  {
   "cell_type": "code",
   "execution_count": 58,
   "metadata": {
    "collapsed": false
   },
   "outputs": [
    {
     "data": {
      "text/plain": [
       "'df_mcc.head(2)'"
      ]
     },
     "execution_count": 58,
     "metadata": {},
     "output_type": "execute_result"
    }
   ],
   "source": [
    "'''df_mcc.head(2)'''"
   ]
  },
  {
   "cell_type": "code",
   "execution_count": 59,
   "metadata": {
    "collapsed": false
   },
   "outputs": [
    {
     "data": {
      "text/plain": [
       "'import re\\nimport pymorphy2\\n\\nmorph=pymorphy2.MorphAnalyzer()\\nmcc_list=list(df_mcc[\\'mcc_description\\'].              apply(lambda x: [a[0].lower() for a in re.findall(\"(([А-ЯЁа-яё]+(-[А-ЯЁа-яё]+)*)|([A-za-z]+(-[A-za-z]+)*))\", x)]))\\n\\nmcc_list_NF=list()\\nfor text in mcc_list:\\n    text_list=list()\\n    for word in text:\\n        text_list.append(morph.parse(word)[0].normal_form)\\n    mcc_list_NF.append(text_list)'"
      ]
     },
     "execution_count": 59,
     "metadata": {},
     "output_type": "execute_result"
    }
   ],
   "source": [
    "'''import re\n",
    "import pymorphy2\n",
    "\n",
    "morph=pymorphy2.MorphAnalyzer()\n",
    "mcc_list=list(df_mcc['mcc_description'].\\\n",
    "              apply(lambda x: [a[0].lower() for a in re.findall(\"(([А-ЯЁа-яё]+(-[А-ЯЁа-яё]+)*)|([A-za-z]+(-[A-za-z]+)*))\", x)]))\n",
    "\n",
    "mcc_list_NF=list()\n",
    "for text in mcc_list:\n",
    "    text_list=list()\n",
    "    for word in text:\n",
    "        text_list.append(morph.parse(word)[0].normal_form)\n",
    "    mcc_list_NF.append(text_list)'''"
   ]
  },
  {
   "cell_type": "code",
   "execution_count": 60,
   "metadata": {
    "collapsed": false
   },
   "outputs": [
    {
     "data": {
      "text/plain": [
       "'%%time\\nfrom gensim.models.word2vec import Word2Vec \\n\\nnum_features   = 30   # итоговая размерность вектора каждого слова\\nmin_word_count = 1    # минимальная частотность слова, чтобы оно попало в модель\\nnum_workers    = 8    # количество ядер вашего процессора, чтоб запустить обучение в несколько потоков\\ncontext        = 10   # размер окна \\ndownsampling   = 1e-3 # внутренняя метрика модели\\n\\nmodel_mcc = Word2Vec(mcc_list_NF, workers=num_workers, size=num_features,\\n                 min_count=min_word_count, window=context, sample=downsampling)'"
      ]
     },
     "execution_count": 60,
     "metadata": {},
     "output_type": "execute_result"
    }
   ],
   "source": [
    "'''%%time\n",
    "from gensim.models.word2vec import Word2Vec \n",
    "\n",
    "num_features   = 30   # итоговая размерность вектора каждого слова\n",
    "min_word_count = 1    # минимальная частотность слова, чтобы оно попало в модель\n",
    "num_workers    = 8    # количество ядер вашего процессора, чтоб запустить обучение в несколько потоков\n",
    "context        = 10   # размер окна \n",
    "downsampling   = 1e-3 # внутренняя метрика модели\n",
    "\n",
    "model_mcc = Word2Vec(mcc_list_NF, workers=num_workers, size=num_features,\n",
    "                 min_count=min_word_count, window=context, sample=downsampling)'''"
   ]
  },
  {
   "cell_type": "code",
   "execution_count": 61,
   "metadata": {
    "collapsed": false
   },
   "outputs": [
    {
     "data": {
      "text/plain": [
       "'model_mcc.init_sims(replace=True)'"
      ]
     },
     "execution_count": 61,
     "metadata": {},
     "output_type": "execute_result"
    }
   ],
   "source": [
    "'''model_mcc.init_sims(replace=True)'''"
   ]
  },
  {
   "cell_type": "code",
   "execution_count": 62,
   "metadata": {
    "collapsed": false
   },
   "outputs": [
    {
     "data": {
      "text/plain": [
       "'model_mcc.wv.index2word[:10]'"
      ]
     },
     "execution_count": 62,
     "metadata": {},
     "output_type": "execute_result"
    }
   ],
   "source": [
    "'''model_mcc.wv.index2word[:10]'''"
   ]
  },
  {
   "cell_type": "code",
   "execution_count": 63,
   "metadata": {
    "collapsed": false
   },
   "outputs": [
    {
     "data": {
      "text/plain": [
       "\"model_mcc.most_similar('услуга')\""
      ]
     },
     "execution_count": 63,
     "metadata": {},
     "output_type": "execute_result"
    }
   ],
   "source": [
    "'''model_mcc.most_similar('услуга')'''"
   ]
  },
  {
   "cell_type": "code",
   "execution_count": 64,
   "metadata": {
    "collapsed": false
   },
   "outputs": [
    {
     "data": {
      "text/plain": [
       "'import numpy as np\\n\\ndef text_to_vec(words, model, size):\\n    text_vec = np.zeros((size,), dtype=\"float32\")\\n    n_words = 0\\n\\n    index2word_set = set(model.wv.index2word)\\n    for word in words:\\n        if word in index2word_set:\\n            n_words = n_words + 1\\n            text_vec = np.add(text_vec, model[word])\\n    \\n    if n_words != 0:\\n        text_vec /= n_words\\n    return text_vec\\n\\ndef texts_to_vecs(texts, model, size):\\n    texts_vecs = np.zeros((len(texts), size), dtype=\"float32\")\\n    \\n    for i, text in enumerate(texts):\\n        texts_vecs[i] = text_to_vec(text, model, size)\\n\\n    return texts_vecs'"
      ]
     },
     "execution_count": 64,
     "metadata": {},
     "output_type": "execute_result"
    }
   ],
   "source": [
    "'''import numpy as np\n",
    "\n",
    "def text_to_vec(words, model, size):\n",
    "    text_vec = np.zeros((size,), dtype=\"float32\")\n",
    "    n_words = 0\n",
    "\n",
    "    index2word_set = set(model.wv.index2word)\n",
    "    for word in words:\n",
    "        if word in index2word_set:\n",
    "            n_words = n_words + 1\n",
    "            text_vec = np.add(text_vec, model[word])\n",
    "    \n",
    "    if n_words != 0:\n",
    "        text_vec /= n_words\n",
    "    return text_vec\n",
    "\n",
    "def texts_to_vecs(texts, model, size):\n",
    "    texts_vecs = np.zeros((len(texts), size), dtype=\"float32\")\n",
    "    \n",
    "    for i, text in enumerate(texts):\n",
    "        texts_vecs[i] = text_to_vec(text, model, size)\n",
    "\n",
    "    return texts_vecs'''"
   ]
  },
  {
   "cell_type": "code",
   "execution_count": 65,
   "metadata": {
    "collapsed": false
   },
   "outputs": [
    {
     "data": {
      "text/plain": [
       "'mcc_vecs = texts_to_vecs(mcc_list_NF, model_mcc, num_features)'"
      ]
     },
     "execution_count": 65,
     "metadata": {},
     "output_type": "execute_result"
    }
   ],
   "source": [
    "'''mcc_vecs = texts_to_vecs(mcc_list_NF, model_mcc, num_features)'''"
   ]
  },
  {
   "cell_type": "code",
   "execution_count": 66,
   "metadata": {
    "collapsed": false
   },
   "outputs": [
    {
     "data": {
      "text/plain": [
       "\"df_mcc_vecs=pd.DataFrame(mcc_vecs, columns=['mcc_1', 'mcc_2', 'mcc_3', 'mcc_4', 'mcc_5', 'mcc_6', 'mcc_7', \\n                                            'mcc_8', 'mcc_9', 'mcc_10', 'mcc_11', 'mcc_12', 'mcc_13', 'mcc_14', \\n                                            'mcc_15', 'mcc_16', 'mcc_17', 'mcc_18', 'mcc_19', 'mcc_20', \\n                                            'mcc_21', 'mcc_22', 'mcc_23', 'mcc_24', 'mcc_25', 'mcc_26', 'mcc_27', \\n                                            'mcc_28', 'mcc_29', 'mcc_30'])\\ndf_mcc_vecs=pd.concat([df_mcc, df_mcc_vecs], axis=1).copy()\\ndf_mcc_vecs=pd.merge(df_transactions, df_mcc_vecs, how='inner', on='mcc_code').copy()\\ndf_mcc_vecs=pd.DataFrame(df_mcc_vecs[['customer_id', 'mcc_1', 'mcc_2', 'mcc_3', 'mcc_4', 'mcc_5', 'mcc_6', 'mcc_7', \\n                                            'mcc_8', 'mcc_9', 'mcc_10', 'mcc_11', 'mcc_12', 'mcc_13', 'mcc_14', \\n                                            'mcc_15', 'mcc_16', 'mcc_17', 'mcc_18', 'mcc_19', 'mcc_20', \\n                                            'mcc_21', 'mcc_22', 'mcc_23', 'mcc_24', 'mcc_25', 'mcc_26', 'mcc_27', \\n                                            'mcc_28', 'mcc_29', 'mcc_30']].groupby('customer_id').sum()).reset_index(level=0)\\ndf_mcc_vecs=pd.merge(df_mcc_vecs, \\n                     pd.DataFrame(df_transactions.groupby('customer_id').size(), columns=['cnt']).reset_index(level=0),\\n                     how='inner', on='customer_id').copy()\\nfor column_name in ['mcc_1', 'mcc_2', 'mcc_3', 'mcc_4', 'mcc_5', 'mcc_6', 'mcc_7', \\n                                            'mcc_8', 'mcc_9', 'mcc_10', 'mcc_11', 'mcc_12', 'mcc_13', 'mcc_14', \\n                                            'mcc_15', 'mcc_16', 'mcc_17', 'mcc_18', 'mcc_19', 'mcc_20', \\n                                            'mcc_21', 'mcc_22', 'mcc_23', 'mcc_24', 'mcc_25', 'mcc_26', 'mcc_27', \\n                                            'mcc_28', 'mcc_29', 'mcc_30']:\\n    df_mcc_vecs[column_name] = df_mcc_vecs[column_name]/df_mcc_vecs['cnt']\""
      ]
     },
     "execution_count": 66,
     "metadata": {},
     "output_type": "execute_result"
    }
   ],
   "source": [
    "'''df_mcc_vecs=pd.DataFrame(mcc_vecs, columns=['mcc_1', 'mcc_2', 'mcc_3', 'mcc_4', 'mcc_5', 'mcc_6', 'mcc_7', \n",
    "                                            'mcc_8', 'mcc_9', 'mcc_10', 'mcc_11', 'mcc_12', 'mcc_13', 'mcc_14', \n",
    "                                            'mcc_15', 'mcc_16', 'mcc_17', 'mcc_18', 'mcc_19', 'mcc_20', \n",
    "                                            'mcc_21', 'mcc_22', 'mcc_23', 'mcc_24', 'mcc_25', 'mcc_26', 'mcc_27', \n",
    "                                            'mcc_28', 'mcc_29', 'mcc_30'])\n",
    "df_mcc_vecs=pd.concat([df_mcc, df_mcc_vecs], axis=1).copy()\n",
    "df_mcc_vecs=pd.merge(df_transactions, df_mcc_vecs, how='inner', on='mcc_code').copy()\n",
    "df_mcc_vecs=pd.DataFrame(df_mcc_vecs[['customer_id', 'mcc_1', 'mcc_2', 'mcc_3', 'mcc_4', 'mcc_5', 'mcc_6', 'mcc_7', \n",
    "                                            'mcc_8', 'mcc_9', 'mcc_10', 'mcc_11', 'mcc_12', 'mcc_13', 'mcc_14', \n",
    "                                            'mcc_15', 'mcc_16', 'mcc_17', 'mcc_18', 'mcc_19', 'mcc_20', \n",
    "                                            'mcc_21', 'mcc_22', 'mcc_23', 'mcc_24', 'mcc_25', 'mcc_26', 'mcc_27', \n",
    "                                            'mcc_28', 'mcc_29', 'mcc_30']].groupby('customer_id').sum()).reset_index(level=0)\n",
    "df_mcc_vecs=pd.merge(df_mcc_vecs, \n",
    "                     pd.DataFrame(df_transactions.groupby('customer_id').size(), columns=['cnt']).reset_index(level=0),\n",
    "                     how='inner', on='customer_id').copy()\n",
    "for column_name in ['mcc_1', 'mcc_2', 'mcc_3', 'mcc_4', 'mcc_5', 'mcc_6', 'mcc_7', \n",
    "                                            'mcc_8', 'mcc_9', 'mcc_10', 'mcc_11', 'mcc_12', 'mcc_13', 'mcc_14', \n",
    "                                            'mcc_15', 'mcc_16', 'mcc_17', 'mcc_18', 'mcc_19', 'mcc_20', \n",
    "                                            'mcc_21', 'mcc_22', 'mcc_23', 'mcc_24', 'mcc_25', 'mcc_26', 'mcc_27', \n",
    "                                            'mcc_28', 'mcc_29', 'mcc_30']:\n",
    "    df_mcc_vecs[column_name] = df_mcc_vecs[column_name]/df_mcc_vecs['cnt']'''"
   ]
  },
  {
   "cell_type": "code",
   "execution_count": 67,
   "metadata": {
    "collapsed": false
   },
   "outputs": [
    {
     "name": "stderr",
     "output_type": "stream",
     "text": [
      "C:\\ProgramData\\Anaconda3\\lib\\site-packages\\gensim\\utils.py:1209: UserWarning: detected Windows; aliasing chunkize to chunkize_serial\n",
      "  warnings.warn(\"detected Windows; aliasing chunkize to chunkize_serial\")\n"
     ]
    }
   ],
   "source": [
    "import numpy as np\n",
    "import re\n",
    "import pymorphy2\n",
    "from gensim.models.word2vec import Word2Vec \n",
    "\n",
    "def text_to_vec(words, model, size):\n",
    "    text_vec = np.zeros((size,), dtype=\"float32\")\n",
    "    n_words = 0\n",
    "\n",
    "    index2word_set = set(model.wv.index2word)\n",
    "    for word in words:\n",
    "        if word in index2word_set:\n",
    "            n_words = n_words + 1\n",
    "            text_vec = np.add(text_vec, model[word])\n",
    "    \n",
    "    if n_words != 0:\n",
    "        text_vec /= n_words\n",
    "    return text_vec\n",
    "\n",
    "def texts_to_vecs(texts, model, size):\n",
    "    texts_vecs = np.zeros((len(texts), size), dtype=\"float32\")\n",
    "    \n",
    "    for i, text in enumerate(texts):\n",
    "        texts_vecs[i] = text_to_vec(text, model, size)\n",
    "\n",
    "    return texts_vecs\n",
    "\n",
    "def gen_features_2(df_gender, df_transactions):\n",
    "    \n",
    "    \n",
    "    df_mcc_amount_plus = \\\n",
    "    pd.merge(df_transactions[df_transactions['amount'] > 0].pivot_table(index=['customer_id'], \n",
    "                                                               columns='mcc_code', values='amount', aggfunc=np.sum, \n",
    "                                fill_value=0).rename_axis(lambda x: 'mcc_{}_amount+'.format(x), axis=1).reset_index(level=0),\n",
    "             pd.DataFrame(df_transactions[df_transactions['amount'] > 0].groupby('customer_id')['amount'].sum()).reset_index(level=0),\n",
    "             how='inner', on = 'customer_id').copy()\n",
    "    for column_name in df_mcc_amount_plus.columns:\n",
    "        if column_name!='customer_id' and column_name!='amount':\n",
    "            df_mcc_amount_plus[column_name] = df_mcc_amount_plus[column_name]*100/df_mcc_amount_plus['amount']\n",
    "\n",
    "    df_mcc_amount_minus = \\\n",
    "    pd.merge(df_transactions[df_transactions['amount'] <= 0].pivot_table(index=['customer_id'], \n",
    "                                                               columns='mcc_code', values='amount', aggfunc=np.sum, \n",
    "                                fill_value=0).rename_axis(lambda x: 'mcc_{}_amount-'.format(x), axis=1).reset_index(level=0),\n",
    "             pd.DataFrame(df_transactions[df_transactions['amount'] <= 0].groupby('customer_id')['amount'].sum()).reset_index(level=0),\n",
    "             how='inner', on = 'customer_id').copy()\n",
    "\n",
    "    for column_name in df_mcc_amount_minus.columns:\n",
    "        if column_name!='customer_id' and column_name!='amount':\n",
    "            df_mcc_amount_minus[column_name] = (df_mcc_amount_minus[column_name]*100/df_mcc_amount_minus['amount']).apply(lambda x: np.abs(x))\n",
    "\n",
    "    df_tr_amount_plus = \\\n",
    "    pd.merge(df_transactions[df_transactions['amount'] > 0].pivot_table(index=['customer_id'], \n",
    "                                                               columns='tr_type', values='amount', aggfunc=np.sum, \n",
    "                                fill_value=0).rename_axis(lambda x: 'tr_{}_amount+'.format(x), axis=1).reset_index(level=0),\n",
    "             pd.DataFrame(df_transactions[df_transactions['amount'] > 0].groupby('customer_id')['amount'].sum()).reset_index(level=0),\n",
    "             how='inner', on = 'customer_id').copy()\n",
    "    for column_name in df_tr_amount_plus.columns:\n",
    "        if column_name!='customer_id' and column_name!='amount':\n",
    "            df_tr_amount_plus[column_name] = df_tr_amount_plus[column_name]*100/df_tr_amount_plus['amount']\n",
    "\n",
    "    df_tr_amount_minus = \\\n",
    "    pd.merge(df_transactions[df_transactions['amount'] <= 0].pivot_table(index=['customer_id'], \n",
    "                                                               columns='tr_type', values='amount', aggfunc=np.sum, \n",
    "                                fill_value=0).rename_axis(lambda x: 'tr_{}_amount-'.format(x), axis=1).reset_index(level=0),\n",
    "             pd.DataFrame(df_transactions[df_transactions['amount'] <= 0].groupby('customer_id')['amount'].sum()).reset_index(level=0),\n",
    "             how='inner', on = 'customer_id').copy()\n",
    "\n",
    "    for column_name in df_tr_amount_minus.columns:\n",
    "        if column_name!='customer_id' and column_name!='amount':\n",
    "            df_tr_amount_minus[column_name] = (df_tr_amount_minus[column_name]*100/\\\n",
    "                                               df_tr_amount_minus['amount']).apply(lambda x: np.abs(x))\n",
    "\n",
    "    df_amount_plus =\\\n",
    "    pd.merge(pd.DataFrame(df_transactions.groupby(['customer_id', 'date']).size(), \n",
    "                          columns = ['cnt_amount']).reset_index(level=0).reset_index(level=0),\n",
    "             pd.DataFrame(df_transactions[df_transactions['amount'] > 0].groupby(['customer_id', 'date']).size(), \n",
    "                          columns = ['cnt_amount+']).reset_index(level=0).reset_index(level=0), \n",
    "             how = 'left', on = ['customer_id', 'date']\n",
    "            ).fillna(0).copy()\n",
    "    df_amount_plus['perc_amount+']=df_amount_plus['cnt_amount+']*100/df_amount_plus['cnt_amount']\n",
    "\n",
    "    df_amount_plus =\\\n",
    "    pd.DataFrame(df_amount_plus.groupby(['customer_id'])['perc_amount+'].mean()).reset_index(level=0)\n",
    "\n",
    "\n",
    "    df_amount_mean =\\\n",
    "    pd.DataFrame(pd.DataFrame(df_transactions.groupby(['customer_id', \\\n",
    "                                          'date'])['amount'].sum()).reset_index(level=0).reset_index(level=0)\\\n",
    "                 .groupby(['customer_id'])['amount'].mean()).reset_index(level=0)\n",
    "    df_amount_mean.columns = ['customer_id', 'amount_mean']\n",
    "\n",
    "\n",
    "    df_amount_mean_plus =\\\n",
    "    pd.DataFrame(pd.DataFrame(df_transactions[df_transactions['amount'] > 0].groupby(['customer_id', \\\n",
    "                                          'date'])['amount'].sum()).reset_index(level=0).reset_index(level=0)\\\n",
    "                 .groupby(['customer_id'])['amount'].mean()).reset_index(level=0)\n",
    "    df_amount_mean_plus.columns = ['customer_id', 'amount_mean_plus']\n",
    "\n",
    "\n",
    "    df_amount_mean_minus =\\\n",
    "    pd.DataFrame(pd.DataFrame(df_transactions[df_transactions['amount'] <= 0].groupby(['customer_id', \\\n",
    "                                          'date'])['amount'].sum()).reset_index(level=0).reset_index(level=0)\\\n",
    "                 .groupby(['customer_id'])['amount'].mean()).reset_index(level=0)\n",
    "    df_amount_mean_minus.columns = ['customer_id', 'amount_mean_minus']\n",
    "\n",
    "\n",
    "    morph=pymorphy2.MorphAnalyzer()\n",
    "\n",
    "    num_features   = 30   # итоговая размерность вектора каждого слова\n",
    "    min_word_count = 1    # минимальная частотность слова, чтобы оно попало в модель\n",
    "    num_workers    = 8    # количество ядер вашего процессора, чтоб запустить обучение в несколько потоков\n",
    "    context        = 10   # размер окна \n",
    "    downsampling   = 1e-3 # внутренняя метрика модели\n",
    "\n",
    "    mcc_list=list(df_mcc['mcc_description'].\\\n",
    "                  apply(lambda x: [a[0].lower() for a in re.findall(\"(([А-ЯЁа-яё]+(-[А-ЯЁа-яё]+)*)|([A-za-z]+(-[A-za-z]+)*))\", x)]))\n",
    "\n",
    "    mcc_list_NF=list()\n",
    "    for text in mcc_list:\n",
    "        text_list=list()\n",
    "        for word in text:\n",
    "            text_list.append(morph.parse(word)[0].normal_form)\n",
    "        mcc_list_NF.append(text_list)\n",
    "\n",
    "    model_mcc = Word2Vec(mcc_list_NF, workers=num_workers, size=num_features,\n",
    "                     min_count=min_word_count, window=context, sample=downsampling)\n",
    "\n",
    "    model_mcc.init_sims(replace=True)\n",
    "\n",
    "    mcc_vecs = texts_to_vecs(mcc_list_NF, model_mcc, num_features)\n",
    "\n",
    "    df_mcc_vecs=pd.DataFrame(mcc_vecs, columns=['mcc_1', 'mcc_2', 'mcc_3', 'mcc_4', 'mcc_5', 'mcc_6', 'mcc_7', \n",
    "                                                'mcc_8', 'mcc_9', 'mcc_10', 'mcc_11', 'mcc_12', 'mcc_13', 'mcc_14', \n",
    "                                                'mcc_15', 'mcc_16', 'mcc_17', 'mcc_18', 'mcc_19', 'mcc_20', \n",
    "                                                'mcc_21', 'mcc_22', 'mcc_23', 'mcc_24', 'mcc_25', 'mcc_26', 'mcc_27', \n",
    "                                                'mcc_28', 'mcc_29', 'mcc_30'])\n",
    "    df_mcc_vecs=pd.concat([df_mcc, df_mcc_vecs], axis=1).copy()\n",
    "    df_mcc_vecs=pd.merge(df_transactions, df_mcc_vecs, how='inner', on='mcc_code').copy()\n",
    "    df_mcc_vecs=pd.DataFrame(df_mcc_vecs[['customer_id', 'mcc_1', 'mcc_2', 'mcc_3', 'mcc_4', 'mcc_5', 'mcc_6', 'mcc_7', \n",
    "                                                'mcc_8', 'mcc_9', 'mcc_10', 'mcc_11', 'mcc_12', 'mcc_13', 'mcc_14', \n",
    "                                                'mcc_15', 'mcc_16', 'mcc_17', 'mcc_18', 'mcc_19', 'mcc_20', \n",
    "                                                'mcc_21', 'mcc_22', 'mcc_23', 'mcc_24', 'mcc_25', 'mcc_26', 'mcc_27', \n",
    "                                                'mcc_28', 'mcc_29', 'mcc_30']].groupby('customer_id').sum()).reset_index(level=0)\n",
    "    df_mcc_vecs=pd.merge(df_mcc_vecs, \n",
    "                         pd.DataFrame(df_transactions.groupby('customer_id').size(), columns=['cnt']).reset_index(level=0),\n",
    "                         how='inner', on='customer_id').copy()\n",
    "    for column_name in ['mcc_1', 'mcc_2', 'mcc_3', 'mcc_4', 'mcc_5', 'mcc_6', 'mcc_7', \n",
    "                                                'mcc_8', 'mcc_9', 'mcc_10', 'mcc_11', 'mcc_12', 'mcc_13', 'mcc_14', \n",
    "                                                'mcc_15', 'mcc_16', 'mcc_17', 'mcc_18', 'mcc_19', 'mcc_20', \n",
    "                                                'mcc_21', 'mcc_22', 'mcc_23', 'mcc_24', 'mcc_25', 'mcc_26', 'mcc_27', \n",
    "                                                'mcc_28', 'mcc_29', 'mcc_30']:\n",
    "        df_mcc_vecs[column_name] = df_mcc_vecs[column_name]/df_mcc_vecs['cnt']\n",
    "\n",
    "    tr_list=list(df_tr['tr_description'].\\\n",
    "                  apply(lambda x: [a[0].lower() for a in re.findall(\"(([А-ЯЁа-яё]+(-[А-ЯЁа-яё]+)*)|([A-za-z]+(-[A-za-z]+)*))\", x)]))\n",
    "\n",
    "    tr_list_NF=list()\n",
    "    for text in tr_list:\n",
    "        text_list=list()\n",
    "        for word in text:\n",
    "            text_list.append(morph.parse(word)[0].normal_form)\n",
    "        tr_list_NF.append(text_list)\n",
    "\n",
    "    model_tr = Word2Vec(tr_list_NF, workers=num_workers, size=num_features,\n",
    "                     min_count=min_word_count, window=context, sample=downsampling)\n",
    "\n",
    "    model_tr.init_sims(replace=True)\n",
    "\n",
    "    tr_vecs = texts_to_vecs(tr_list_NF, model_tr, num_features)\n",
    "\n",
    "    df_tr_vecs=pd.DataFrame(tr_vecs, columns=['tr_1', 'tr_2', 'tr_3', 'tr_4', 'tr_5', 'tr_6', 'tr_7', \n",
    "                                                'tr_8', 'tr_9', 'tr_10', 'tr_11', 'tr_12', 'tr_13', 'tr_14', \n",
    "                                                'tr_15', 'tr_16', 'tr_17', 'tr_18', 'tr_19', 'tr_20', \n",
    "                                                'tr_21', 'tr_22', 'tr_23', 'tr_24', 'tr_25', 'tr_26', 'tr_27', \n",
    "                                                'tr_28', 'tr_29', 'tr_30'])\n",
    "    df_tr_vecs=pd.concat([df_tr, df_tr_vecs], axis=1).copy()\n",
    "    df_tr_vecs=pd.merge(df_transactions, df_tr_vecs, how='inner', on='tr_type').copy()\n",
    "    df_tr_vecs=pd.DataFrame(df_tr_vecs[['customer_id', 'tr_1', 'tr_2', 'tr_3', 'tr_4', 'tr_5', 'tr_6', 'tr_7', \n",
    "                                                'tr_8', 'tr_9', 'tr_10', 'tr_11', 'tr_12', 'tr_13', 'tr_14', \n",
    "                                                'tr_15', 'tr_16', 'tr_17', 'tr_18', 'tr_19', 'tr_20', \n",
    "                                                'tr_21', 'tr_22', 'tr_23', 'tr_24', 'tr_25', 'tr_26', 'tr_27', \n",
    "                                                'tr_28', 'tr_29', 'tr_30']].groupby('customer_id').sum()).reset_index(level=0)\n",
    "    df_tr_vecs=pd.merge(df_tr_vecs, \n",
    "                         pd.DataFrame(df_transactions.groupby('customer_id').size(), columns=['cnt']).reset_index(level=0),\n",
    "                         how='inner', on='customer_id').copy()\n",
    "    for column_name in ['tr_1', 'tr_2', 'tr_3', 'tr_4', 'tr_5', 'tr_6', 'tr_7', \n",
    "                                                'tr_8', 'tr_9', 'tr_10', 'tr_11', 'tr_12', 'tr_13', 'tr_14', \n",
    "                                                'tr_15', 'tr_16', 'tr_17', 'tr_18', 'tr_19', 'tr_20', \n",
    "                                                'tr_21', 'tr_22', 'tr_23', 'tr_24', 'tr_25', 'tr_26', 'tr_27', \n",
    "                                                'tr_28', 'tr_29', 'tr_30']:\n",
    "        df_tr_vecs[column_name] = df_tr_vecs[column_name]/df_tr_vecs['cnt']\n",
    "\n",
    "   \n",
    "    df_features = pd.merge(df_gender, df_mcc_amount_plus.drop('amount', axis=1)\n",
    "                           , on='customer_id', how='left')\n",
    "    df_features = pd.merge(df_features, df_mcc_amount_minus.drop('amount', axis=1)\n",
    "                           , on='customer_id', how='left')\n",
    "    df_features = pd.merge(df_features, df_tr_amount_plus.drop('amount', axis=1)\n",
    "                           , on='customer_id', how='left')\n",
    "    df_features = pd.merge(df_features, df_tr_amount_minus.drop('amount', axis=1)\n",
    "                           , on='customer_id', how='left')\n",
    "    df_features = pd.merge(df_features, df_amount_plus\n",
    "                           , on='customer_id', how='left')\n",
    "    df_features = pd.merge(df_features, df_amount_mean\n",
    "                           , on='customer_id', how='left')\n",
    "    df_features = pd.merge(df_features, df_amount_mean_plus\n",
    "                           , on='customer_id', how='left')\n",
    "    df_features = pd.merge(df_features, df_amount_mean_minus\n",
    "                           , on='customer_id', how='left')\n",
    "    df_features = pd.merge(df_features, df_mcc_vecs.drop('cnt', axis=1)\n",
    "                           , on='customer_id', how='left')\n",
    "    df_features = pd.merge(df_features, df_tr_vecs.drop('cnt', axis=1)\n",
    "                           , on='customer_id', how='left')\n",
    "    \n",
    "    \n",
    "    return df_features"
   ]
  },
  {
   "cell_type": "code",
   "execution_count": 68,
   "metadata": {
    "collapsed": false
   },
   "outputs": [
    {
     "name": "stderr",
     "output_type": "stream",
     "text": [
      "C:\\ProgramData\\Anaconda3\\lib\\site-packages\\ipykernel\\__main__.py:33: FutureWarning: Using 'rename_axis' to alter labels is deprecated. Use '.rename' instead\n",
      "C:\\ProgramData\\Anaconda3\\lib\\site-packages\\ipykernel\\__main__.py:42: FutureWarning: Using 'rename_axis' to alter labels is deprecated. Use '.rename' instead\n",
      "C:\\ProgramData\\Anaconda3\\lib\\site-packages\\ipykernel\\__main__.py:52: FutureWarning: Using 'rename_axis' to alter labels is deprecated. Use '.rename' instead\n",
      "C:\\ProgramData\\Anaconda3\\lib\\site-packages\\ipykernel\\__main__.py:61: FutureWarning: Using 'rename_axis' to alter labels is deprecated. Use '.rename' instead\n",
      "C:\\ProgramData\\Anaconda3\\lib\\site-packages\\ipykernel\\__main__.py:14: DeprecationWarning: Call to deprecated `__getitem__` (Method will be removed in 4.0.0, use self.wv.__getitem__() instead).\n"
     ]
    },
    {
     "name": "stdout",
     "output_type": "stream",
     "text": [
      "Wall time: 2min 48s\n"
     ]
    }
   ],
   "source": [
    "%%time\n",
    "df_features = df_gender.pipe(gen_features_2, df_transactions)\n",
    "df_features = df_features.drop('customer_id', axis=1).copy()\n",
    "label = 'gender'\n",
    "idx_features = df_features.columns != label\n",
    "X = df_features.loc[:, idx_features].fillna(0).values\n",
    "y = df_features.loc[:, ~idx_features].values.flatten()"
   ]
  },
  {
   "cell_type": "markdown",
   "metadata": {},
   "source": [
    "## Поиск гиперпараметров"
   ]
  },
  {
   "cell_type": "markdown",
   "metadata": {},
   "source": [
    "Реализуйте функцию для hyperopt по перебору гипер параметров вашего пайплайна\n",
    "\n",
    "На всякий случай почитайте еще про [`FeatureUnion`](http://scikit-learn.org/stable/modules/generated/sklearn.pipeline.FeatureUnion.html) и [пример](http://scikit-learn.org/stable/auto_examples/hetero_feature_union.html#sphx-glr-auto-examples-hetero-feature-union-py)"
   ]
  },
  {
   "cell_type": "code",
   "execution_count": 69,
   "metadata": {
    "collapsed": true
   },
   "outputs": [],
   "source": [
    "# А это трансформер, который выбирает подможнество столбцов из матрицы X\n",
    "# Который нужен для того, чтобы делать какие-то действия только для подмноества столбцов, а потом объединять результаты\n",
    "# Через FeatureUnion\n",
    "\n",
    "from sklearn.base import BaseEstimator, TransformerMixin\n",
    "\n",
    "class ColumnSelector(BaseEstimator, TransformerMixin):\n",
    "    def __init__(self, col_idx):\n",
    "        self.col_idx = col_idx\n",
    "    \n",
    "    def fit(self, X, y=None):\n",
    "        return self\n",
    "\n",
    "    def transform(self, X):\n",
    "        return X[:, self.col_idx]"
   ]
  },
  {
   "cell_type": "code",
   "execution_count": 70,
   "metadata": {
    "collapsed": true
   },
   "outputs": [],
   "source": [
    "from sklearn.tree import DecisionTreeClassifier\n",
    "\n",
    "def run_trials_template(X, y, params, evals=100):\n",
    "\n",
    "    def hyperopt_cv(X, y, params):\n",
    "        \n",
    "        X_ = X.copy()\n",
    "        \n",
    "        tr_params = {}\n",
    "        for k, v in params.items():\n",
    "            if k.startswith('glob'):\n",
    "                continue                \n",
    "            elif k.startswith('tr'):\n",
    "                tr_params[k.split('_', 1)[1]] = v\n",
    "        \n",
    "        \n",
    "        scaler = StandardScaler(with_mean=False)\n",
    "        \n",
    "        clf = DecisionTreeClassifier(**tr_params)\n",
    "        \n",
    "        model = Pipeline([\n",
    "            ('scaler', scaler),\n",
    "            ('clf', clf)\n",
    "        ])\n",
    "\n",
    "        n_splits = 5\n",
    "        cv = StratifiedKFold(n_splits=n_splits, shuffle=True, \n",
    "                             random_state=RND_SEED)\n",
    "        scores = cross_val_score(model, X_, y,\n",
    "                                 scoring='roc_auc', \n",
    "                                 cv=cv)\n",
    "\n",
    "        return scores.mean(), scores.std()\n",
    "\n",
    "    def f(params):\n",
    "        acc, std = hyperopt_cv(X, y, params)\n",
    "        return {'loss': -acc, 'qscore': -acc, 'qscore_std': std, 'status': STATUS_OK}\n",
    "\n",
    "    trials = Trials()\n",
    "    best = fmin(f, \n",
    "                params, \n",
    "                algo=tpe.suggest, \n",
    "                max_evals=evals, \n",
    "                trials=trials)\n",
    "    \n",
    "    return trials"
   ]
  },
  {
   "cell_type": "code",
   "execution_count": 71,
   "metadata": {
    "collapsed": false
   },
   "outputs": [
    {
     "name": "stdout",
     "output_type": "stream",
     "text": [
      "Wall time: 35min 59s\n"
     ]
    }
   ],
   "source": [
    "%%time\n",
    "space4_tr = {\n",
    "    'tr_criterion': hp.choice('criterion', ['gini', 'entropy']),\n",
    "    'tr_max_depth':hp.choice('max_depth', list(range(2, 51))),\n",
    "    'tr_min_samples_leaf': hp.choice('min_samples_leaf', list(range(5, 51))),\n",
    "    'tr_class_weight': hp.choice('class_weight', [None, 'balanced']),\n",
    "    'tr_random_state': RND_SEED\n",
    "}\n",
    "trials = run_trials_template(X, y, space4_tr, evals=100)\n",
    "df_trials = trials_df(trials)"
   ]
  },
  {
   "cell_type": "code",
   "execution_count": 72,
   "metadata": {
    "collapsed": false
   },
   "outputs": [
    {
     "data": {
      "text/html": [
       "<div>\n",
       "<style scoped>\n",
       "    .dataframe tbody tr th:only-of-type {\n",
       "        vertical-align: middle;\n",
       "    }\n",
       "\n",
       "    .dataframe tbody tr th {\n",
       "        vertical-align: top;\n",
       "    }\n",
       "\n",
       "    .dataframe thead th {\n",
       "        text-align: right;\n",
       "    }\n",
       "</style>\n",
       "<table border=\"1\" class=\"dataframe\">\n",
       "  <thead>\n",
       "    <tr style=\"text-align: right;\">\n",
       "      <th></th>\n",
       "      <th>class_weight</th>\n",
       "      <th>criterion</th>\n",
       "      <th>max_depth</th>\n",
       "      <th>min_samples_leaf</th>\n",
       "      <th>qscore</th>\n",
       "      <th>qscore_std</th>\n",
       "    </tr>\n",
       "  </thead>\n",
       "  <tbody>\n",
       "    <tr>\n",
       "      <th>50</th>\n",
       "      <td>1</td>\n",
       "      <td>0</td>\n",
       "      <td>7</td>\n",
       "      <td>43</td>\n",
       "      <td>0.776633</td>\n",
       "      <td>-0.011898</td>\n",
       "    </tr>\n",
       "    <tr>\n",
       "      <th>65</th>\n",
       "      <td>1</td>\n",
       "      <td>0</td>\n",
       "      <td>7</td>\n",
       "      <td>43</td>\n",
       "      <td>0.776633</td>\n",
       "      <td>-0.011898</td>\n",
       "    </tr>\n",
       "    <tr>\n",
       "      <th>51</th>\n",
       "      <td>1</td>\n",
       "      <td>0</td>\n",
       "      <td>7</td>\n",
       "      <td>43</td>\n",
       "      <td>0.776633</td>\n",
       "      <td>-0.011898</td>\n",
       "    </tr>\n",
       "    <tr>\n",
       "      <th>53</th>\n",
       "      <td>1</td>\n",
       "      <td>0</td>\n",
       "      <td>7</td>\n",
       "      <td>43</td>\n",
       "      <td>0.776633</td>\n",
       "      <td>-0.011898</td>\n",
       "    </tr>\n",
       "    <tr>\n",
       "      <th>54</th>\n",
       "      <td>1</td>\n",
       "      <td>0</td>\n",
       "      <td>7</td>\n",
       "      <td>43</td>\n",
       "      <td>0.776633</td>\n",
       "      <td>-0.011898</td>\n",
       "    </tr>\n",
       "    <tr>\n",
       "      <th>48</th>\n",
       "      <td>1</td>\n",
       "      <td>0</td>\n",
       "      <td>5</td>\n",
       "      <td>43</td>\n",
       "      <td>0.775700</td>\n",
       "      <td>-0.010228</td>\n",
       "    </tr>\n",
       "    <tr>\n",
       "      <th>80</th>\n",
       "      <td>1</td>\n",
       "      <td>0</td>\n",
       "      <td>7</td>\n",
       "      <td>36</td>\n",
       "      <td>0.775258</td>\n",
       "      <td>-0.010946</td>\n",
       "    </tr>\n",
       "    <tr>\n",
       "      <th>29</th>\n",
       "      <td>0</td>\n",
       "      <td>0</td>\n",
       "      <td>5</td>\n",
       "      <td>41</td>\n",
       "      <td>0.774348</td>\n",
       "      <td>-0.009026</td>\n",
       "    </tr>\n",
       "    <tr>\n",
       "      <th>26</th>\n",
       "      <td>0</td>\n",
       "      <td>0</td>\n",
       "      <td>5</td>\n",
       "      <td>41</td>\n",
       "      <td>0.774348</td>\n",
       "      <td>-0.009026</td>\n",
       "    </tr>\n",
       "    <tr>\n",
       "      <th>72</th>\n",
       "      <td>1</td>\n",
       "      <td>0</td>\n",
       "      <td>8</td>\n",
       "      <td>40</td>\n",
       "      <td>0.773615</td>\n",
       "      <td>-0.011886</td>\n",
       "    </tr>\n",
       "  </tbody>\n",
       "</table>\n",
       "</div>"
      ],
      "text/plain": [
       "    class_weight  criterion  max_depth  min_samples_leaf    qscore  qscore_std\n",
       "50             1          0          7                43  0.776633   -0.011898\n",
       "65             1          0          7                43  0.776633   -0.011898\n",
       "51             1          0          7                43  0.776633   -0.011898\n",
       "53             1          0          7                43  0.776633   -0.011898\n",
       "54             1          0          7                43  0.776633   -0.011898\n",
       "48             1          0          5                43  0.775700   -0.010228\n",
       "80             1          0          7                36  0.775258   -0.010946\n",
       "29             0          0          5                41  0.774348   -0.009026\n",
       "26             0          0          5                41  0.774348   -0.009026\n",
       "72             1          0          8                40  0.773615   -0.011886"
      ]
     },
     "execution_count": 72,
     "metadata": {},
     "output_type": "execute_result"
    }
   ],
   "source": [
    "df_trials.head(10)"
   ]
  },
  {
   "cell_type": "code",
   "execution_count": 73,
   "metadata": {
    "collapsed": false
   },
   "outputs": [
    {
     "name": "stdout",
     "output_type": "stream",
     "text": [
      "Wall time: 1h 22min 20s\n"
     ]
    }
   ],
   "source": [
    "%%time\n",
    "def run_trials_template(X, y, params, evals=100):\n",
    "\n",
    "    def hyperopt_cv(X, y, params):\n",
    "        \n",
    "        X_ = X.copy()\n",
    "        \n",
    "        # Отделяем параметры лог регрессии в отдельный словарь\n",
    "        lm_params = {}\n",
    "        for k, v in params.items():\n",
    "            if k.startswith('glob'):\n",
    "                continue                \n",
    "            elif k.startswith('lm'):\n",
    "                lm_params[k.split('_', 1)[1]] = v\n",
    "        \n",
    "        # Задаем шкалирование\n",
    "        if params['scaler_type'] == 'standart':\n",
    "            scaler = StandardScaler(with_mean=params['scaler_centering'])\n",
    "        else:\n",
    "            assert params['scaler_type'] == 'robust'\n",
    "            scaler = RobustScaler(with_centering=params['scaler_centering'])\n",
    "        \n",
    "        # Создаем лог рег с нужными параметрами\n",
    "        clf = LogisticRegression(**lm_params)\n",
    "        \n",
    "        # Итоговый пайплайн\n",
    "        model = Pipeline([\n",
    "            ('scaler', scaler),\n",
    "            ('clf', clf)\n",
    "        ])\n",
    "\n",
    "        # Схема кросс-валидации\n",
    "        n_splits = 5\n",
    "        cv = StratifiedKFold(n_splits=n_splits, shuffle=True, \n",
    "                             random_state=RND_SEED)\n",
    "        scores = cross_val_score(model, X_, y,\n",
    "                                 scoring='roc_auc', \n",
    "                                 cv=cv,\n",
    "                                 n_jobs=-1\n",
    "                                )\n",
    "\n",
    "        # Возвращаем среднее значение метрики и отклонение (на всякий случай)\n",
    "        return scores.mean(), scores.std()\n",
    "\n",
    "    def f(params):\n",
    "        acc, std = hyperopt_cv(X, y, params)\n",
    "        return {'loss': -acc, 'qscore': -acc, 'qscore_std': std, 'status': STATUS_OK}\n",
    "\n",
    "    trials = Trials()\n",
    "    best = fmin(f, \n",
    "                params, \n",
    "                algo=tpe.suggest, \n",
    "                max_evals=evals, \n",
    "                trials=trials, \n",
    "                verbose=1)\n",
    "    \n",
    "    return trials\n",
    "\n",
    "\n",
    "space4_lm = {\n",
    "    'lm_penalty': hp.choice('penalty', ['l1', 'l2']),\n",
    "    'lm_C': hp.loguniform('C', -5, 3),\n",
    "    'lm_class_weight': hp.choice('class_weight', [None, 'balanced']),\n",
    "    'lm_random_state': RND_SEED,\n",
    "    'scaler_type': hp.choice('scaler_type', ['standart', 'robust']),\n",
    "    'scaler_centering': hp.choice('scaler_centering', [False, True])\n",
    "}\n",
    "trials = run_trials_template(X, y, space4_lm, evals=100)\n",
    "df_trials = trials_df(trials)"
   ]
  },
  {
   "cell_type": "code",
   "execution_count": 74,
   "metadata": {
    "collapsed": false
   },
   "outputs": [
    {
     "data": {
      "text/html": [
       "<div>\n",
       "<style scoped>\n",
       "    .dataframe tbody tr th:only-of-type {\n",
       "        vertical-align: middle;\n",
       "    }\n",
       "\n",
       "    .dataframe tbody tr th {\n",
       "        vertical-align: top;\n",
       "    }\n",
       "\n",
       "    .dataframe thead th {\n",
       "        text-align: right;\n",
       "    }\n",
       "</style>\n",
       "<table border=\"1\" class=\"dataframe\">\n",
       "  <thead>\n",
       "    <tr style=\"text-align: right;\">\n",
       "      <th></th>\n",
       "      <th>C</th>\n",
       "      <th>class_weight</th>\n",
       "      <th>penalty</th>\n",
       "      <th>qscore</th>\n",
       "      <th>qscore_std</th>\n",
       "      <th>scaler_centering</th>\n",
       "      <th>scaler_type</th>\n",
       "    </tr>\n",
       "  </thead>\n",
       "  <tbody>\n",
       "    <tr>\n",
       "      <th>65</th>\n",
       "      <td>0.263082</td>\n",
       "      <td>0</td>\n",
       "      <td>0</td>\n",
       "      <td>0.832750</td>\n",
       "      <td>-0.006436</td>\n",
       "      <td>0</td>\n",
       "      <td>1</td>\n",
       "    </tr>\n",
       "    <tr>\n",
       "      <th>83</th>\n",
       "      <td>0.170366</td>\n",
       "      <td>1</td>\n",
       "      <td>0</td>\n",
       "      <td>0.832696</td>\n",
       "      <td>-0.006694</td>\n",
       "      <td>0</td>\n",
       "      <td>1</td>\n",
       "    </tr>\n",
       "    <tr>\n",
       "      <th>72</th>\n",
       "      <td>0.295031</td>\n",
       "      <td>0</td>\n",
       "      <td>0</td>\n",
       "      <td>0.832657</td>\n",
       "      <td>-0.006328</td>\n",
       "      <td>0</td>\n",
       "      <td>1</td>\n",
       "    </tr>\n",
       "    <tr>\n",
       "      <th>61</th>\n",
       "      <td>0.259693</td>\n",
       "      <td>1</td>\n",
       "      <td>0</td>\n",
       "      <td>0.832656</td>\n",
       "      <td>-0.006247</td>\n",
       "      <td>1</td>\n",
       "      <td>1</td>\n",
       "    </tr>\n",
       "    <tr>\n",
       "      <th>36</th>\n",
       "      <td>0.252596</td>\n",
       "      <td>0</td>\n",
       "      <td>0</td>\n",
       "      <td>0.832643</td>\n",
       "      <td>-0.006473</td>\n",
       "      <td>1</td>\n",
       "      <td>1</td>\n",
       "    </tr>\n",
       "    <tr>\n",
       "      <th>63</th>\n",
       "      <td>0.268817</td>\n",
       "      <td>0</td>\n",
       "      <td>0</td>\n",
       "      <td>0.832633</td>\n",
       "      <td>-0.006525</td>\n",
       "      <td>0</td>\n",
       "      <td>1</td>\n",
       "    </tr>\n",
       "    <tr>\n",
       "      <th>39</th>\n",
       "      <td>0.201205</td>\n",
       "      <td>1</td>\n",
       "      <td>0</td>\n",
       "      <td>0.832630</td>\n",
       "      <td>-0.006364</td>\n",
       "      <td>1</td>\n",
       "      <td>1</td>\n",
       "    </tr>\n",
       "    <tr>\n",
       "      <th>33</th>\n",
       "      <td>0.218772</td>\n",
       "      <td>0</td>\n",
       "      <td>0</td>\n",
       "      <td>0.832598</td>\n",
       "      <td>-0.006446</td>\n",
       "      <td>1</td>\n",
       "      <td>1</td>\n",
       "    </tr>\n",
       "    <tr>\n",
       "      <th>60</th>\n",
       "      <td>0.176105</td>\n",
       "      <td>0</td>\n",
       "      <td>0</td>\n",
       "      <td>0.832597</td>\n",
       "      <td>-0.006801</td>\n",
       "      <td>0</td>\n",
       "      <td>1</td>\n",
       "    </tr>\n",
       "    <tr>\n",
       "      <th>31</th>\n",
       "      <td>0.264545</td>\n",
       "      <td>0</td>\n",
       "      <td>0</td>\n",
       "      <td>0.832571</td>\n",
       "      <td>-0.006439</td>\n",
       "      <td>1</td>\n",
       "      <td>1</td>\n",
       "    </tr>\n",
       "  </tbody>\n",
       "</table>\n",
       "</div>"
      ],
      "text/plain": [
       "           C  class_weight  penalty    qscore  qscore_std  scaler_centering  \\\n",
       "65  0.263082             0        0  0.832750   -0.006436                 0   \n",
       "83  0.170366             1        0  0.832696   -0.006694                 0   \n",
       "72  0.295031             0        0  0.832657   -0.006328                 0   \n",
       "61  0.259693             1        0  0.832656   -0.006247                 1   \n",
       "36  0.252596             0        0  0.832643   -0.006473                 1   \n",
       "63  0.268817             0        0  0.832633   -0.006525                 0   \n",
       "39  0.201205             1        0  0.832630   -0.006364                 1   \n",
       "33  0.218772             0        0  0.832598   -0.006446                 1   \n",
       "60  0.176105             0        0  0.832597   -0.006801                 0   \n",
       "31  0.264545             0        0  0.832571   -0.006439                 1   \n",
       "\n",
       "    scaler_type  \n",
       "65            1  \n",
       "83            1  \n",
       "72            1  \n",
       "61            1  \n",
       "36            1  \n",
       "63            1  \n",
       "39            1  \n",
       "33            1  \n",
       "60            1  \n",
       "31            1  "
      ]
     },
     "execution_count": 74,
     "metadata": {},
     "output_type": "execute_result"
    }
   ],
   "source": [
    "df_trials.head(10)"
   ]
  }
 ],
 "metadata": {
  "anaconda-cloud": {},
  "kernelspec": {
   "display_name": "Python 3",
   "language": "python",
   "name": "python3"
  },
  "language_info": {
   "codemirror_mode": {
    "name": "ipython",
    "version": 3
   },
   "file_extension": ".py",
   "mimetype": "text/x-python",
   "name": "python",
   "nbconvert_exporter": "python",
   "pygments_lexer": "ipython3",
   "version": "3.6.0"
  },
  "nav_menu": {},
  "toc": {
   "colors": {
    "hover_highlight": "#DAA520",
    "navigate_num": "#000000",
    "navigate_text": "#333333",
    "running_highlight": "#FF0000",
    "selected_highlight": "#FFD700",
    "sidebar_border": "#EEEEEE",
    "wrapper_background": "#FFFFFF"
   },
   "moveMenuLeft": true,
   "nav_menu": {
    "height": "347px",
    "width": "253px"
   },
   "navigate_menu": true,
   "number_sections": false,
   "sideBar": true,
   "threshold": 4,
   "toc_cell": true,
   "toc_position": {
    "height": "222px",
    "left": "0px",
    "right": "1247.33px",
    "top": "108px",
    "width": "182px"
   },
   "toc_section_display": "block",
   "toc_window_display": true,
   "widenNotebook": false
  },
  "toc_position": {
   "height": "40px",
   "left": "816px",
   "right": "38.6667px",
   "top": "0px",
   "width": "212px"
  }
 },
 "nbformat": 4,
 "nbformat_minor": 1
}
